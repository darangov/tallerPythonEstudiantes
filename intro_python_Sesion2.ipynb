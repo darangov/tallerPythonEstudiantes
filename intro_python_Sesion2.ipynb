{
 "cells": [
  {
   "cell_type": "markdown",
   "metadata": {
    "colab_type": "text",
    "id": "b26P8oMQ6tmN"
   },
   "source": [
    "# Introducción a python para Machine Learning\n",
    "En este cuaderno exploraremos rápidamente el lenguaje de programación Python. No se entrará en profundidad, pero se mostrará todo lo que hay por aprender. \n",
    "\n",
    "Todo lo que está acá se puede ampliar en:\n",
    "\n",
    "\n",
    "*   https://www.tutorialspoint.com/python3/index.htm\n",
    "*   https://www.tutorialspoint.com/numpy/\n",
    "*   https://www.tutorialspoint.com/python_pandas/index.htm\n",
    "*   https://www.google.com/\n",
    "\n",
    "\n",
    "\n",
    "**Nota:** recordar que usaremos Python 3.6"
   ]
  },
  {
   "cell_type": "markdown",
   "metadata": {
    "colab_type": "text",
    "id": "2dBjxQHFF2ym"
   },
   "source": [
    "**Instalación:**\n",
    "* Lo más fácil: instalar Anaconda (https://anaconda.org/anaconda/python)\n",
    "* Lo recomendado: instalar Python (https://www.python.org/) y usar [Virtualenv](https://virtualenv.pypa.io/en/stable/)\n",
    "\n",
    "Para más información, consulte [esta guía](https://drive.google.com/open?id=1aIaArcdHWusDfGmO4BvRzBDoWH8RSPr-) (advertencia: tiene varios errores de ortografía) o cualquier otra guía en internet."
   ]
  },
  {
   "cell_type": "markdown",
   "metadata": {
    "colab_type": "text",
    "id": "2XzVsBGM9K6r"
   },
   "source": [
    "## Lo estándar"
   ]
  },
  {
   "cell_type": "markdown",
   "metadata": {
    "colab_type": "text",
    "id": "tsLw7W8B--sQ"
   },
   "source": [
    "**Imprimir mensajes**"
   ]
  },
  {
   "cell_type": "code",
   "execution_count": 3,
   "metadata": {
    "colab": {
     "base_uri": "https://localhost:8080/",
     "height": 34
    },
    "colab_type": "code",
    "executionInfo": {
     "elapsed": 384,
     "status": "ok",
     "timestamp": 1538697112119,
     "user": {
      "displayName": "Sebastian Rodriguez Colina",
      "photoUrl": "",
      "userId": "15883086893181703875"
     },
     "user_tz": 300
    },
    "id": "mLY-Nauc6tJo",
    "outputId": "f25df993-a071-418d-9f30-0638a4675263"
   },
   "outputs": [
    {
     "name": "stdout",
     "output_type": "stream",
     "text": [
      "Este es un mensaje para saludar al mundo: hola mundo!\n"
     ]
    }
   ],
   "source": [
    "print(\"Este es un mensaje para saludar al mundo: hola mundo!\")"
   ]
  },
  {
   "cell_type": "code",
   "execution_count": 5,
   "metadata": {
    "colab": {
     "base_uri": "https://localhost:8080/",
     "height": 34
    },
    "colab_type": "code",
    "executionInfo": {
     "elapsed": 466,
     "status": "ok",
     "timestamp": 1538697157328,
     "user": {
      "displayName": "Sebastian Rodriguez Colina",
      "photoUrl": "",
      "userId": "15883086893181703875"
     },
     "user_tz": 300
    },
    "id": "1cW1uzRr_GPO",
    "outputId": "d24b405a-c493-431c-addc-7dba0939a7db"
   },
   "outputs": [
    {
     "name": "stdout",
     "output_type": "stream",
     "text": [
      "También puededar mensajes en una variable para luego imprimirlos\n"
     ]
    }
   ],
   "source": [
    "msg = \"También puedes guardar mensajes en una variable para luego imprimirlos\"\n",
    "print(msg)"
   ]
  },
  {
   "cell_type": "markdown",
   "metadata": {
    "colab_type": "text",
    "id": "TThLf8gjAACi"
   },
   "source": [
    "** Operaciones matemáticas**"
   ]
  },
  {
   "cell_type": "code",
   "execution_count": 0,
   "metadata": {
    "colab": {},
    "colab_type": "code",
    "id": "lyTc_6xk_1lq"
   },
   "outputs": [],
   "source": [
    "a = 3\n",
    "b = 8"
   ]
  },
  {
   "cell_type": "markdown",
   "metadata": {
    "colab_type": "text",
    "id": "D9l0HFlTCA5t"
   },
   "source": [
    "multiplicación"
   ]
  },
  {
   "cell_type": "code",
   "execution_count": 9,
   "metadata": {
    "colab": {
     "base_uri": "https://localhost:8080/",
     "height": 34
    },
    "colab_type": "code",
    "executionInfo": {
     "elapsed": 452,
     "status": "ok",
     "timestamp": 1538697242438,
     "user": {
      "displayName": "Sebastian Rodriguez Colina",
      "photoUrl": "",
      "userId": "15883086893181703875"
     },
     "user_tz": 300
    },
    "id": "P_WHcFqt_1o1",
    "outputId": "e689213b-fe66-405a-cae6-79de526d7eb9"
   },
   "outputs": [
    {
     "data": {
      "text/plain": [
       "24"
      ]
     },
     "execution_count": 9,
     "metadata": {
      "tags": []
     },
     "output_type": "execute_result"
    }
   ],
   "source": [
    "a*b"
   ]
  },
  {
   "cell_type": "markdown",
   "metadata": {
    "colab_type": "text",
    "id": "q_0A1mqUCilI"
   },
   "source": [
    "potenciación"
   ]
  },
  {
   "cell_type": "code",
   "execution_count": 10,
   "metadata": {
    "colab": {
     "base_uri": "https://localhost:8080/",
     "height": 34
    },
    "colab_type": "code",
    "executionInfo": {
     "elapsed": 421,
     "status": "ok",
     "timestamp": 1538697316946,
     "user": {
      "displayName": "Sebastian Rodriguez Colina",
      "photoUrl": "",
      "userId": "15883086893181703875"
     },
     "user_tz": 300
    },
    "id": "F2InplD3_1r6",
    "outputId": "cd0b9764-58ce-494b-d296-1f614dd8c7af"
   },
   "outputs": [
    {
     "data": {
      "text/plain": [
       "6561"
      ]
     },
     "execution_count": 10,
     "metadata": {
      "tags": []
     },
     "output_type": "execute_result"
    }
   ],
   "source": [
    "a**b"
   ]
  },
  {
   "cell_type": "markdown",
   "metadata": {
    "colab_type": "text",
    "id": "-eXeA4oiCnx6"
   },
   "source": [
    "división"
   ]
  },
  {
   "cell_type": "code",
   "execution_count": 11,
   "metadata": {
    "colab": {
     "base_uri": "https://localhost:8080/",
     "height": 34
    },
    "colab_type": "code",
    "executionInfo": {
     "elapsed": 464,
     "status": "ok",
     "timestamp": 1538697355419,
     "user": {
      "displayName": "Sebastian Rodriguez Colina",
      "photoUrl": "",
      "userId": "15883086893181703875"
     },
     "user_tz": 300
    },
    "id": "h9QMYIdo_1vH",
    "outputId": "2e7c8db0-4a7d-466e-8cd1-ba63a292cce6"
   },
   "outputs": [
    {
     "data": {
      "text/plain": [
       "0.375"
      ]
     },
     "execution_count": 11,
     "metadata": {
      "tags": []
     },
     "output_type": "execute_result"
    }
   ],
   "source": [
    "a/b"
   ]
  },
  {
   "cell_type": "markdown",
   "metadata": {
    "colab_type": "text",
    "id": "F7R177cYDKZ9"
   },
   "source": [
    "módulo: si divido b entre a, cuánto me sobra?"
   ]
  },
  {
   "cell_type": "code",
   "execution_count": 12,
   "metadata": {
    "colab": {
     "base_uri": "https://localhost:8080/",
     "height": 34
    },
    "colab_type": "code",
    "executionInfo": {
     "elapsed": 387,
     "status": "ok",
     "timestamp": 1538697373792,
     "user": {
      "displayName": "Sebastian Rodriguez Colina",
      "photoUrl": "",
      "userId": "15883086893181703875"
     },
     "user_tz": 300
    },
    "id": "20NRrwzC_1yT",
    "outputId": "0975c212-5b95-4866-c319-0173531ee09d"
   },
   "outputs": [
    {
     "data": {
      "text/plain": [
       "2"
      ]
     },
     "execution_count": 12,
     "metadata": {
      "tags": []
     },
     "output_type": "execute_result"
    }
   ],
   "source": [
    "b%a"
   ]
  },
  {
   "cell_type": "markdown",
   "metadata": {
    "colab_type": "text",
    "id": "cUTnhlBiEQbS"
   },
   "source": [
    "cociente: cuántas partes enteras de a caben en b"
   ]
  },
  {
   "cell_type": "code",
   "execution_count": 13,
   "metadata": {
    "colab": {
     "base_uri": "https://localhost:8080/",
     "height": 34
    },
    "colab_type": "code",
    "executionInfo": {
     "elapsed": 461,
     "status": "ok",
     "timestamp": 1538697397672,
     "user": {
      "displayName": "Sebastian Rodriguez Colina",
      "photoUrl": "",
      "userId": "15883086893181703875"
     },
     "user_tz": 300
    },
    "id": "9P3l9HtW_11F",
    "outputId": "29a2f82b-812b-4cd2-db22-60592ad8edcc"
   },
   "outputs": [
    {
     "data": {
      "text/plain": [
       "2"
      ]
     },
     "execution_count": 13,
     "metadata": {
      "tags": []
     },
     "output_type": "execute_result"
    }
   ],
   "source": [
    "b//a"
   ]
  },
  {
   "cell_type": "markdown",
   "metadata": {
    "colab_type": "text",
    "id": "tgc-OQ_WFNPu"
   },
   "source": [
    "Hay muchas más operaciones matemáticas. Puedes revisar el módulo [math](https://docs.python.org/3/library/math.html)"
   ]
  },
  {
   "cell_type": "code",
   "execution_count": 0,
   "metadata": {
    "colab": {},
    "colab_type": "code",
    "id": "V_VQToggFJWB"
   },
   "outputs": [],
   "source": [
    "import math"
   ]
  },
  {
   "cell_type": "code",
   "execution_count": 0,
   "metadata": {
    "colab": {
     "base_uri": "https://localhost:8080/",
     "height": 35
    },
    "colab_type": "code",
    "id": "_cvV2DigF0rD",
    "outputId": "8458f0f4-3741-47ed-fa5b-8821f61f4291"
   },
   "outputs": [
    {
     "data": {
      "text/plain": [
       "2.6457513110645907"
      ]
     },
     "execution_count": 10,
     "metadata": {
      "tags": []
     },
     "output_type": "execute_result"
    }
   ],
   "source": [
    "math.sqrt(b)"
   ]
  },
  {
   "cell_type": "markdown",
   "metadata": {
    "colab_type": "text",
    "id": "SICg2EGeJ1Rx"
   },
   "source": [
    "**Estructuras básicas**"
   ]
  },
  {
   "cell_type": "markdown",
   "metadata": {
    "colab_type": "text",
    "id": "aFbdY991J5zD"
   },
   "source": [
    "Listas"
   ]
  },
  {
   "cell_type": "code",
   "execution_count": 0,
   "metadata": {
    "colab": {
     "base_uri": "https://localhost:8080/",
     "height": 35
    },
    "colab_type": "code",
    "id": "D59XGPMZJ2Ej",
    "outputId": "cfdab498-5e56-4558-e777-08aa40a5de14"
   },
   "outputs": [
    {
     "data": {
      "text/plain": [
       "[2, 6, 7, 8]"
      ]
     },
     "execution_count": 11,
     "metadata": {
      "tags": []
     },
     "output_type": "execute_result"
    }
   ],
   "source": [
    "[2, 6, 7, 8]"
   ]
  },
  {
   "cell_type": "code",
   "execution_count": 0,
   "metadata": {
    "colab": {
     "base_uri": "https://localhost:8080/",
     "height": 35
    },
    "colab_type": "code",
    "id": "b0ftjF7XJ3IW",
    "outputId": "fe0f1ffb-c397-438d-ed02-51b65518920c"
   },
   "outputs": [
    {
     "data": {
      "text/plain": [
       "['a', 'b', 'c']"
      ]
     },
     "execution_count": 12,
     "metadata": {
      "tags": []
     },
     "output_type": "execute_result"
    }
   ],
   "source": [
    "['a', 'b', 'c']"
   ]
  },
  {
   "cell_type": "markdown",
   "metadata": {
    "colab_type": "text",
    "id": "tBR6He8WKu8a"
   },
   "source": [
    "Las listas pueden guardar cualquier cosa"
   ]
  },
  {
   "cell_type": "code",
   "execution_count": 0,
   "metadata": {
    "colab": {
     "base_uri": "https://localhost:8080/",
     "height": 35
    },
    "colab_type": "code",
    "id": "JyQ9WpnEJ3FG",
    "outputId": "4d058d9e-abb7-4182-e75c-5c9de8683055"
   },
   "outputs": [
    {
     "data": {
      "text/plain": [
       "[3, None, int, str, 'casa', 3.141592653589793]"
      ]
     },
     "execution_count": 13,
     "metadata": {
      "tags": []
     },
     "output_type": "execute_result"
    }
   ],
   "source": [
    "[3, None, int, str, \"casa\", math.pi]"
   ]
  },
  {
   "cell_type": "markdown",
   "metadata": {
    "colab_type": "text",
    "id": "JgtXE6t9Kxjt"
   },
   "source": [
    "incluso otras listas"
   ]
  },
  {
   "cell_type": "code",
   "execution_count": 0,
   "metadata": {
    "colab": {
     "base_uri": "https://localhost:8080/",
     "height": 35
    },
    "colab_type": "code",
    "id": "S9J8tF9IKiVU",
    "outputId": "4af916d2-47b6-470d-9227-c73b29e71020"
   },
   "outputs": [
    {
     "data": {
      "text/plain": [
       "[3, [4, 5, 6], 7, [8, 9]]"
      ]
     },
     "execution_count": 14,
     "metadata": {
      "tags": []
     },
     "output_type": "execute_result"
    }
   ],
   "source": [
    "[3, [4,5,6], 7, [8,9]]"
   ]
  },
  {
   "cell_type": "markdown",
   "metadata": {
    "colab_type": "text",
    "id": "92vLtu1RK8w9"
   },
   "source": [
    "A las listas se les pueden agregar elementos en cualquier momento"
   ]
  },
  {
   "cell_type": "code",
   "execution_count": 0,
   "metadata": {
    "colab": {},
    "colab_type": "code",
    "id": "1UFpzCzcKiIR"
   },
   "outputs": [],
   "source": [
    "lista = ['a', 'b', 'c', 'd', 'd', 'd']"
   ]
  },
  {
   "cell_type": "code",
   "execution_count": 0,
   "metadata": {
    "colab": {
     "base_uri": "https://localhost:8080/",
     "height": 35
    },
    "colab_type": "code",
    "id": "fn834wceLEKb",
    "outputId": "ab051083-8f40-456d-dab4-fc154eca606d"
   },
   "outputs": [
    {
     "data": {
      "text/plain": [
       "['a', 'b', 'c', 'd', 'd', 'd', 'otro caracter']"
      ]
     },
     "execution_count": 16,
     "metadata": {
      "tags": []
     },
     "output_type": "execute_result"
    }
   ],
   "source": [
    "lista.append('otro caracter')\n",
    "lista"
   ]
  },
  {
   "cell_type": "markdown",
   "metadata": {
    "colab_type": "text",
    "id": "PK-B4h9FNNH1"
   },
   "source": [
    "Se puede acceder a los elementos de una lista basado en el índice"
   ]
  },
  {
   "cell_type": "code",
   "execution_count": 0,
   "metadata": {
    "colab": {
     "base_uri": "https://localhost:8080/",
     "height": 35
    },
    "colab_type": "code",
    "id": "JGa4T6i-LD-2",
    "outputId": "77b23cfc-d6fa-4351-f6e5-b38a8a466f77"
   },
   "outputs": [
    {
     "data": {
      "text/plain": [
       "'a'"
      ]
     },
     "execution_count": 17,
     "metadata": {
      "tags": []
     },
     "output_type": "execute_result"
    }
   ],
   "source": [
    "lista[0]"
   ]
  },
  {
   "cell_type": "code",
   "execution_count": 0,
   "metadata": {
    "colab": {
     "base_uri": "https://localhost:8080/",
     "height": 35
    },
    "colab_type": "code",
    "id": "IAe5hcBjLD01",
    "outputId": "200ebd73-bd5e-492b-aa51-3c46915b8cbf"
   },
   "outputs": [
    {
     "data": {
      "text/plain": [
       "'b'"
      ]
     },
     "execution_count": 18,
     "metadata": {
      "tags": []
     },
     "output_type": "execute_result"
    }
   ],
   "source": [
    "lista[1]"
   ]
  },
  {
   "cell_type": "code",
   "execution_count": 0,
   "metadata": {
    "colab": {
     "base_uri": "https://localhost:8080/",
     "height": 35
    },
    "colab_type": "code",
    "id": "nFJmmVtkLDxi",
    "outputId": "1634337a-d3c5-4222-af75-38e29ead04b4"
   },
   "outputs": [
    {
     "data": {
      "text/plain": [
       "'otro caracter'"
      ]
     },
     "execution_count": 19,
     "metadata": {
      "tags": []
     },
     "output_type": "execute_result"
    }
   ],
   "source": [
    "lista[-1]"
   ]
  },
  {
   "cell_type": "code",
   "execution_count": 0,
   "metadata": {
    "colab": {
     "base_uri": "https://localhost:8080/",
     "height": 35
    },
    "colab_type": "code",
    "id": "6E4Q8hSdLDuY",
    "outputId": "38d11791-4d92-460b-c0a0-93377fb3fb50"
   },
   "outputs": [
    {
     "data": {
      "text/plain": [
       "['a', 'b']"
      ]
     },
     "execution_count": 20,
     "metadata": {
      "tags": []
     },
     "output_type": "execute_result"
    }
   ],
   "source": [
    "lista[:2]"
   ]
  },
  {
   "cell_type": "code",
   "execution_count": 0,
   "metadata": {
    "colab": {
     "base_uri": "https://localhost:8080/",
     "height": 35
    },
    "colab_type": "code",
    "id": "7WLqajkMNkyS",
    "outputId": "73080190-01c8-45a1-bc2e-8208f9c301ca"
   },
   "outputs": [
    {
     "data": {
      "text/plain": [
       "['c', 'd', 'd', 'd', 'otro caracter']"
      ]
     },
     "execution_count": 21,
     "metadata": {
      "tags": []
     },
     "output_type": "execute_result"
    }
   ],
   "source": [
    "lista[2:]"
   ]
  },
  {
   "cell_type": "code",
   "execution_count": 0,
   "metadata": {
    "colab": {
     "base_uri": "https://localhost:8080/",
     "height": 35
    },
    "colab_type": "code",
    "id": "dW3RcoS4Nk1g",
    "outputId": "9b5941a5-8940-4da8-9a37-84cfb5ff626d"
   },
   "outputs": [
    {
     "data": {
      "text/plain": [
       "['c', 'd']"
      ]
     },
     "execution_count": 22,
     "metadata": {
      "tags": []
     },
     "output_type": "execute_result"
    }
   ],
   "source": [
    "lista[2:4]"
   ]
  },
  {
   "cell_type": "code",
   "execution_count": 0,
   "metadata": {
    "colab": {},
    "colab_type": "code",
    "id": "Fb9ZypBVjlP4"
   },
   "outputs": [],
   "source": [
    "lista[2] = 25"
   ]
  },
  {
   "cell_type": "code",
   "execution_count": 17,
   "metadata": {
    "colab": {
     "base_uri": "https://localhost:8080/",
     "height": 34
    },
    "colab_type": "code",
    "executionInfo": {
     "elapsed": 411,
     "status": "ok",
     "timestamp": 1538698160521,
     "user": {
      "displayName": "Sebastian Rodriguez Colina",
      "photoUrl": "",
      "userId": "15883086893181703875"
     },
     "user_tz": 300
    },
    "id": "av6NYNYTjpsX",
    "outputId": "a3051755-28ab-4b94-8788-9c50564a9014"
   },
   "outputs": [
    {
     "data": {
      "text/plain": [
       "['nombre', ' apellido', 25, ' animal', ' fruta', ' color', ' cosa']"
      ]
     },
     "execution_count": 17,
     "metadata": {
      "tags": []
     },
     "output_type": "execute_result"
    }
   ],
   "source": [
    "lista"
   ]
  },
  {
   "cell_type": "markdown",
   "metadata": {
    "colab_type": "text",
    "id": "_x34z041N-tK"
   },
   "source": [
    "también podemos preguntar por el índice de un elemento particular de la lista"
   ]
  },
  {
   "cell_type": "code",
   "execution_count": 0,
   "metadata": {
    "colab": {
     "base_uri": "https://localhost:8080/",
     "height": 35
    },
    "colab_type": "code",
    "id": "7z1jaGtGNk47",
    "outputId": "d0761bd4-c45f-41a5-cbe5-13d50d3694ef"
   },
   "outputs": [
    {
     "data": {
      "text/plain": [
       "3"
      ]
     },
     "execution_count": 23,
     "metadata": {
      "tags": []
     },
     "output_type": "execute_result"
    }
   ],
   "source": [
    "lista.index('d')"
   ]
  },
  {
   "cell_type": "markdown",
   "metadata": {
    "colab_type": "text",
    "id": "2cxHl_AkOLin"
   },
   "source": [
    "adicionalmente, es posible pasar de un string con alguna separación entre elementos a una lista (piensa en un csv):"
   ]
  },
  {
   "cell_type": "code",
   "execution_count": 15,
   "metadata": {
    "colab": {
     "base_uri": "https://localhost:8080/",
     "height": 34
    },
    "colab_type": "code",
    "executionInfo": {
     "elapsed": 394,
     "status": "ok",
     "timestamp": 1538698007949,
     "user": {
      "displayName": "Sebastian Rodriguez Colina",
      "photoUrl": "",
      "userId": "15883086893181703875"
     },
     "user_tz": 300
    },
    "id": "pSzYDq5lNk8X",
    "outputId": "c41f27b4-ffa0-4eb3-d8f0-8135b1b12049"
   },
   "outputs": [
    {
     "data": {
      "text/plain": [
       "['nombre', ' apellido', ' ciudad', ' animal', ' fruta', ' color', ' cosa']"
      ]
     },
     "execution_count": 15,
     "metadata": {
      "tags": []
     },
     "output_type": "execute_result"
    }
   ],
   "source": [
    "lista = \"nombre, apellido, ciudad, animal, fruta, color, cosa\".split(',')\n",
    "lista"
   ]
  },
  {
   "cell_type": "markdown",
   "metadata": {
    "colab_type": "text",
    "id": "iOH5Srntetej"
   },
   "source": [
    "incluso podemos comparar las listas elemento por elemento"
   ]
  },
  {
   "cell_type": "code",
   "execution_count": 0,
   "metadata": {
    "colab": {
     "base_uri": "https://localhost:8080/",
     "height": 35
    },
    "colab_type": "code",
    "id": "yuuLTwv9eo8o",
    "outputId": "cad592ed-ce2a-41ea-a16c-2682a2d7d1e6"
   },
   "outputs": [
    {
     "data": {
      "text/plain": [
       "True"
      ]
     },
     "execution_count": 25,
     "metadata": {
      "tags": []
     },
     "output_type": "execute_result"
    }
   ],
   "source": [
    "['nombre', ' apellido', ' ciudad', ' animal', ' fruta', ' color', ' cosa'] == lista"
   ]
  },
  {
   "cell_type": "code",
   "execution_count": 0,
   "metadata": {
    "colab": {
     "base_uri": "https://localhost:8080/",
     "height": 35
    },
    "colab_type": "code",
    "id": "OBnYMWdKeyDj",
    "outputId": "2a6e6438-6388-479a-c54f-ef3ac941de26"
   },
   "outputs": [
    {
     "data": {
      "text/plain": [
       "False"
      ]
     },
     "execution_count": 26,
     "metadata": {
      "tags": []
     },
     "output_type": "execute_result"
    }
   ],
   "source": [
    "['nombre', ' apellido', ' ciudad', ' animal', ' fruta', ' color', ' cosota'] == lista"
   ]
  },
  {
   "cell_type": "markdown",
   "metadata": {
    "colab_type": "text",
    "id": "qLEJBUK1Z-x-"
   },
   "source": [
    "**tuplas**\n",
    "\n",
    "son casi como las listas, solo que no se pueden modificar"
   ]
  },
  {
   "cell_type": "code",
   "execution_count": 0,
   "metadata": {
    "colab": {
     "base_uri": "https://localhost:8080/",
     "height": 35
    },
    "colab_type": "code",
    "id": "wy-8_EOQZ9_I",
    "outputId": "8346d0cb-5ad1-4099-85ae-35f666fa6282"
   },
   "outputs": [
    {
     "data": {
      "text/plain": [
       "('casa', 'castillo', 400)"
      ]
     },
     "execution_count": 27,
     "metadata": {
      "tags": []
     },
     "output_type": "execute_result"
    }
   ],
   "source": [
    "tupla = ('casa', 'castillo', 400)\n",
    "tupla"
   ]
  },
  {
   "cell_type": "code",
   "execution_count": 0,
   "metadata": {
    "colab": {
     "base_uri": "https://localhost:8080/",
     "height": 169
    },
    "colab_type": "code",
    "id": "Cd1uYGQ5aKmY",
    "outputId": "f5b48a2a-38a2-425d-85cd-8be85ea46506"
   },
   "outputs": [
    {
     "ename": "TypeError",
     "evalue": "ignored",
     "output_type": "error",
     "traceback": [
      "\u001b[0;31m---------------------------------------------------------------------------\u001b[0m",
      "\u001b[0;31mTypeError\u001b[0m                                 Traceback (most recent call last)",
      "\u001b[0;32m<ipython-input-28-745a6a84947b>\u001b[0m in \u001b[0;36m<module>\u001b[0;34m()\u001b[0m\n\u001b[0;32m----> 1\u001b[0;31m \u001b[0mtupla\u001b[0m\u001b[0;34m[\u001b[0m\u001b[0;36m0\u001b[0m\u001b[0;34m]\u001b[0m \u001b[0;34m=\u001b[0m \u001b[0;36m20\u001b[0m\u001b[0;34m\u001b[0m\u001b[0m\n\u001b[0m",
      "\u001b[0;31mTypeError\u001b[0m: 'tuple' object does not support item assignment"
     ]
    }
   ],
   "source": [
    "tupla[0] = 20"
   ]
  },
  {
   "cell_type": "markdown",
   "metadata": {
    "colab_type": "text",
    "id": "sYuJZqd9aYmI"
   },
   "source": [
    "**diccionarios**\n",
    "\n",
    "Sirven para guardar valores (que pueden ser cualquier cosa: strings, números, listas, otros diccionarios, etc) y buscarlos utilizando una llave (que solo pueden ser valores inmutables).\n"
   ]
  },
  {
   "cell_type": "code",
   "execution_count": 18,
   "metadata": {
    "colab": {
     "base_uri": "https://localhost:8080/",
     "height": 34
    },
    "colab_type": "code",
    "executionInfo": {
     "elapsed": 415,
     "status": "ok",
     "timestamp": 1538698431727,
     "user": {
      "displayName": "Sebastian Rodriguez Colina",
      "photoUrl": "",
      "userId": "15883086893181703875"
     },
     "user_tz": 300
    },
    "id": "pa9sxoOsaRXv",
    "outputId": "5122c664-89b2-4555-90f9-ffcffd88dd5c"
   },
   "outputs": [
    {
     "data": {
      "text/plain": [
       "{'a': 1, 'b': 2, 'c': 3}"
      ]
     },
     "execution_count": 18,
     "metadata": {
      "tags": []
     },
     "output_type": "execute_result"
    }
   ],
   "source": [
    "d = {'a':1, 'b':2, 'c':3}\n",
    "d"
   ]
  },
  {
   "cell_type": "code",
   "execution_count": 23,
   "metadata": {
    "colab": {
     "base_uri": "https://localhost:8080/",
     "height": 34
    },
    "colab_type": "code",
    "executionInfo": {
     "elapsed": 515,
     "status": "ok",
     "timestamp": 1538698687894,
     "user": {
      "displayName": "Sebastian Rodriguez Colina",
      "photoUrl": "",
      "userId": "15883086893181703875"
     },
     "user_tz": 300
    },
    "id": "mXy4QAjoktUI",
    "outputId": "c43be459-dfbd-4e7a-e6f6-681b8640e35f"
   },
   "outputs": [
    {
     "data": {
      "text/plain": [
       "{'a': 1, 'b': 2, 'c': 3, 'o': 3}"
      ]
     },
     "execution_count": 23,
     "metadata": {
      "tags": []
     },
     "output_type": "execute_result"
    }
   ],
   "source": [
    "var = 'o'\n",
    "d = {'a':1, 'b':2, 'c':3, var: 3}\n",
    "d"
   ]
  },
  {
   "cell_type": "code",
   "execution_count": 31,
   "metadata": {
    "colab": {
     "base_uri": "https://localhost:8080/",
     "height": 34
    },
    "colab_type": "code",
    "executionInfo": {
     "elapsed": 398,
     "status": "ok",
     "timestamp": 1538698884298,
     "user": {
      "displayName": "Sebastian Rodriguez Colina",
      "photoUrl": "",
      "userId": "15883086893181703875"
     },
     "user_tz": 300
    },
    "id": "hSYs-dh-mT8u",
    "outputId": "795dbf8b-4e93-42d9-9852-127dd7c9e2cb"
   },
   "outputs": [
    {
     "data": {
      "text/plain": [
       "{'a': 3, 'b': 2, 'c': 3}"
      ]
     },
     "execution_count": 31,
     "metadata": {
      "tags": []
     },
     "output_type": "execute_result"
    }
   ],
   "source": [
    "d = {'a':1, 'b':2, 'c':3, 'a': 3}\n",
    "d"
   ]
  },
  {
   "cell_type": "code",
   "execution_count": 24,
   "metadata": {
    "colab": {
     "base_uri": "https://localhost:8080/",
     "height": 34
    },
    "colab_type": "code",
    "executionInfo": {
     "elapsed": 388,
     "status": "ok",
     "timestamp": 1538698688575,
     "user": {
      "displayName": "Sebastian Rodriguez Colina",
      "photoUrl": "",
      "userId": "15883086893181703875"
     },
     "user_tz": 300
    },
    "id": "d1rBradTbDmb",
    "outputId": "b51ba73a-b7c1-4683-b2f8-fa33658bdb98"
   },
   "outputs": [
    {
     "data": {
      "text/plain": [
       "2"
      ]
     },
     "execution_count": 24,
     "metadata": {
      "tags": []
     },
     "output_type": "execute_result"
    }
   ],
   "source": [
    "d['b']"
   ]
  },
  {
   "cell_type": "markdown",
   "metadata": {
    "colab_type": "text",
    "id": "PXxn75Rcbf8W"
   },
   "source": [
    "Están diseñados para ser accedidos mediante la llave, no se puede usar un índice; incluso el orden en el que se guardan no se garantiza."
   ]
  },
  {
   "cell_type": "code",
   "execution_count": 25,
   "metadata": {
    "colab": {
     "base_uri": "https://localhost:8080/",
     "height": 164
    },
    "colab_type": "code",
    "executionInfo": {
     "elapsed": 408,
     "status": "error",
     "timestamp": 1538698690052,
     "user": {
      "displayName": "Sebastian Rodriguez Colina",
      "photoUrl": "",
      "userId": "15883086893181703875"
     },
     "user_tz": 300
    },
    "id": "rKgtzuFBbDpI",
    "outputId": "45657fe9-116a-40e8-e1aa-bbff4b2b07cf"
   },
   "outputs": [
    {
     "ename": "KeyError",
     "evalue": "ignored",
     "output_type": "error",
     "traceback": [
      "\u001b[0;31m---------------------------------------------------------------------------\u001b[0m",
      "\u001b[0;31mKeyError\u001b[0m                                  Traceback (most recent call last)",
      "\u001b[0;32m<ipython-input-25-123a9cc6df61>\u001b[0m in \u001b[0;36m<module>\u001b[0;34m()\u001b[0m\n\u001b[0;32m----> 1\u001b[0;31m \u001b[0md\u001b[0m\u001b[0;34m[\u001b[0m\u001b[0;36m0\u001b[0m\u001b[0;34m]\u001b[0m\u001b[0;34m\u001b[0m\u001b[0m\n\u001b[0m",
      "\u001b[0;31mKeyError\u001b[0m: 0"
     ]
    }
   ],
   "source": [
    "d[0]"
   ]
  },
  {
   "cell_type": "code",
   "execution_count": 29,
   "metadata": {
    "colab": {
     "base_uri": "https://localhost:8080/",
     "height": 34
    },
    "colab_type": "code",
    "executionInfo": {
     "elapsed": 383,
     "status": "ok",
     "timestamp": 1538698832163,
     "user": {
      "displayName": "Sebastian Rodriguez Colina",
      "photoUrl": "",
      "userId": "15883086893181703875"
     },
     "user_tz": 300
    },
    "id": "wfLjWabvbDsF",
    "outputId": "aff9c3d6-d30f-491d-ff5d-1cbf742b691e"
   },
   "outputs": [
    {
     "data": {
      "text/plain": [
       "{('a', 'b'): 3, ('c', 'd'): 7, 'otro': 9}"
      ]
     },
     "execution_count": 29,
     "metadata": {
      "tags": []
     },
     "output_type": "execute_result"
    }
   ],
   "source": [
    "d = {('a','b'): 3, ('c', 'd'): 7, 'otro': 9}\n",
    "d"
   ]
  },
  {
   "cell_type": "code",
   "execution_count": 27,
   "metadata": {
    "colab": {
     "base_uri": "https://localhost:8080/",
     "height": 34
    },
    "colab_type": "code",
    "executionInfo": {
     "elapsed": 394,
     "status": "ok",
     "timestamp": 1538698715888,
     "user": {
      "displayName": "Sebastian Rodriguez Colina",
      "photoUrl": "",
      "userId": "15883086893181703875"
     },
     "user_tz": 300
    },
    "id": "lXjlVcDmlvHA",
    "outputId": "daaa4be5-2de7-4838-bcc9-1f014e4a9970"
   },
   "outputs": [
    {
     "data": {
      "text/plain": [
       "3"
      ]
     },
     "execution_count": 27,
     "metadata": {
      "tags": []
     },
     "output_type": "execute_result"
    }
   ],
   "source": [
    "d[('a', 'b')]"
   ]
  },
  {
   "cell_type": "code",
   "execution_count": 0,
   "metadata": {
    "colab": {
     "base_uri": "https://localhost:8080/",
     "height": 169
    },
    "colab_type": "code",
    "id": "A-LiY82tbDvA",
    "outputId": "d51a4b25-c840-4d7b-abb7-c878c43159ed"
   },
   "outputs": [
    {
     "ename": "TypeError",
     "evalue": "ignored",
     "output_type": "error",
     "traceback": [
      "\u001b[0;31m---------------------------------------------------------------------------\u001b[0m",
      "\u001b[0;31mTypeError\u001b[0m                                 Traceback (most recent call last)",
      "\u001b[0;32m<ipython-input-53-6a0632a9f282>\u001b[0m in \u001b[0;36m<module>\u001b[0;34m()\u001b[0m\n\u001b[0;32m----> 1\u001b[0;31m \u001b[0md\u001b[0m \u001b[0;34m=\u001b[0m \u001b[0;34m{\u001b[0m\u001b[0;34m[\u001b[0m\u001b[0;34m'a'\u001b[0m\u001b[0;34m,\u001b[0m\u001b[0;34m'b'\u001b[0m\u001b[0;34m]\u001b[0m\u001b[0;34m:\u001b[0m \u001b[0;36m3\u001b[0m\u001b[0;34m,\u001b[0m \u001b[0;34m(\u001b[0m\u001b[0;34m'c'\u001b[0m\u001b[0;34m,\u001b[0m \u001b[0;34m'd'\u001b[0m\u001b[0;34m)\u001b[0m\u001b[0;34m:\u001b[0m \u001b[0;36m7\u001b[0m\u001b[0;34m,\u001b[0m \u001b[0;34m'otro'\u001b[0m\u001b[0;34m:\u001b[0m \u001b[0;36m9\u001b[0m\u001b[0;34m}\u001b[0m\u001b[0;34m\u001b[0m\u001b[0m\n\u001b[0m",
      "\u001b[0;31mTypeError\u001b[0m: unhashable type: 'list'"
     ]
    }
   ],
   "source": [
    "d = {['a','b']: 3, ('c', 'd'): 7, 'otro': 9}"
   ]
  },
  {
   "cell_type": "markdown",
   "metadata": {
    "colab_type": "text",
    "id": "-V0Zj8ikF8B5"
   },
   "source": [
    "**Condicionales**"
   ]
  },
  {
   "cell_type": "code",
   "execution_count": 34,
   "metadata": {
    "colab": {
     "base_uri": "https://localhost:8080/",
     "height": 34
    },
    "colab_type": "code",
    "executionInfo": {
     "elapsed": 497,
     "status": "ok",
     "timestamp": 1538700885377,
     "user": {
      "displayName": "Sebastian Rodriguez Colina",
      "photoUrl": "",
      "userId": "15883086893181703875"
     },
     "user_tz": 300
    },
    "id": "d42VQovNuCVd",
    "outputId": "6984ae98-0bfd-4746-dc48-cc528216e64c"
   },
   "outputs": [
    {
     "name": "stdout",
     "output_type": "stream",
     "text": [
      "3 8\n"
     ]
    }
   ],
   "source": [
    "print(a, b)"
   ]
  },
  {
   "cell_type": "code",
   "execution_count": 32,
   "metadata": {
    "colab": {
     "base_uri": "https://localhost:8080/",
     "height": 34
    },
    "colab_type": "code",
    "executionInfo": {
     "elapsed": 417,
     "status": "ok",
     "timestamp": 1538700731122,
     "user": {
      "displayName": "Sebastian Rodriguez Colina",
      "photoUrl": "",
      "userId": "15883086893181703875"
     },
     "user_tz": 300
    },
    "id": "E3WSWkjfGUhn",
    "outputId": "cb463f6b-4b15-4ee2-9162-9d1c4514fbaa"
   },
   "outputs": [
    {
     "name": "stdout",
     "output_type": "stream",
     "text": [
      "b(8) es mayor que a(3)\n"
     ]
    }
   ],
   "source": [
    "if b > a:\n",
    "    print(\"b({}) es mayor que a({})\".format(b, a))"
   ]
  },
  {
   "cell_type": "code",
   "execution_count": 0,
   "metadata": {
    "colab": {},
    "colab_type": "code",
    "id": "85xt1dkjGUeZ"
   },
   "outputs": [],
   "source": [
    "if a > b:\n",
    "    print(\"a({}) es mayor que b({})\".format(a, b))"
   ]
  },
  {
   "cell_type": "code",
   "execution_count": 35,
   "metadata": {
    "colab": {
     "base_uri": "https://localhost:8080/",
     "height": 34
    },
    "colab_type": "code",
    "executionInfo": {
     "elapsed": 414,
     "status": "ok",
     "timestamp": 1538700947909,
     "user": {
      "displayName": "Sebastian Rodriguez Colina",
      "photoUrl": "",
      "userId": "15883086893181703875"
     },
     "user_tz": 300
    },
    "id": "qLZijwpnGUbt",
    "outputId": "b7ae0daa-8028-44a7-d892-044ca92ba4ce"
   },
   "outputs": [
    {
     "name": "stdout",
     "output_type": "stream",
     "text": [
      "a(3) NO es mayor que b(8)\n"
     ]
    }
   ],
   "source": [
    "if a > b:\n",
    "    print(\"a({}) es mayor que b({})\".format(a, b))\n",
    "else:\n",
    "    print(\"a({}) NO es mayor que b({})\".format(a, b))"
   ]
  },
  {
   "cell_type": "markdown",
   "metadata": {
    "colab_type": "text",
    "id": "uxwwqYaUXg-P"
   },
   "source": [
    "**Loops**\n",
    "\n",
    "Muchos objetos o typos de datos (de la librería estándar) se pueden iterar.\n",
    "\n",
    "Iterar sobre strings"
   ]
  },
  {
   "cell_type": "code",
   "execution_count": 37,
   "metadata": {
    "colab": {
     "base_uri": "https://localhost:8080/",
     "height": 120
    },
    "colab_type": "code",
    "executionInfo": {
     "elapsed": 384,
     "status": "ok",
     "timestamp": 1538701121573,
     "user": {
      "displayName": "Sebastian Rodriguez Colina",
      "photoUrl": "",
      "userId": "15883086893181703875"
     },
     "user_tz": 300
    },
    "id": "_qLKoes2GUYm",
    "outputId": "f1bf12af-61cf-4fdc-b89e-806fa45efd6b"
   },
   "outputs": [
    {
     "name": "stdout",
     "output_type": "stream",
     "text": [
      "a\n",
      "b\n",
      "c\n",
      "d\n",
      "e\n",
      "f\n"
     ]
    }
   ],
   "source": [
    "super_string = \"abcdef\"\n",
    "for ch in super_string:\n",
    "    print(ch)"
   ]
  },
  {
   "cell_type": "markdown",
   "metadata": {
    "colab_type": "text",
    "id": "EqIei4iuZ3qk"
   },
   "source": [
    "Iterar sobre listas"
   ]
  },
  {
   "cell_type": "code",
   "execution_count": 40,
   "metadata": {
    "colab": {
     "base_uri": "https://localhost:8080/",
     "height": 85
    },
    "colab_type": "code",
    "executionInfo": {
     "elapsed": 404,
     "status": "ok",
     "timestamp": 1538701223727,
     "user": {
      "displayName": "Sebastian Rodriguez Colina",
      "photoUrl": "",
      "userId": "15883086893181703875"
     },
     "user_tz": 300
    },
    "id": "dI8svW7yGUVa",
    "outputId": "d3694874-66d9-4103-db4c-e78aa90a9aeb"
   },
   "outputs": [
    {
     "name": "stdout",
     "output_type": "stream",
     "text": [
      "Mi\n",
      "nombre\n",
      "es\n",
      "3\n"
     ]
    }
   ],
   "source": [
    "lista = ['Mi', 'nombre', 'es', 3]\n",
    "for el in lista:\n",
    "    print(el)"
   ]
  },
  {
   "cell_type": "markdown",
   "metadata": {
    "colab_type": "text",
    "id": "iZm5-wuCd-8C"
   },
   "source": [
    "Algunos estarán familiarizados con la forma de iterar en otros lenguajes, acá les muestro cómo:"
   ]
  },
  {
   "cell_type": "code",
   "execution_count": 0,
   "metadata": {
    "colab": {
     "base_uri": "https://localhost:8080/",
     "height": 89
    },
    "colab_type": "code",
    "id": "S19DKxzoGUSW",
    "outputId": "84365dbf-f836-4484-dd96-32866bc1294b"
   },
   "outputs": [
    {
     "name": "stdout",
     "output_type": "stream",
     "text": [
      "Mi\n",
      "nombre\n",
      "es\n",
      "3\n"
     ]
    }
   ],
   "source": [
    "lista = ['Mi', 'nombre', 'es', 3]\n",
    "for i in range(len(lista)):\n",
    "    print(lista[i])"
   ]
  },
  {
   "cell_type": "markdown",
   "metadata": {
    "colab_type": "text",
    "id": "UoJLVZJNeRLm"
   },
   "source": [
    "pero la forma de python es definitivamente más chévere, sin contar con que en algunos casos esa forma no funcionaría, por ejemplo cuando se itera en diccionarios."
   ]
  },
  {
   "cell_type": "code",
   "execution_count": 0,
   "metadata": {
    "colab": {
     "base_uri": "https://localhost:8080/",
     "height": 71
    },
    "colab_type": "code",
    "id": "cJEiAvT1eE-3",
    "outputId": "4cbd20a7-7a6a-4aed-d451-4803c87d6c75"
   },
   "outputs": [
    {
     "name": "stdout",
     "output_type": "stream",
     "text": [
      "key: a, value: 1\n",
      "key: b, value: 2\n",
      "key: c, value: 3\n"
     ]
    }
   ],
   "source": [
    "d = {'a':1, 'b':2, 'c':3}\n",
    "for k in d:\n",
    "    print(\"key: {}, value: {}\".format(k, d[k]))"
   ]
  },
  {
   "cell_type": "code",
   "execution_count": 43,
   "metadata": {
    "colab": {
     "base_uri": "https://localhost:8080/",
     "height": 68
    },
    "colab_type": "code",
    "executionInfo": {
     "elapsed": 588,
     "status": "ok",
     "timestamp": 1538701515677,
     "user": {
      "displayName": "Sebastian Rodriguez Colina",
      "photoUrl": "",
      "userId": "15883086893181703875"
     },
     "user_tz": 300
    },
    "id": "c-A2WIE-wa4A",
    "outputId": "a573ddf2-9337-41ba-e39a-863bf26b9ed1"
   },
   "outputs": [
    {
     "name": "stdout",
     "output_type": "stream",
     "text": [
      "key: a, value: 1\n",
      "key: b, value: 2\n",
      "key: c, value: 3\n"
     ]
    }
   ],
   "source": [
    "d = {'a':1, 'b':2, 'c':3}\n",
    "for k in d.keys():\n",
    "    print(\"key: {}, value: {}\".format(k, d[k]))"
   ]
  },
  {
   "cell_type": "code",
   "execution_count": 42,
   "metadata": {
    "colab": {
     "base_uri": "https://localhost:8080/",
     "height": 34
    },
    "colab_type": "code",
    "executionInfo": {
     "elapsed": 388,
     "status": "ok",
     "timestamp": 1538701383603,
     "user": {
      "displayName": "Sebastian Rodriguez Colina",
      "photoUrl": "",
      "userId": "15883086893181703875"
     },
     "user_tz": 300
    },
    "id": "lMqRUL_vv4Pe",
    "outputId": "2414cd6f-bc42-4ff9-e77e-b9eb22eb3b83"
   },
   "outputs": [
    {
     "data": {
      "text/plain": [
       "dict_items([('a', 3), ('b', 2), ('c', 3)])"
      ]
     },
     "execution_count": 42,
     "metadata": {
      "tags": []
     },
     "output_type": "execute_result"
    }
   ],
   "source": [
    "d.items()"
   ]
  },
  {
   "cell_type": "code",
   "execution_count": 0,
   "metadata": {
    "colab": {
     "base_uri": "https://localhost:8080/",
     "height": 71
    },
    "colab_type": "code",
    "id": "vPplI2oyeE8R",
    "outputId": "dea43da4-d520-457a-9427-81ac443e05fd"
   },
   "outputs": [
    {
     "name": "stdout",
     "output_type": "stream",
     "text": [
      "key: a, value: 1\n",
      "key: b, value: 2\n",
      "key: c, value: 3\n"
     ]
    }
   ],
   "source": [
    "d = {'a':1, 'b':2, 'c':3}\n",
    "for k, v in d.items():\n",
    "    print(\"key: {}, value: {}\".format(k, v))"
   ]
  },
  {
   "cell_type": "code",
   "execution_count": 48,
   "metadata": {
    "colab": {
     "base_uri": "https://localhost:8080/",
     "height": 85
    },
    "colab_type": "code",
    "executionInfo": {
     "elapsed": 363,
     "status": "ok",
     "timestamp": 1538701957611,
     "user": {
      "displayName": "Sebastian Rodriguez Colina",
      "photoUrl": "",
      "userId": "15883086893181703875"
     },
     "user_tz": 300
    },
    "id": "Iy0045p4eE5I",
    "outputId": "0dee674a-37c4-4f1d-b55e-8f125ce92ad1"
   },
   "outputs": [
    {
     "name": "stdout",
     "output_type": "stream",
     "text": [
      "value: 1\n",
      "value: 2\n",
      "value: 3\n",
      "esto solo va una vez\n"
     ]
    }
   ],
   "source": [
    "d = {'a':1, 'b':2, 'c':3}\n",
    "for v in d.values():\n",
    "    print(\"value: {}\".format(v))\n",
    "print(\"esto solo va una vez\")"
   ]
  },
  {
   "cell_type": "code",
   "execution_count": 44,
   "metadata": {
    "colab": {
     "base_uri": "https://localhost:8080/",
     "height": 68
    },
    "colab_type": "code",
    "executionInfo": {
     "elapsed": 394,
     "status": "ok",
     "timestamp": 1538701742562,
     "user": {
      "displayName": "Sebastian Rodriguez Colina",
      "photoUrl": "",
      "userId": "15883086893181703875"
     },
     "user_tz": 300
    },
    "id": "X-E1N7knxPXV",
    "outputId": "9d941021-e2a9-459c-e311-008ee0977aae"
   },
   "outputs": [
    {
     "name": "stdout",
     "output_type": "stream",
     "text": [
      "0\n",
      "1\n",
      "2\n"
     ]
    }
   ],
   "source": [
    "for i in range(len(d)):\n",
    "    print(i)"
   ]
  },
  {
   "cell_type": "code",
   "execution_count": 45,
   "metadata": {
    "colab": {
     "base_uri": "https://localhost:8080/",
     "height": 164
    },
    "colab_type": "code",
    "executionInfo": {
     "elapsed": 376,
     "status": "error",
     "timestamp": 1538701754288,
     "user": {
      "displayName": "Sebastian Rodriguez Colina",
      "photoUrl": "",
      "userId": "15883086893181703875"
     },
     "user_tz": 300
    },
    "id": "w6OOQ4kMxW0j",
    "outputId": "afc50510-7a31-4385-ccd4-06c2e2a4de24"
   },
   "outputs": [
    {
     "ename": "KeyError",
     "evalue": "ignored",
     "output_type": "error",
     "traceback": [
      "\u001b[0;31m---------------------------------------------------------------------------\u001b[0m",
      "\u001b[0;31mKeyError\u001b[0m                                  Traceback (most recent call last)",
      "\u001b[0;32m<ipython-input-45-123a9cc6df61>\u001b[0m in \u001b[0;36m<module>\u001b[0;34m()\u001b[0m\n\u001b[0;32m----> 1\u001b[0;31m \u001b[0md\u001b[0m\u001b[0;34m[\u001b[0m\u001b[0;36m0\u001b[0m\u001b[0;34m]\u001b[0m\u001b[0;34m\u001b[0m\u001b[0m\n\u001b[0m",
      "\u001b[0;31mKeyError\u001b[0m: 0"
     ]
    }
   ],
   "source": [
    "d[0]"
   ]
  },
  {
   "cell_type": "code",
   "execution_count": 0,
   "metadata": {
    "colab": {
     "base_uri": "https://localhost:8080/",
     "height": 205
    },
    "colab_type": "code",
    "id": "Iq7Lddb_fbhJ",
    "outputId": "d659d433-0bba-4603-cda0-76b546d13f71"
   },
   "outputs": [
    {
     "ename": "KeyError",
     "evalue": "ignored",
     "output_type": "error",
     "traceback": [
      "\u001b[0;31m---------------------------------------------------------------------------\u001b[0m",
      "\u001b[0;31mKeyError\u001b[0m                                  Traceback (most recent call last)",
      "\u001b[0;32m<ipython-input-62-e879f578a578>\u001b[0m in \u001b[0;36m<module>\u001b[0;34m()\u001b[0m\n\u001b[1;32m      1\u001b[0m \u001b[0md\u001b[0m \u001b[0;34m=\u001b[0m \u001b[0;34m{\u001b[0m\u001b[0;34m'a'\u001b[0m\u001b[0;34m:\u001b[0m\u001b[0;36m1\u001b[0m\u001b[0;34m,\u001b[0m \u001b[0;34m'b'\u001b[0m\u001b[0;34m:\u001b[0m\u001b[0;36m2\u001b[0m\u001b[0;34m,\u001b[0m \u001b[0;34m'c'\u001b[0m\u001b[0;34m:\u001b[0m\u001b[0;36m3\u001b[0m\u001b[0;34m}\u001b[0m\u001b[0;34m\u001b[0m\u001b[0m\n\u001b[1;32m      2\u001b[0m \u001b[0;32mfor\u001b[0m \u001b[0mi\u001b[0m \u001b[0;32min\u001b[0m \u001b[0mrange\u001b[0m\u001b[0;34m(\u001b[0m\u001b[0mlen\u001b[0m\u001b[0;34m(\u001b[0m\u001b[0md\u001b[0m\u001b[0;34m)\u001b[0m\u001b[0;34m)\u001b[0m\u001b[0;34m:\u001b[0m\u001b[0;34m\u001b[0m\u001b[0m\n\u001b[0;32m----> 3\u001b[0;31m     \u001b[0mprint\u001b[0m\u001b[0;34m(\u001b[0m\u001b[0md\u001b[0m\u001b[0;34m[\u001b[0m\u001b[0mi\u001b[0m\u001b[0;34m]\u001b[0m\u001b[0;34m)\u001b[0m\u001b[0;34m\u001b[0m\u001b[0m\n\u001b[0m",
      "\u001b[0;31mKeyError\u001b[0m: 0"
     ]
    }
   ],
   "source": [
    "d = {'a':1, 'b':2, 'c':3}\n",
    "for i in range(len(d)):\n",
    "    print(d[i])"
   ]
  },
  {
   "cell_type": "markdown",
   "metadata": {
    "colab_type": "text",
    "id": "MNOOWKgzZ67q"
   },
   "source": [
    "**while**"
   ]
  },
  {
   "cell_type": "code",
   "execution_count": 46,
   "metadata": {
    "colab": {
     "base_uri": "https://localhost:8080/",
     "height": 85
    },
    "colab_type": "code",
    "executionInfo": {
     "elapsed": 399,
     "status": "ok",
     "timestamp": 1538701858147,
     "user": {
      "displayName": "Sebastian Rodriguez Colina",
      "photoUrl": "",
      "userId": "15883086893181703875"
     },
     "user_tz": 300
    },
    "id": "mq_H2cpmZ89E",
    "outputId": "47af9811-82e8-4e04-dead-fb384f912366"
   },
   "outputs": [
    {
     "name": "stdout",
     "output_type": "stream",
     "text": [
      "0\n",
      "1\n",
      "2\n",
      "3\n"
     ]
    }
   ],
   "source": [
    "a = 0\n",
    "while a <= 3:\n",
    "    print(a)\n",
    "    a += 1"
   ]
  },
  {
   "cell_type": "code",
   "execution_count": 47,
   "metadata": {
    "colab": {
     "base_uri": "https://localhost:8080/",
     "height": 85
    },
    "colab_type": "code",
    "executionInfo": {
     "elapsed": 468,
     "status": "ok",
     "timestamp": 1538701875767,
     "user": {
      "displayName": "Sebastian Rodriguez Colina",
      "photoUrl": "",
      "userId": "15883086893181703875"
     },
     "user_tz": 300
    },
    "id": "OO5tow5CxzjV",
    "outputId": "989fb226-800f-41f3-b4f6-184f3d430ec6"
   },
   "outputs": [
    {
     "name": "stdout",
     "output_type": "stream",
     "text": [
      "0\n",
      "1\n",
      "2\n",
      "3\n"
     ]
    }
   ],
   "source": [
    "a = 0\n",
    "while a <= 3:\n",
    "    print(a)\n",
    "    a = a + 1"
   ]
  },
  {
   "cell_type": "markdown",
   "metadata": {
    "colab_type": "text",
    "id": "Gk9hOfQ8gOsa"
   },
   "source": [
    "**funciones**\n",
    "\n",
    "Sin valores por defecto"
   ]
  },
  {
   "cell_type": "code",
   "execution_count": 54,
   "metadata": {
    "colab": {
     "base_uri": "https://localhost:8080/",
     "height": 120
    },
    "colab_type": "code",
    "executionInfo": {
     "elapsed": 526,
     "status": "ok",
     "timestamp": 1538702358938,
     "user": {
      "displayName": "Sebastian Rodriguez Colina",
      "photoUrl": "",
      "userId": "15883086893181703875"
     },
     "user_tz": 300
    },
    "id": "zOi0pIaWgONQ",
    "outputId": "7db2d9b2-c56e-4e22-c2e6-100b245f1bfe"
   },
   "outputs": [
    {
     "name": "stdout",
     "output_type": "stream",
     "text": [
      "el valor de a es 3:\n",
      "el valor de b es 4\n",
      "el valor de a es None:\n",
      "el valor de b es 50\n",
      "el valor de a es casa:\n",
      "el valor de b es 1\n"
     ]
    }
   ],
   "source": [
    "def una_funcion(a, b):\n",
    "    print(\"el valor de a es {}:\\nel valor de b es {}\".format(a,b))\n",
    "    \n",
    "una_funcion(3,4)\n",
    "una_funcion(None,50)\n",
    "una_funcion('casa', 1)"
   ]
  },
  {
   "cell_type": "markdown",
   "metadata": {
    "colab_type": "text",
    "id": "nf2eNk9qEDOd"
   },
   "source": [
    "Con valores por defecto"
   ]
  },
  {
   "cell_type": "code",
   "execution_count": 55,
   "metadata": {
    "colab": {
     "base_uri": "https://localhost:8080/",
     "height": 154
    },
    "colab_type": "code",
    "executionInfo": {
     "elapsed": 492,
     "status": "ok",
     "timestamp": 1538702399662,
     "user": {
      "displayName": "Sebastian Rodriguez Colina",
      "photoUrl": "",
      "userId": "15883086893181703875"
     },
     "user_tz": 300
    },
    "id": "wGIZOEgBhhiA",
    "outputId": "2202fc3d-fb89-4226-c9b9-3fb53a1390c7"
   },
   "outputs": [
    {
     "name": "stdout",
     "output_type": "stream",
     "text": [
      "el valor de a es 3:\n",
      "el valor de b es 4\n",
      "el valor de a es None:\n",
      "el valor de b es 50\n",
      "el valor de a es casa:\n",
      "el valor de b es 3\n",
      "el valor de a es amarillo:\n",
      "el valor de b es 3\n"
     ]
    }
   ],
   "source": [
    "def una_funcion(a, b=3):\n",
    "    print(\"el valor de a es {}:\\nel valor de b es {}\".format(a,b))\n",
    "    \n",
    "una_funcion(3,4)\n",
    "una_funcion(None,50)\n",
    "una_funcion('casa')\n",
    "una_funcion('amarillo')"
   ]
  },
  {
   "cell_type": "code",
   "execution_count": 64,
   "metadata": {
    "colab": {
     "base_uri": "https://localhost:8080/",
     "height": 34
    },
    "colab_type": "code",
    "executionInfo": {
     "elapsed": 390,
     "status": "ok",
     "timestamp": 1538702831097,
     "user": {
      "displayName": "Sebastian Rodriguez Colina",
      "photoUrl": "",
      "userId": "15883086893181703875"
     },
     "user_tz": 300
    },
    "id": "vi_rcs9kz-YV",
    "outputId": "aafa348a-6714-4182-8113-5ec02e8cc858"
   },
   "outputs": [
    {
     "name": "stdout",
     "output_type": "stream",
     "text": [
      "3 4 9\n"
     ]
    }
   ],
   "source": [
    "def fn(a,b,c):\n",
    "    print(a,b,c)\n",
    "    \n",
    "fn(3, 4, c=9)"
   ]
  },
  {
   "cell_type": "code",
   "execution_count": 2,
   "metadata": {},
   "outputs": [
    {
     "name": "stdout",
     "output_type": "stream",
     "text": [
      "1 4\n"
     ]
    }
   ],
   "source": [
    "def fn(a,b,c,d,e,f,g,h):\n",
    "    print(a,h)\n",
    "l = [1,2,3,4,5,67,7,4]\n",
    "fn(*l)"
   ]
  },
  {
   "cell_type": "code",
   "execution_count": 1,
   "metadata": {
    "colab": {
     "base_uri": "https://localhost:8080/",
     "height": 34
    },
    "colab_type": "code",
    "executionInfo": {
     "elapsed": 456,
     "status": "ok",
     "timestamp": 1538703011672,
     "user": {
      "displayName": "Sebastian Rodriguez Colina",
      "photoUrl": "",
      "userId": "15883086893181703875"
     },
     "user_tz": 300
    },
    "id": "Ciqj66l8z-KC",
    "outputId": "cdd304cb-c468-4698-d94c-655eb4126455"
   },
   "outputs": [
    {
     "name": "stdout",
     "output_type": "stream",
     "text": [
      "3 ('casa', 45)\n"
     ]
    }
   ],
   "source": [
    "def fn(a, *args):\n",
    "    print(a, args)\n",
    "    \n",
    "fn(3, 'casa', 45)"
   ]
  },
  {
   "cell_type": "code",
   "execution_count": 4,
   "metadata": {
    "colab": {
     "base_uri": "https://localhost:8080/",
     "height": 34
    },
    "colab_type": "code",
    "executionInfo": {
     "elapsed": 386,
     "status": "ok",
     "timestamp": 1538703265070,
     "user": {
      "displayName": "Sebastian Rodriguez Colina",
      "photoUrl": "",
      "userId": "15883086893181703875"
     },
     "user_tz": 300
    },
    "id": "F47Et6oEz92T",
    "outputId": "d2e3f00e-ae56-4ab9-c3dd-a0ceecc18b94"
   },
   "outputs": [
    {
     "name": "stdout",
     "output_type": "stream",
     "text": [
      "2 {}\n"
     ]
    }
   ],
   "source": [
    "def fn(a, **kwargs):\n",
    "    flag = kwargs.get('flag', None)\n",
    "    \n",
    "    if flag:\n",
    "        pass\n",
    "    else:\n",
    "        pass\n",
    "    print(a, kwargs)\n",
    "    \n",
    "fn(2)"
   ]
  },
  {
   "cell_type": "code",
   "execution_count": 6,
   "metadata": {},
   "outputs": [
    {
     "name": "stdout",
     "output_type": "stream",
     "text": [
      "34 felipe nn\n"
     ]
    }
   ],
   "source": [
    "def fn (edad, nombre='nn', apellido='nn'):\n",
    "    print(edad, nombre, apellido)\n",
    "\n",
    "dic = {'nombre': 'felipe'}\n",
    "\n",
    "fn(34, **dic)"
   ]
  },
  {
   "cell_type": "code",
   "execution_count": 83,
   "metadata": {
    "colab": {
     "base_uri": "https://localhost:8080/",
     "height": 34
    },
    "colab_type": "code",
    "executionInfo": {
     "elapsed": 376,
     "status": "ok",
     "timestamp": 1538703461828,
     "user": {
      "displayName": "Sebastian Rodriguez Colina",
      "photoUrl": "",
      "userId": "15883086893181703875"
     },
     "user_tz": 300
    },
    "id": "AM35O-ebz9Wg",
    "outputId": "f0da3e7e-baa4-494d-bb6f-16d23c723f57"
   },
   "outputs": [
    {
     "name": "stdout",
     "output_type": "stream",
     "text": [
      "70 40 {'c': 99}\n"
     ]
    }
   ],
   "source": [
    "def fn(a, b=4, **kwargs):\n",
    "    print(a, b, kwargs)\n",
    "\n",
    "b=99\n",
    "fn(70, c=b, b=40)"
   ]
  },
  {
   "cell_type": "code",
   "execution_count": 7,
   "metadata": {
    "colab": {
     "base_uri": "https://localhost:8080/",
     "height": 34
    },
    "colab_type": "code",
    "executionInfo": {
     "elapsed": 373,
     "status": "ok",
     "timestamp": 1538703731282,
     "user": {
      "displayName": "Sebastian Rodriguez Colina",
      "photoUrl": "",
      "userId": "15883086893181703875"
     },
     "user_tz": 300
    },
    "id": "dizNNlid3lUP",
    "outputId": "43e21b7d-cafe-4816-d4e6-1d4feb281f60"
   },
   "outputs": [
    {
     "name": "stdout",
     "output_type": "stream",
     "text": [
      "3 5 3 4 (5, 6, 'casa') {'nueve': 6, 'cuarenta': 7}\n"
     ]
    }
   ],
   "source": [
    "def fn(a, b, c=4, d=3, *tuplaSobrante, **kwargs):\n",
    "    print(a,b,c,d,tuplaSobrante,kwargs)\n",
    "    \n",
    "fn(3, 5, 3,4,5,6,'casa', nueve=6, cuarenta=7)"
   ]
  },
  {
   "cell_type": "code",
   "execution_count": 36,
   "metadata": {},
   "outputs": [],
   "source": [
    "def fn(a, b, c ,d):\n",
    "    def fn_interna (e):\n",
    "        return a*e\n",
    "    return fn_interna"
   ]
  },
  {
   "cell_type": "code",
   "execution_count": 39,
   "metadata": {},
   "outputs": [
    {
     "data": {
      "text/plain": [
       "16"
      ]
     },
     "execution_count": 39,
     "metadata": {},
     "output_type": "execute_result"
    }
   ],
   "source": [
    "fn(2,3,5,2)(8)"
   ]
  },
  {
   "cell_type": "code",
   "execution_count": 35,
   "metadata": {},
   "outputs": [
    {
     "data": {
      "text/plain": [
       "(4, 6, 10, 4)"
      ]
     },
     "execution_count": 35,
     "metadata": {},
     "output_type": "execute_result"
    }
   ],
   "source": [
    "dd"
   ]
  },
  {
   "cell_type": "markdown",
   "metadata": {
    "colab_type": "text",
    "id": "c54fwDEfgOHW"
   },
   "source": [
    "**Clases y objetos**"
   ]
  },
  {
   "cell_type": "code",
   "execution_count": 11,
   "metadata": {
    "colab": {},
    "colab_type": "code",
    "id": "D8hUhZ0HgN_2"
   },
   "outputs": [],
   "source": [
    "class Mano:\n",
    "    material = 'carne'\n",
    "    def __init__(self, n_dedos=5, color='piel'):\n",
    "        self.n_dedos = n_dedos\n",
    "        self.color = color\n",
    "        self.temp_dedos = n_dedos\n",
    "        \n",
    "    def iscomplete(self):\n",
    "        if self.n_dedos == 5:\n",
    "            return True\n",
    "        else:\n",
    "            return False\n",
    "        \n",
    "    def cerrar(self):\n",
    "        self.n_dedos = 0\n",
    "        \n",
    "    def abrir(self):\n",
    "        self.n_dedos = self.temp_dedos"
   ]
  },
  {
   "cell_type": "code",
   "execution_count": 16,
   "metadata": {},
   "outputs": [
    {
     "data": {
      "text/plain": [
       "4"
      ]
     },
     "execution_count": 16,
     "metadata": {},
     "output_type": "execute_result"
    }
   ],
   "source": [
    "mano1 = Modelo(4, 'morada')\n",
    "mano1.entrenar()\n",
    "mano1.predecir()\n"
   ]
  },
  {
   "cell_type": "code",
   "execution_count": 19,
   "metadata": {},
   "outputs": [],
   "source": [
    "mano1.abrir()"
   ]
  },
  {
   "cell_type": "code",
   "execution_count": 21,
   "metadata": {},
   "outputs": [],
   "source": [
    "a = 9"
   ]
  },
  {
   "cell_type": "code",
   "execution_count": 20,
   "metadata": {},
   "outputs": [
    {
     "data": {
      "text/plain": [
       "4"
      ]
     },
     "execution_count": 20,
     "metadata": {},
     "output_type": "execute_result"
    }
   ],
   "source": [
    "mano1.n_dedos"
   ]
  },
  {
   "cell_type": "code",
   "execution_count": 91,
   "metadata": {
    "colab": {
     "base_uri": "https://localhost:8080/",
     "height": 34
    },
    "colab_type": "code",
    "executionInfo": {
     "elapsed": 427,
     "status": "ok",
     "timestamp": 1538703883949,
     "user": {
      "displayName": "Sebastian Rodriguez Colina",
      "photoUrl": "",
      "userId": "15883086893181703875"
     },
     "user_tz": 300
    },
    "id": "5z8Y2n8FFH4E",
    "outputId": "ced04db1-08fd-4c0a-ccc0-9ec7a70ce233"
   },
   "outputs": [
    {
     "data": {
      "text/plain": [
       "True"
      ]
     },
     "execution_count": 91,
     "metadata": {
      "tags": []
     },
     "output_type": "execute_result"
    }
   ],
   "source": [
    "mano = Mano()\n",
    "mano.iscomplete()"
   ]
  },
  {
   "cell_type": "code",
   "execution_count": 92,
   "metadata": {
    "colab": {
     "base_uri": "https://localhost:8080/",
     "height": 34
    },
    "colab_type": "code",
    "executionInfo": {
     "elapsed": 399,
     "status": "ok",
     "timestamp": 1538703917716,
     "user": {
      "displayName": "Sebastian Rodriguez Colina",
      "photoUrl": "",
      "userId": "15883086893181703875"
     },
     "user_tz": 300
    },
    "id": "-rmo_pCnFL31",
    "outputId": "b7263854-df41-4373-96ab-e5af3627f273"
   },
   "outputs": [
    {
     "data": {
      "text/plain": [
       "False"
      ]
     },
     "execution_count": 92,
     "metadata": {
      "tags": []
     },
     "output_type": "execute_result"
    }
   ],
   "source": [
    "mano = Mano(n_dedos=3)\n",
    "mano.iscomplete()"
   ]
  },
  {
   "cell_type": "markdown",
   "metadata": {
    "colab_type": "text",
    "id": "xH_0g-jo9P7R"
   },
   "source": [
    "## Lo estándar 2.0\n"
   ]
  },
  {
   "cell_type": "markdown",
   "metadata": {
    "colab_type": "text",
    "id": "MBMONhMQSdpi"
   },
   "source": [
    "**Contar elementos retornados durante el loop:** sirve para saber cuántos elementos e visto en el for loop y o para conocer el índice del elemento al que se accede en cada iteración"
   ]
  },
  {
   "cell_type": "code",
   "execution_count": 22,
   "metadata": {
    "colab": {
     "base_uri": "https://localhost:8080/",
     "height": 143
    },
    "colab_type": "code",
    "id": "FK0Mp1diSlx8",
    "outputId": "ff396c21-8d83-4d5b-8c68-fad79086448c"
   },
   "outputs": [
    {
     "name": "stdout",
     "output_type": "stream",
     "text": [
      "word nombre is in index 0\n",
      "word  apellido is in index 1\n",
      "word  ciudad is in index 2\n",
      "word  animal is in index 3\n",
      "word  fruta is in index 4\n",
      "word  color is in index 5\n",
      "word  cosa is in index 6\n"
     ]
    }
   ],
   "source": [
    "words = \"nombre, apellido, ciudad, animal, fruta, color, cosa\".split(',')\n",
    "\n",
    "for i, wd in enumerate(words):\n",
    "    print(\"word {} is in index {}\".format(wd, i))"
   ]
  },
  {
   "cell_type": "code",
   "execution_count": null,
   "metadata": {},
   "outputs": [],
   "source": []
  },
  {
   "cell_type": "markdown",
   "metadata": {
    "colab_type": "text",
    "id": "AxlEE2g7Hl-K"
   },
   "source": [
    "**Compresión de listas**\n",
    "ver: https://docs.python.org/3/tutorial/datastructures.html#list-comprehensions\n",
    "\n",
    "Supongamos que dada una lista de palabras queremos sacar una lista que nos de la longitud de cada palabra"
   ]
  },
  {
   "cell_type": "code",
   "execution_count": 41,
   "metadata": {
    "colab": {},
    "colab_type": "code",
    "id": "nA76KFTKPHVE"
   },
   "outputs": [],
   "source": [
    "words = \"nombre, apellido, ciudad, animal, fruta, color, cosa\".split(',')"
   ]
  },
  {
   "cell_type": "markdown",
   "metadata": {
    "colab_type": "text",
    "id": "5eEUkjZxPXlY"
   },
   "source": [
    "opcion 1"
   ]
  },
  {
   "cell_type": "code",
   "execution_count": 42,
   "metadata": {
    "colab": {
     "base_uri": "https://localhost:8080/",
     "height": 34
    },
    "colab_type": "code",
    "executionInfo": {
     "elapsed": 690,
     "status": "ok",
     "timestamp": 1538704533646,
     "user": {
      "displayName": "Sebastian Rodriguez Colina",
      "photoUrl": "",
      "userId": "15883086893181703875"
     },
     "user_tz": 300
    },
    "id": "BrCI7YIfPJpo",
    "outputId": "cb24d641-d5d8-430a-edbd-d00e7f349867"
   },
   "outputs": [
    {
     "data": {
      "text/plain": [
       "[6, 9, 7, 7, 6, 6, 5]"
      ]
     },
     "execution_count": 42,
     "metadata": {},
     "output_type": "execute_result"
    }
   ],
   "source": [
    "words_length = []\n",
    "for wd in words:\n",
    "    if len(wd) != 7:\n",
    "        words_length.append(len(wd))\n",
    "    \n",
    "words_length"
   ]
  },
  {
   "cell_type": "markdown",
   "metadata": {
    "colab_type": "text",
    "id": "JR73WVw5PW6C"
   },
   "source": [
    "opción 2 (usualmente es más rápida)"
   ]
  },
  {
   "cell_type": "code",
   "execution_count": 44,
   "metadata": {
    "colab": {
     "base_uri": "https://localhost:8080/",
     "height": 34
    },
    "colab_type": "code",
    "executionInfo": {
     "elapsed": 917,
     "status": "ok",
     "timestamp": 1538704534890,
     "user": {
      "displayName": "Sebastian Rodriguez Colina",
      "photoUrl": "",
      "userId": "15883086893181703875"
     },
     "user_tz": 300
    },
    "id": "0ZhvK0ltHlTR",
    "outputId": "ab06acd3-75c8-4133-9380-e9a449378cd2"
   },
   "outputs": [
    {
     "data": {
      "text/plain": [
       "[6, 9, 6, 6, 5]"
      ]
     },
     "execution_count": 44,
     "metadata": {},
     "output_type": "execute_result"
    }
   ],
   "source": [
    "words_length = [len(wd) for wd in words if len(wd) != 7]\n",
    "words_length"
   ]
  },
  {
   "cell_type": "markdown",
   "metadata": {
    "colab_type": "text",
    "id": "xQ80iClpPxDL"
   },
   "source": [
    "esta otra opción tiene más opciones"
   ]
  },
  {
   "cell_type": "code",
   "execution_count": 100,
   "metadata": {
    "colab": {
     "base_uri": "https://localhost:8080/",
     "height": 34
    },
    "colab_type": "code",
    "executionInfo": {
     "elapsed": 414,
     "status": "ok",
     "timestamp": 1538704553302,
     "user": {
      "displayName": "Sebastian Rodriguez Colina",
      "photoUrl": "",
      "userId": "15883086893181703875"
     },
     "user_tz": 300
    },
    "id": "1PkI4gLS8Cj0",
    "outputId": "96f6b0da-479f-4ccc-a669-bb0817aef894"
   },
   "outputs": [
    {
     "data": {
      "text/plain": [
       "['nombre', ' apellido', ' ciudad', ' animal', ' fruta', ' color', ' cosa']"
      ]
     },
     "execution_count": 100,
     "metadata": {
      "tags": []
     },
     "output_type": "execute_result"
    }
   ],
   "source": [
    "words"
   ]
  },
  {
   "cell_type": "code",
   "execution_count": 98,
   "metadata": {
    "colab": {
     "base_uri": "https://localhost:8080/",
     "height": 34
    },
    "colab_type": "code",
    "executionInfo": {
     "elapsed": 588,
     "status": "ok",
     "timestamp": 1538704535927,
     "user": {
      "displayName": "Sebastian Rodriguez Colina",
      "photoUrl": "",
      "userId": "15883086893181703875"
     },
     "user_tz": 300
    },
    "id": "0UEW67g8Pxkz",
    "outputId": "a513d800-5569-4061-d91a-94e617b13025"
   },
   "outputs": [
    {
     "data": {
      "text/plain": [
       "[9, 7, 7, 5]"
      ]
     },
     "execution_count": 98,
     "metadata": {
      "tags": []
     },
     "output_type": "execute_result"
    }
   ],
   "source": [
    "words_length = [len(wd) for wd in words if len(wd)%2]\n",
    "words_length"
   ]
  },
  {
   "cell_type": "code",
   "execution_count": 54,
   "metadata": {},
   "outputs": [],
   "source": [
    "flag = False\n",
    "word = 'casa' if flag else 'edificio'"
   ]
  },
  {
   "cell_type": "code",
   "execution_count": 55,
   "metadata": {},
   "outputs": [
    {
     "data": {
      "text/plain": [
       "'edificio'"
      ]
     },
     "execution_count": 55,
     "metadata": {},
     "output_type": "execute_result"
    }
   ],
   "source": [
    "word"
   ]
  },
  {
   "cell_type": "code",
   "execution_count": 50,
   "metadata": {
    "colab": {
     "base_uri": "https://localhost:8080/",
     "height": 34
    },
    "colab_type": "code",
    "executionInfo": {
     "elapsed": 511,
     "status": "ok",
     "timestamp": 1538704567772,
     "user": {
      "displayName": "Sebastian Rodriguez Colina",
      "photoUrl": "",
      "userId": "15883086893181703875"
     },
     "user_tz": 300
    },
    "id": "yqTL1kI37zTk",
    "outputId": "2ce351ef-cf92-4b08-cc84-afeef69e97c2"
   },
   "outputs": [
    {
     "data": {
      "text/plain": [
       "['APELLIDO', 'CIUDAD', 'ANIMAL', 'FRUTA', 'COLOR', 'COSA']"
      ]
     },
     "execution_count": 50,
     "metadata": {},
     "output_type": "execute_result"
    }
   ],
   "source": [
    "[wd.strip().upper() for wd in words if wd.startswith(' ')]"
   ]
  },
  {
   "cell_type": "code",
   "execution_count": 0,
   "metadata": {
    "colab": {
     "base_uri": "https://localhost:8080/",
     "height": 35
    },
    "colab_type": "code",
    "id": "LQmUIPPqRHr1",
    "outputId": "08c0fb1b-684d-4cd9-9414-880827c066bc"
   },
   "outputs": [
    {
     "data": {
      "text/plain": [
       "[0, 9, 7, 7, 0, 0, 5]"
      ]
     },
     "execution_count": 42,
     "metadata": {
      "tags": []
     },
     "output_type": "execute_result"
    }
   ],
   "source": [
    "words_length = [len(wd) if len(wd)%2 else 0 for wd in words]\n",
    "words_length"
   ]
  },
  {
   "cell_type": "markdown",
   "metadata": {
    "colab_type": "text",
    "id": "ebmgSHraPxAS"
   },
   "source": [
    "La misma idea es aplicable a diccionarios"
   ]
  },
  {
   "cell_type": "code",
   "execution_count": 57,
   "metadata": {
    "colab": {
     "base_uri": "https://localhost:8080/",
     "height": 35
    },
    "colab_type": "code",
    "id": "wrxiXBUx6MwQ",
    "outputId": "bb836487-9edf-42fc-d2a2-8e2361b5f2c7"
   },
   "outputs": [
    {
     "data": {
      "text/plain": [
       "{'a': 9, 'b': 1, 'c': 2, 'd': 3, 'e': 4, 'f': 5, 'g': 6, 'h': 7, 'i': 8}"
      ]
     },
     "execution_count": 57,
     "metadata": {},
     "output_type": "execute_result"
    }
   ],
   "source": [
    "d = {k:v for v,k in enumerate('abcdefghia')}\n",
    "d"
   ]
  },
  {
   "cell_type": "markdown",
   "metadata": {
    "colab_type": "text",
    "id": "KE7_t_zXRfJM"
   },
   "source": [
    "Lectura recomendada: https://realpython.com/introduction-to-python-generators/"
   ]
  },
  {
   "cell_type": "markdown",
   "metadata": {
    "colab_type": "text",
    "id": "YWIAQDh8Tk7g"
   },
   "source": [
    "**Excepciones**"
   ]
  },
  {
   "cell_type": "code",
   "execution_count": 58,
   "metadata": {
    "colab": {
     "base_uri": "https://localhost:8080/",
     "height": 34
    },
    "colab_type": "code",
    "executionInfo": {
     "elapsed": 382,
     "status": "ok",
     "timestamp": 1538704680631,
     "user": {
      "displayName": "Sebastian Rodriguez Colina",
      "photoUrl": "",
      "userId": "15883086893181703875"
     },
     "user_tz": 300
    },
    "id": "qlhf7egt8hmo",
    "outputId": "06ffd14b-4e74-4834-d000-338080ccf3ca"
   },
   "outputs": [
    {
     "data": {
      "text/plain": [
       "['nombre', ' apellido', ' ciudad', ' animal', ' fruta', ' color', ' cosa']"
      ]
     },
     "execution_count": 58,
     "metadata": {},
     "output_type": "execute_result"
    }
   ],
   "source": [
    "words"
   ]
  },
  {
   "cell_type": "code",
   "execution_count": 59,
   "metadata": {
    "colab": {
     "base_uri": "https://localhost:8080/",
     "height": 164
    },
    "colab_type": "code",
    "executionInfo": {
     "elapsed": 396,
     "status": "error",
     "timestamp": 1538704697819,
     "user": {
      "displayName": "Sebastian Rodriguez Colina",
      "photoUrl": "",
      "userId": "15883086893181703875"
     },
     "user_tz": 300
    },
    "id": "2ShHkgjJ8kYL",
    "outputId": "879b9d5e-e886-4132-bee0-8dd4471644fe"
   },
   "outputs": [
    {
     "ename": "IndexError",
     "evalue": "list index out of range",
     "output_type": "error",
     "traceback": [
      "\u001b[1;31m---------------------------------------------------------------------------\u001b[0m",
      "\u001b[1;31mIndexError\u001b[0m                                Traceback (most recent call last)",
      "\u001b[1;32m<ipython-input-59-f52e1d60bc53>\u001b[0m in \u001b[0;36m<module>\u001b[1;34m\u001b[0m\n\u001b[1;32m----> 1\u001b[1;33m \u001b[0mwords\u001b[0m\u001b[1;33m[\u001b[0m\u001b[1;36m200\u001b[0m\u001b[1;33m]\u001b[0m\u001b[1;33m\u001b[0m\u001b[1;33m\u001b[0m\u001b[0m\n\u001b[0m",
      "\u001b[1;31mIndexError\u001b[0m: list index out of range"
     ]
    }
   ],
   "source": [
    "words[200]"
   ]
  },
  {
   "cell_type": "code",
   "execution_count": 61,
   "metadata": {
    "colab": {
     "base_uri": "https://localhost:8080/",
     "height": 336
    },
    "colab_type": "code",
    "executionInfo": {
     "elapsed": 380,
     "status": "error",
     "timestamp": 1538704869011,
     "user": {
      "displayName": "Sebastian Rodriguez Colina",
      "photoUrl": "",
      "userId": "15883086893181703875"
     },
     "user_tz": 300
    },
    "id": "zOipB2IKTkoF",
    "outputId": "ebbff5fd-5e49-4be3-d2aa-9b72941eae7e"
   },
   "outputs": [
    {
     "name": "stdout",
     "output_type": "stream",
     "text": [
      "la lista es muy pequeña\n"
     ]
    }
   ],
   "source": [
    "try:\n",
    "    val = words[200]\n",
    "except IndexError as e:\n",
    "    print(\"la lista es muy pequeña\")\n",
    "    val = words[-1]"
   ]
  },
  {
   "cell_type": "code",
   "execution_count": 66,
   "metadata": {},
   "outputs": [
    {
     "ename": "Exception",
     "evalue": "el modulo del metodo tal necesita que primero se llame a la bse datos",
     "output_type": "error",
     "traceback": [
      "\u001b[1;31m---------------------------------------------------------------------------\u001b[0m",
      "\u001b[1;31mException\u001b[0m                                 Traceback (most recent call last)",
      "\u001b[1;32m<ipython-input-66-9cb765e9cc3f>\u001b[0m in \u001b[0;36m<module>\u001b[1;34m\u001b[0m\n\u001b[1;32m----> 1\u001b[1;33m \u001b[1;32mraise\u001b[0m \u001b[0mException\u001b[0m\u001b[1;33m(\u001b[0m\u001b[1;34m'el modulo del metodo tal necesita que primero se llame a la bse datos'\u001b[0m\u001b[1;33m)\u001b[0m\u001b[1;33m\u001b[0m\u001b[1;33m\u001b[0m\u001b[0m\n\u001b[0m",
      "\u001b[1;31mException\u001b[0m: el modulo del metodo tal necesita que primero se llame a la bse datos"
     ]
    }
   ],
   "source": [
    "raise Exception('el modulo del metodo tal necesita que primero se llame a la bse datos')"
   ]
  },
  {
   "cell_type": "markdown",
   "metadata": {
    "colab_type": "text",
    "id": "KaR8hkrzUE4U"
   },
   "source": [
    "Lectura recomendada: https://realpython.com/python-exceptions/"
   ]
  },
  {
   "cell_type": "markdown",
   "metadata": {
    "colab_type": "text",
    "id": "wXLryBquTaVM"
   },
   "source": [
    "**sets:** permiten, entre otras cosas, averiguar si un conjunto de elementos está presente en otros conjunto.\n",
    "\n",
    "Lectura recomendada: https://docs.python.org/3/library/stdtypes.html#set\n"
   ]
  },
  {
   "cell_type": "code",
   "execution_count": 67,
   "metadata": {},
   "outputs": [
    {
     "data": {
      "text/plain": [
       "[1, 2, 3, 4, 5, 6, 7, 8, 87]"
      ]
     },
     "execution_count": 67,
     "metadata": {},
     "output_type": "execute_result"
    }
   ],
   "source": [
    "ll = [1,1,2,3,4,4,4,4,5,6,7,87,8,8,8]\n",
    "list(set(ll))"
   ]
  },
  {
   "cell_type": "code",
   "execution_count": 69,
   "metadata": {
    "colab": {
     "base_uri": "https://localhost:8080/",
     "height": 35
    },
    "colab_type": "code",
    "id": "kKkET4n1TZ4F",
    "outputId": "35890ee8-63f4-4d16-edf7-1f9b2b05d8e4"
   },
   "outputs": [
    {
     "data": {
      "text/plain": [
       "False"
      ]
     },
     "execution_count": 69,
     "metadata": {},
     "output_type": "execute_result"
    }
   ],
   "source": [
    "{'a', 'b'}.issubset({ch for ch in 'abcdefjhijklmnñopqrstuvwxyz'})"
   ]
  },
  {
   "cell_type": "code",
   "execution_count": 70,
   "metadata": {},
   "outputs": [
    {
     "data": {
      "text/plain": [
       "{'c',\n",
       " 'd',\n",
       " 'e',\n",
       " 'f',\n",
       " 'h',\n",
       " 'i',\n",
       " 'j',\n",
       " 'k',\n",
       " 'l',\n",
       " 'm',\n",
       " 'n',\n",
       " 'o',\n",
       " 'p',\n",
       " 'q',\n",
       " 'r',\n",
       " 's',\n",
       " 't',\n",
       " 'u',\n",
       " 'v',\n",
       " 'w',\n",
       " 'x',\n",
       " 'y',\n",
       " 'z',\n",
       " 'ñ'}"
      ]
     },
     "execution_count": 70,
     "metadata": {},
     "output_type": "execute_result"
    }
   ],
   "source": [
    "{ch for ch in 'abcdefjhijklmnñopqrstuvwxyz'}.difference({'a', 'b'})"
   ]
  },
  {
   "cell_type": "markdown",
   "metadata": {
    "colab_type": "text",
    "id": "vwVQzKWHuAMs"
   },
   "source": [
    "**Args y Kwargs:** https://pythontips.com/2013/08/04/args-and-kwargs-in-python-explained/"
   ]
  },
  {
   "cell_type": "markdown",
   "metadata": {
    "colab_type": "text",
    "id": "8I1o8gFOPHiy"
   },
   "source": [
    "## Numpy"
   ]
  },
  {
   "cell_type": "code",
   "execution_count": 73,
   "metadata": {
    "colab": {},
    "colab_type": "code",
    "id": "k92OAsa7bE3S"
   },
   "outputs": [],
   "source": [
    "import numpy as np"
   ]
  },
  {
   "cell_type": "code",
   "execution_count": 75,
   "metadata": {
    "colab": {},
    "colab_type": "code",
    "id": "Q8adLGvoPI2Y"
   },
   "outputs": [],
   "source": [
    "x = np.array([1,2]) #vector\n",
    "y = np.matrix([[1,2],[4,5]]) #matriz"
   ]
  },
  {
   "cell_type": "code",
   "execution_count": 76,
   "metadata": {
    "colab": {
     "base_uri": "https://localhost:8080/",
     "height": 34
    },
    "colab_type": "code",
    "executionInfo": {
     "elapsed": 642,
     "status": "ok",
     "timestamp": 1538705134920,
     "user": {
      "displayName": "Sebastian Rodriguez Colina",
      "photoUrl": "",
      "userId": "15883086893181703875"
     },
     "user_tz": 300
    },
    "id": "ls4jOmF7bAQZ",
    "outputId": "349d0077-c2e1-4bd9-b684-602b4de51ee4"
   },
   "outputs": [
    {
     "data": {
      "text/plain": [
       "array([1, 2])"
      ]
     },
     "execution_count": 76,
     "metadata": {},
     "output_type": "execute_result"
    }
   ],
   "source": [
    "x\n"
   ]
  },
  {
   "cell_type": "code",
   "execution_count": 77,
   "metadata": {
    "colab": {
     "base_uri": "https://localhost:8080/",
     "height": 34
    },
    "colab_type": "code",
    "executionInfo": {
     "elapsed": 422,
     "status": "ok",
     "timestamp": 1538705151317,
     "user": {
      "displayName": "Sebastian Rodriguez Colina",
      "photoUrl": "",
      "userId": "15883086893181703875"
     },
     "user_tz": 300
    },
    "id": "nxujeoik-UDQ",
    "outputId": "eb62fde4-f94b-459b-d508-a67672f168f9"
   },
   "outputs": [
    {
     "data": {
      "text/plain": [
       "(2,)"
      ]
     },
     "execution_count": 77,
     "metadata": {},
     "output_type": "execute_result"
    }
   ],
   "source": [
    "x.shape"
   ]
  },
  {
   "cell_type": "code",
   "execution_count": 79,
   "metadata": {
    "colab": {
     "base_uri": "https://localhost:8080/",
     "height": 51
    },
    "colab_type": "code",
    "executionInfo": {
     "elapsed": 423,
     "status": "ok",
     "timestamp": 1538705214120,
     "user": {
      "displayName": "Sebastian Rodriguez Colina",
      "photoUrl": "",
      "userId": "15883086893181703875"
     },
     "user_tz": 300
    },
    "id": "QRXofWv8bVpy",
    "outputId": "f2768354-d3ff-440b-d5ef-df6c7536002d"
   },
   "outputs": [
    {
     "data": {
      "text/plain": [
       "(2, 2)"
      ]
     },
     "execution_count": 79,
     "metadata": {},
     "output_type": "execute_result"
    }
   ],
   "source": [
    "y.shape"
   ]
  },
  {
   "cell_type": "markdown",
   "metadata": {
    "colab_type": "text",
    "id": "ySbicl3ebIHg"
   },
   "source": [
    "en generarl se usa `np.array` para cualquier arreglo multidimensional"
   ]
  },
  {
   "cell_type": "code",
   "execution_count": 116,
   "metadata": {
    "colab": {
     "base_uri": "https://localhost:8080/",
     "height": 51
    },
    "colab_type": "code",
    "executionInfo": {
     "elapsed": 546,
     "status": "ok",
     "timestamp": 1538705234980,
     "user": {
      "displayName": "Sebastian Rodriguez Colina",
      "photoUrl": "",
      "userId": "15883086893181703875"
     },
     "user_tz": 300
    },
    "id": "bvA5Hv2rbAV6",
    "outputId": "c7f786af-fabc-425b-aa52-1e2c42af4c7a"
   },
   "outputs": [
    {
     "data": {
      "text/plain": [
       "array([[1, 2],\n",
       "       [4, 5]])"
      ]
     },
     "execution_count": 116,
     "metadata": {
      "tags": []
     },
     "output_type": "execute_result"
    }
   ],
   "source": [
    "y = np.array([[1,2],[4,5]]) #matriz\n",
    "y"
   ]
  },
  {
   "cell_type": "code",
   "execution_count": 117,
   "metadata": {
    "colab": {
     "base_uri": "https://localhost:8080/",
     "height": 34
    },
    "colab_type": "code",
    "executionInfo": {
     "elapsed": 395,
     "status": "ok",
     "timestamp": 1538705241976,
     "user": {
      "displayName": "Sebastian Rodriguez Colina",
      "photoUrl": "",
      "userId": "15883086893181703875"
     },
     "user_tz": 300
    },
    "id": "LcUYrPfN-qai",
    "outputId": "c2db1382-1fb0-4963-b679-8837f25bf9d2"
   },
   "outputs": [
    {
     "data": {
      "text/plain": [
       "(2, 2)"
      ]
     },
     "execution_count": 117,
     "metadata": {
      "tags": []
     },
     "output_type": "execute_result"
    }
   ],
   "source": [
    "y.shape"
   ]
  },
  {
   "cell_type": "markdown",
   "metadata": {
    "colab_type": "text",
    "id": "9Sq-kIwQgp18"
   },
   "source": [
    "dimensiones del arreglo"
   ]
  },
  {
   "cell_type": "code",
   "execution_count": 0,
   "metadata": {
    "colab": {
     "base_uri": "https://localhost:8080/",
     "height": 35
    },
    "colab_type": "code",
    "id": "xdujgt2Uguu_",
    "outputId": "0b23e6d6-bee4-4a8c-8417-5c47c576cd7c"
   },
   "outputs": [
    {
     "data": {
      "text/plain": [
       "(2,)"
      ]
     },
     "execution_count": 69,
     "metadata": {
      "tags": []
     },
     "output_type": "execute_result"
    }
   ],
   "source": [
    "x.shape"
   ]
  },
  {
   "cell_type": "code",
   "execution_count": 0,
   "metadata": {
    "colab": {
     "base_uri": "https://localhost:8080/",
     "height": 35
    },
    "colab_type": "code",
    "id": "yLDPc-4Ggrzk",
    "outputId": "00a0f929-0e59-418f-ec28-c09076a49136"
   },
   "outputs": [
    {
     "data": {
      "text/plain": [
       "(2, 2)"
      ]
     },
     "execution_count": 68,
     "metadata": {
      "tags": []
     },
     "output_type": "execute_result"
    }
   ],
   "source": [
    "y.shape"
   ]
  },
  {
   "cell_type": "markdown",
   "metadata": {
    "colab_type": "text",
    "id": "UlWntEVwbeNJ"
   },
   "source": [
    "se puede calcular la transpuesta de un arreglo muy fácilmente"
   ]
  },
  {
   "cell_type": "code",
   "execution_count": 80,
   "metadata": {},
   "outputs": [
    {
     "data": {
      "text/plain": [
       "matrix([[1, 2],\n",
       "        [4, 5]])"
      ]
     },
     "execution_count": 80,
     "metadata": {},
     "output_type": "execute_result"
    }
   ],
   "source": [
    "y"
   ]
  },
  {
   "cell_type": "code",
   "execution_count": 81,
   "metadata": {
    "colab": {
     "base_uri": "https://localhost:8080/",
     "height": 53
    },
    "colab_type": "code",
    "id": "qrnAjWjXbAd5",
    "outputId": "d94e08d0-a24d-4885-b960-a425cddee86c"
   },
   "outputs": [
    {
     "data": {
      "text/plain": [
       "matrix([[1, 4],\n",
       "        [2, 5]])"
      ]
     },
     "execution_count": 81,
     "metadata": {},
     "output_type": "execute_result"
    }
   ],
   "source": [
    "y.T"
   ]
  },
  {
   "cell_type": "markdown",
   "metadata": {
    "colab_type": "text",
    "id": "rTd9SU23bpKO"
   },
   "source": [
    "y la inversa"
   ]
  },
  {
   "cell_type": "code",
   "execution_count": 82,
   "metadata": {
    "colab": {
     "base_uri": "https://localhost:8080/",
     "height": 51
    },
    "colab_type": "code",
    "executionInfo": {
     "elapsed": 586,
     "status": "ok",
     "timestamp": 1538705330615,
     "user": {
      "displayName": "Sebastian Rodriguez Colina",
      "photoUrl": "",
      "userId": "15883086893181703875"
     },
     "user_tz": 300
    },
    "id": "Ut7hdXN4bAbL",
    "outputId": "921c3f6f-6fa9-47bc-b488-45760e008685"
   },
   "outputs": [
    {
     "data": {
      "text/plain": [
       "matrix([[-1.66666667,  0.66666667],\n",
       "        [ 1.33333333, -0.33333333]])"
      ]
     },
     "execution_count": 82,
     "metadata": {},
     "output_type": "execute_result"
    }
   ],
   "source": [
    "np.linalg.inv(y)"
   ]
  },
  {
   "cell_type": "markdown",
   "metadata": {
    "colab_type": "text",
    "id": "-RojhT3Tg0om"
   },
   "source": [
    "multiplicación de matrices"
   ]
  },
  {
   "cell_type": "code",
   "execution_count": 119,
   "metadata": {
    "colab": {
     "base_uri": "https://localhost:8080/",
     "height": 34
    },
    "colab_type": "code",
    "executionInfo": {
     "elapsed": 566,
     "status": "ok",
     "timestamp": 1538705454463,
     "user": {
      "displayName": "Sebastian Rodriguez Colina",
      "photoUrl": "",
      "userId": "15883086893181703875"
     },
     "user_tz": 300
    },
    "id": "Iw9AKmid_eGj",
    "outputId": "f4738d33-9009-4f92-f06f-10b26dfb7855"
   },
   "outputs": [
    {
     "data": {
      "text/plain": [
       "(2,)"
      ]
     },
     "execution_count": 119,
     "metadata": {
      "tags": []
     },
     "output_type": "execute_result"
    }
   ],
   "source": [
    "x.shape"
   ]
  },
  {
   "cell_type": "code",
   "execution_count": 120,
   "metadata": {
    "colab": {
     "base_uri": "https://localhost:8080/",
     "height": 34
    },
    "colab_type": "code",
    "executionInfo": {
     "elapsed": 411,
     "status": "ok",
     "timestamp": 1538705472144,
     "user": {
      "displayName": "Sebastian Rodriguez Colina",
      "photoUrl": "",
      "userId": "15883086893181703875"
     },
     "user_tz": 300
    },
    "id": "KKb7bSMg_i8e",
    "outputId": "eb86d40a-561e-415f-f452-6891ddb6d382"
   },
   "outputs": [
    {
     "data": {
      "text/plain": [
       "(2, 2)"
      ]
     },
     "execution_count": 120,
     "metadata": {
      "tags": []
     },
     "output_type": "execute_result"
    }
   ],
   "source": [
    "y.shape"
   ]
  },
  {
   "cell_type": "code",
   "execution_count": 84,
   "metadata": {
    "colab": {},
    "colab_type": "code",
    "id": "sPXZZJxJ_ipB"
   },
   "outputs": [
    {
     "name": "stdout",
     "output_type": "stream",
     "text": [
      "(2, 3) (2, 2)\n"
     ]
    }
   ],
   "source": [
    "A = np.array([[1,2,3], [4,5,6]])\n",
    "B = np.array([[1,2], [3,4]])\n",
    "print(A.shape, B.shape)"
   ]
  },
  {
   "cell_type": "code",
   "execution_count": 85,
   "metadata": {},
   "outputs": [
    {
     "ename": "ValueError",
     "evalue": "operands could not be broadcast together with shapes (2,2) (2,3) ",
     "output_type": "error",
     "traceback": [
      "\u001b[1;31m---------------------------------------------------------------------------\u001b[0m",
      "\u001b[1;31mValueError\u001b[0m                                Traceback (most recent call last)",
      "\u001b[1;32m<ipython-input-85-55e7d2e10b92>\u001b[0m in \u001b[0;36m<module>\u001b[1;34m\u001b[0m\n\u001b[1;32m----> 1\u001b[1;33m \u001b[0mB\u001b[0m\u001b[1;33m*\u001b[0m\u001b[0mA\u001b[0m\u001b[1;33m\u001b[0m\u001b[1;33m\u001b[0m\u001b[0m\n\u001b[0m",
      "\u001b[1;31mValueError\u001b[0m: operands could not be broadcast together with shapes (2,2) (2,3) "
     ]
    }
   ],
   "source": [
    "B*A"
   ]
  },
  {
   "cell_type": "code",
   "execution_count": 86,
   "metadata": {
    "colab": {
     "base_uri": "https://localhost:8080/",
     "height": 53
    },
    "colab_type": "code",
    "id": "1i-jnihVbujv",
    "outputId": "8011129a-eb22-41ee-b1f4-6eb372024439"
   },
   "outputs": [
    {
     "data": {
      "text/plain": [
       "array([[ 9, 12, 15],\n",
       "       [19, 26, 33]])"
      ]
     },
     "execution_count": 86,
     "metadata": {},
     "output_type": "execute_result"
    }
   ],
   "source": [
    "np.dot(B, A)"
   ]
  },
  {
   "cell_type": "code",
   "execution_count": 87,
   "metadata": {
    "colab": {
     "base_uri": "https://localhost:8080/",
     "height": 34
    },
    "colab_type": "code",
    "executionInfo": {
     "elapsed": 849,
     "status": "ok",
     "timestamp": 1538705490086,
     "user": {
      "displayName": "Sebastian Rodriguez Colina",
      "photoUrl": "",
      "userId": "15883086893181703875"
     },
     "user_tz": 300
    },
    "id": "sigqKUOAbAZ7",
    "outputId": "79c707b9-963d-4efa-c572-1ba99672e2fe"
   },
   "outputs": [
    {
     "data": {
      "text/plain": [
       "matrix([[ 9, 12]])"
      ]
     },
     "execution_count": 87,
     "metadata": {},
     "output_type": "execute_result"
    }
   ],
   "source": [
    "np.dot(x, y)"
   ]
  },
  {
   "cell_type": "markdown",
   "metadata": {
    "colab_type": "text",
    "id": "vNJpJdGVhcp1"
   },
   "source": [
    "También se puede sumar por filas o por columnas de un arreglo"
   ]
  },
  {
   "cell_type": "code",
   "execution_count": 93,
   "metadata": {
    "colab": {
     "base_uri": "https://localhost:8080/",
     "height": 53
    },
    "colab_type": "code",
    "id": "0eVVRhq9htDj",
    "outputId": "b61100a7-4ef4-4cbb-9c9a-e4477f666a03"
   },
   "outputs": [
    {
     "data": {
      "text/plain": [
       "array([[1, 2, 3],\n",
       "       [4, 5, 6]])"
      ]
     },
     "execution_count": 93,
     "metadata": {},
     "output_type": "execute_result"
    }
   ],
   "source": [
    "A"
   ]
  },
  {
   "cell_type": "code",
   "execution_count": 92,
   "metadata": {
    "colab": {
     "base_uri": "https://localhost:8080/",
     "height": 35
    },
    "colab_type": "code",
    "id": "nAeQgsN1bATi",
    "outputId": "f1e2180c-ae1d-41c5-f720-3cbdcaf3db62"
   },
   "outputs": [
    {
     "data": {
      "text/plain": [
       "array([5, 7, 9])"
      ]
     },
     "execution_count": 92,
     "metadata": {},
     "output_type": "execute_result"
    }
   ],
   "source": [
    "np.sum(A, axis=0)"
   ]
  },
  {
   "cell_type": "code",
   "execution_count": 0,
   "metadata": {
    "colab": {
     "base_uri": "https://localhost:8080/",
     "height": 35
    },
    "colab_type": "code",
    "id": "KPys27VugV93",
    "outputId": "13571a7d-d271-4695-a7fd-aa549a687938"
   },
   "outputs": [
    {
     "data": {
      "text/plain": [
       "array([3, 9])"
      ]
     },
     "execution_count": 71,
     "metadata": {
      "tags": []
     },
     "output_type": "execute_result"
    }
   ],
   "source": [
    "np.sum(y, axis=1)"
   ]
  },
  {
   "cell_type": "code",
   "execution_count": 0,
   "metadata": {
    "colab": {
     "base_uri": "https://localhost:8080/",
     "height": 35
    },
    "colab_type": "code",
    "id": "cMx9ELEggWDD",
    "outputId": "fe93676a-4954-4733-a2ba-f93b02515c72"
   },
   "outputs": [
    {
     "data": {
      "text/plain": [
       "-0.9594880977646022"
      ]
     },
     "execution_count": 74,
     "metadata": {
      "tags": []
     },
     "output_type": "execute_result"
    }
   ],
   "source": [
    "scalar = np.random.randn()\n",
    "scalar"
   ]
  },
  {
   "cell_type": "code",
   "execution_count": 97,
   "metadata": {},
   "outputs": [],
   "source": [
    "np.random.randn?"
   ]
  },
  {
   "cell_type": "code",
   "execution_count": 0,
   "metadata": {
    "colab": {
     "base_uri": "https://localhost:8080/",
     "height": 35
    },
    "colab_type": "code",
    "id": "4b8nI87JiJK3",
    "outputId": "6f911853-091b-473e-c710-9a379988b3f1"
   },
   "outputs": [
    {
     "data": {
      "text/plain": [
       "0.9107346489574796"
      ]
     },
     "execution_count": 76,
     "metadata": {
      "tags": []
     },
     "output_type": "execute_result"
    }
   ],
   "source": [
    "val = vector[-1]\n",
    "val"
   ]
  },
  {
   "cell_type": "code",
   "execution_count": 0,
   "metadata": {
    "colab": {
     "base_uri": "https://localhost:8080/",
     "height": 35
    },
    "colab_type": "code",
    "id": "VueARflziJIL",
    "outputId": "323516b3-b756-42ee-fe79-160b7002194a"
   },
   "outputs": [
    {
     "data": {
      "text/plain": [
       "array([333.        ,   0.87504731,   0.91073465])"
      ]
     },
     "execution_count": 77,
     "metadata": {
      "tags": []
     },
     "output_type": "execute_result"
    }
   ],
   "source": [
    "vector[0] = 333\n",
    "vector"
   ]
  },
  {
   "cell_type": "code",
   "execution_count": 107,
   "metadata": {
    "colab": {
     "base_uri": "https://localhost:8080/",
     "height": 68
    },
    "colab_type": "code",
    "executionInfo": {
     "elapsed": 428,
     "status": "ok",
     "timestamp": 1538705913450,
     "user": {
      "displayName": "Sebastian Rodriguez Colina",
      "photoUrl": "",
      "userId": "15883086893181703875"
     },
     "user_tz": 300
    },
    "id": "QVDmQtI-iVwp",
    "outputId": "cc2aca19-7eeb-4219-92bd-9087b2c97671"
   },
   "outputs": [
    {
     "data": {
      "text/plain": [
       "array([[-0.27098803,  2.26274802, -1.41525465,  0.34876735, -1.13645499],\n",
       "       [ 0.33362095, -1.35871219,  0.64764831, -0.4890483 ,  1.36400502],\n",
       "       [ 1.237829  ,  0.88330061,  0.35603913,  2.79060897, -0.63241372]])"
      ]
     },
     "execution_count": 107,
     "metadata": {},
     "output_type": "execute_result"
    }
   ],
   "source": [
    "matrix = np.random.randn(3,5)\n",
    "matrix"
   ]
  },
  {
   "cell_type": "code",
   "execution_count": 104,
   "metadata": {
    "colab": {
     "base_uri": "https://localhost:8080/",
     "height": 68
    },
    "colab_type": "code",
    "executionInfo": {
     "elapsed": 525,
     "status": "ok",
     "timestamp": 1538705915428,
     "user": {
      "displayName": "Sebastian Rodriguez Colina",
      "photoUrl": "",
      "userId": "15883086893181703875"
     },
     "user_tz": 300
    },
    "id": "VzS5g54BiVq7",
    "outputId": "6f123614-7d18-44d7-da33-ad7a99c99602"
   },
   "outputs": [
    {
     "data": {
      "text/plain": [
       "array([[ 1.        ,  1.        ,  1.        ,  1.        ,  1.        ],\n",
       "       [ 1.        , -1.58545686,  1.        ,  0.22999296,  0.123067  ],\n",
       "       [ 1.        ,  1.        ,  1.        ,  1.        ,  1.        ]])"
      ]
     },
     "execution_count": 104,
     "metadata": {},
     "output_type": "execute_result"
    }
   ],
   "source": [
    "matrix[1, 0] = 1\n",
    "matrix"
   ]
  },
  {
   "cell_type": "code",
   "execution_count": 124,
   "metadata": {
    "colab": {
     "base_uri": "https://localhost:8080/",
     "height": 68
    },
    "colab_type": "code",
    "executionInfo": {
     "elapsed": 555,
     "status": "ok",
     "timestamp": 1538705917283,
     "user": {
      "displayName": "Sebastian Rodriguez Colina",
      "photoUrl": "",
      "userId": "15883086893181703875"
     },
     "user_tz": 300
    },
    "id": "qGhmYweHiVn-",
    "outputId": "422952f6-d2c2-425b-9c84-fb55c42dccf1"
   },
   "outputs": [
    {
     "data": {
      "text/plain": [
       "array([[ 1.        ,  1.        ,  5.        ,  1.        ,  1.        ],\n",
       "       [ 0.25514463,  1.33726602,  5.        , -1.86426653,  0.82100992],\n",
       "       [ 2.29472902,  1.91851665,  5.        ,  0.25911085, -2.41835151]])"
      ]
     },
     "execution_count": 124,
     "metadata": {
      "tags": []
     },
     "output_type": "execute_result"
    }
   ],
   "source": [
    "matrix[:,2] = 5\n",
    "matrix"
   ]
  },
  {
   "cell_type": "markdown",
   "metadata": {
    "colab_type": "text",
    "id": "5Xwxk4_X41jX"
   },
   "source": [
    "también podemos seleccionar elementos del arreglo usando un arreglo de 1s y 0s (el 1 para seleccionar elementos que queremos y el 0 para los que no queremos)"
   ]
  },
  {
   "cell_type": "code",
   "execution_count": 109,
   "metadata": {
    "colab": {
     "base_uri": "https://localhost:8080/",
     "height": 51
    },
    "colab_type": "code",
    "executionInfo": {
     "elapsed": 654,
     "status": "ok",
     "timestamp": 1538705922382,
     "user": {
      "displayName": "Sebastian Rodriguez Colina",
      "photoUrl": "",
      "userId": "15883086893181703875"
     },
     "user_tz": 300
    },
    "id": "L7Aa-WUl6KpC",
    "outputId": "dca90fcd-c0b0-4ffc-d419-ff12acdf543e"
   },
   "outputs": [
    {
     "data": {
      "text/plain": [
       "array([[-0.27098803,  2.26274802, -1.41525465,  0.34876735, -1.13645499],\n",
       "       [ 0.33362095, -1.35871219,  0.64764831, -0.4890483 ,  1.36400502]])"
      ]
     },
     "execution_count": 109,
     "metadata": {},
     "output_type": "execute_result"
    }
   ],
   "source": [
    "matrix[[True, True, False]]"
   ]
  },
  {
   "cell_type": "code",
   "execution_count": 110,
   "metadata": {
    "colab": {
     "base_uri": "https://localhost:8080/",
     "height": 34
    },
    "colab_type": "code",
    "executionInfo": {
     "elapsed": 527,
     "status": "ok",
     "timestamp": 1538705982677,
     "user": {
      "displayName": "Sebastian Rodriguez Colina",
      "photoUrl": "",
      "userId": "15883086893181703875"
     },
     "user_tz": 300
    },
    "id": "Et8_4hTB6R6o",
    "outputId": "baeb9c77-78c6-4cda-fad8-fac6c462e608"
   },
   "outputs": [
    {
     "data": {
      "text/plain": [
       "array([-1.41525465, -0.4890483 ])"
      ]
     },
     "execution_count": 110,
     "metadata": {},
     "output_type": "execute_result"
    }
   ],
   "source": [
    "matrix[[True, True, False],[False, False, True, True, False]]"
   ]
  },
  {
   "cell_type": "code",
   "execution_count": 112,
   "metadata": {},
   "outputs": [
    {
     "ename": "IndexError",
     "evalue": "too many indices for array",
     "output_type": "error",
     "traceback": [
      "\u001b[1;31m---------------------------------------------------------------------------\u001b[0m",
      "\u001b[1;31mIndexError\u001b[0m                                Traceback (most recent call last)",
      "\u001b[1;32m<ipython-input-112-4e2592877587>\u001b[0m in \u001b[0;36m<module>\u001b[1;34m\u001b[0m\n\u001b[1;32m----> 1\u001b[1;33m \u001b[0mmatrix\u001b[0m\u001b[1;33m[\u001b[0m\u001b[1;36m0\u001b[0m\u001b[1;33m,\u001b[0m\u001b[1;36m10\u001b[0m\u001b[1;33m,\u001b[0m\u001b[1;36m2\u001b[0m\u001b[1;33m,\u001b[0m\u001b[1;36m3\u001b[0m\u001b[1;33m]\u001b[0m\u001b[1;33m\u001b[0m\u001b[1;33m\u001b[0m\u001b[0m\n\u001b[0m",
      "\u001b[1;31mIndexError\u001b[0m: too many indices for array"
     ]
    }
   ],
   "source": [
    "matrix"
   ]
  },
  {
   "cell_type": "markdown",
   "metadata": {
    "colab_type": "text",
    "id": "z9sjUQhF6fEm"
   },
   "source": [
    "También podemos hacer comparaciones con números y es como comparar cada elemento del arreglo con el número"
   ]
  },
  {
   "cell_type": "code",
   "execution_count": 115,
   "metadata": {
    "colab": {
     "base_uri": "https://localhost:8080/",
     "height": 68
    },
    "colab_type": "code",
    "executionInfo": {
     "elapsed": 472,
     "status": "ok",
     "timestamp": 1538706025660,
     "user": {
      "displayName": "Sebastian Rodriguez Colina",
      "photoUrl": "",
      "userId": "15883086893181703875"
     },
     "user_tz": 300
    },
    "id": "996b1zok6t9k",
    "outputId": "e171d680-3782-40d9-9607-27cc7cd76d8a"
   },
   "outputs": [
    {
     "data": {
      "text/plain": [
       "array([2.26274802, 1.36400502, 1.237829  , 2.79060897])"
      ]
     },
     "execution_count": 115,
     "metadata": {},
     "output_type": "execute_result"
    }
   ],
   "source": [
    "matrix[matrix >= 1]"
   ]
  },
  {
   "cell_type": "markdown",
   "metadata": {
    "colab_type": "text",
    "id": "Z7-EANbb61xZ"
   },
   "source": [
    "y usar esto para seleccionar todos los valores"
   ]
  },
  {
   "cell_type": "code",
   "execution_count": 128,
   "metadata": {
    "colab": {
     "base_uri": "https://localhost:8080/",
     "height": 51
    },
    "colab_type": "code",
    "executionInfo": {
     "elapsed": 497,
     "status": "ok",
     "timestamp": 1538706069601,
     "user": {
      "displayName": "Sebastian Rodriguez Colina",
      "photoUrl": "",
      "userId": "15883086893181703875"
     },
     "user_tz": 300
    },
    "id": "4KGY0NFx62Kf",
    "outputId": "5fa37839-fedf-4529-b8b5-565b6d87dcda"
   },
   "outputs": [
    {
     "data": {
      "text/plain": [
       "array([1.        , 1.        , 5.        , 1.        , 1.        ,\n",
       "       1.33726602, 5.        , 2.29472902, 1.91851665, 5.        ])"
      ]
     },
     "execution_count": 128,
     "metadata": {
      "tags": []
     },
     "output_type": "execute_result"
    }
   ],
   "source": [
    "matrix[matrix >= 1]"
   ]
  },
  {
   "cell_type": "markdown",
   "metadata": {
    "colab_type": "text",
    "id": "ceynUX9Bhxru"
   },
   "source": [
    "**Broadcasting:** sabemos que las operaciones matriciales tienen unas reglas estrictas, relacionadas con la dimensión de los arreglos, para poder realizarse. Broadcasting es una forma inteligente de interpretar las dimensiones de los arreglos antes de operarlos"
   ]
  },
  {
   "cell_type": "code",
   "execution_count": 117,
   "metadata": {},
   "outputs": [
    {
     "data": {
      "text/plain": [
       "array([[ 9.72901197, 12.26274802,  8.58474535, 10.34876735,  8.86354501],\n",
       "       [10.33362095,  8.64128781, 10.64764831,  9.5109517 , 11.36400502],\n",
       "       [11.237829  , 10.88330061, 10.35603913, 12.79060897,  9.36758628]])"
      ]
     },
     "execution_count": 117,
     "metadata": {},
     "output_type": "execute_result"
    }
   ],
   "source": [
    "matrix"
   ]
  },
  {
   "cell_type": "code",
   "execution_count": 118,
   "metadata": {
    "colab": {
     "base_uri": "https://localhost:8080/",
     "height": 68
    },
    "colab_type": "code",
    "executionInfo": {
     "elapsed": 528,
     "status": "ok",
     "timestamp": 1538706168627,
     "user": {
      "displayName": "Sebastian Rodriguez Colina",
      "photoUrl": "",
      "userId": "15883086893181703875"
     },
     "user_tz": 300
    },
    "id": "8RiO5f5UiJFn",
    "outputId": "3a155ba5-5dfc-42a1-b653-322810dd06db"
   },
   "outputs": [
    {
     "data": {
      "text/plain": [
       "array([[19.72901197, 22.26274802, 18.58474535, 20.34876735, 18.86354501],\n",
       "       [20.33362095, 18.64128781, 20.64764831, 19.5109517 , 21.36400502],\n",
       "       [21.237829  , 20.88330061, 20.35603913, 22.79060897, 19.36758628]])"
      ]
     },
     "execution_count": 118,
     "metadata": {},
     "output_type": "execute_result"
    }
   ],
   "source": [
    "matrix = matrix + 10\n",
    "matrix"
   ]
  },
  {
   "cell_type": "code",
   "execution_count": 119,
   "metadata": {
    "colab": {
     "base_uri": "https://localhost:8080/",
     "height": 68
    },
    "colab_type": "code",
    "executionInfo": {
     "elapsed": 430,
     "status": "ok",
     "timestamp": 1538706186418,
     "user": {
      "displayName": "Sebastian Rodriguez Colina",
      "photoUrl": "",
      "userId": "15883086893181703875"
     },
     "user_tz": 300
    },
    "id": "_rKCJi2DiJDG",
    "outputId": "541b5f6a-df1d-4769-e2c5-d23c027d8fb7"
   },
   "outputs": [
    {
     "data": {
      "text/plain": [
       "array([[ 9.86450598, 11.13137401,  9.29237267, 10.17438367,  9.43177251],\n",
       "       [10.16681047,  9.32064391, 10.32382415,  9.75547585, 10.68200251],\n",
       "       [10.6189145 , 10.44165031, 10.17801957, 11.39530448,  9.68379314]])"
      ]
     },
     "execution_count": 119,
     "metadata": {},
     "output_type": "execute_result"
    }
   ],
   "source": [
    "matrix = matrix * 0.5\n",
    "matrix"
   ]
  },
  {
   "cell_type": "code",
   "execution_count": 121,
   "metadata": {
    "colab": {
     "base_uri": "https://localhost:8080/",
     "height": 181
    },
    "colab_type": "code",
    "executionInfo": {
     "elapsed": 546,
     "status": "error",
     "timestamp": 1538706230616,
     "user": {
      "displayName": "Sebastian Rodriguez Colina",
      "photoUrl": "",
      "userId": "15883086893181703875"
     },
     "user_tz": 300
    },
    "id": "TOTg4z3EiJAk",
    "outputId": "ec24c43f-3b12-4214-cfec-00f209dfee5e"
   },
   "outputs": [
    {
     "ename": "ValueError",
     "evalue": "operands could not be broadcast together with shapes (3,5) (3,) ",
     "output_type": "error",
     "traceback": [
      "\u001b[1;31m---------------------------------------------------------------------------\u001b[0m",
      "\u001b[1;31mValueError\u001b[0m                                Traceback (most recent call last)",
      "\u001b[1;32m<ipython-input-121-900f5ba02204>\u001b[0m in \u001b[0;36m<module>\u001b[1;34m\u001b[0m\n\u001b[1;32m----> 1\u001b[1;33m \u001b[0mmatrix\u001b[0m \u001b[1;33m=\u001b[0m \u001b[0mmatrix\u001b[0m \u001b[1;33m+\u001b[0m \u001b[0mnp\u001b[0m\u001b[1;33m.\u001b[0m\u001b[0marray\u001b[0m\u001b[1;33m(\u001b[0m\u001b[1;33m[\u001b[0m\u001b[1;36m1\u001b[0m\u001b[1;33m,\u001b[0m \u001b[1;36m2\u001b[0m\u001b[1;33m,\u001b[0m \u001b[1;36m3\u001b[0m\u001b[1;33m]\u001b[0m\u001b[1;33m)\u001b[0m\u001b[1;33m\u001b[0m\u001b[1;33m\u001b[0m\u001b[0m\n\u001b[0m\u001b[0;32m      2\u001b[0m \u001b[0mmatrix\u001b[0m\u001b[1;33m\u001b[0m\u001b[1;33m\u001b[0m\u001b[0m\n",
      "\u001b[1;31mValueError\u001b[0m: operands could not be broadcast together with shapes (3,5) (3,) "
     ]
    }
   ],
   "source": [
    "matrix = matrix + np.array([1, 2, 3])\n",
    "matrix"
   ]
  },
  {
   "cell_type": "code",
   "execution_count": 123,
   "metadata": {},
   "outputs": [
    {
     "data": {
      "text/plain": [
       "(3, 5)"
      ]
     },
     "execution_count": 123,
     "metadata": {},
     "output_type": "execute_result"
    }
   ],
   "source": [
    "matrix.shape"
   ]
  },
  {
   "cell_type": "code",
   "execution_count": 126,
   "metadata": {},
   "outputs": [
    {
     "data": {
      "text/plain": [
       "(1, 5)"
      ]
     },
     "execution_count": 126,
     "metadata": {},
     "output_type": "execute_result"
    }
   ],
   "source": [
    "np.array([1, 2, 3,4,5]).reshape(1,-1).shape"
   ]
  },
  {
   "cell_type": "code",
   "execution_count": 125,
   "metadata": {
    "colab": {
     "base_uri": "https://localhost:8080/",
     "height": 68
    },
    "colab_type": "code",
    "executionInfo": {
     "elapsed": 529,
     "status": "ok",
     "timestamp": 1538706300971,
     "user": {
      "displayName": "Sebastian Rodriguez Colina",
      "photoUrl": "",
      "userId": "15883086893181703875"
     },
     "user_tz": 300
    },
    "id": "FvmdvnC8iI9z",
    "outputId": "54e002fe-6ce4-46fd-a847-eaa88d419870"
   },
   "outputs": [
    {
     "data": {
      "text/plain": [
       "array([[11.86450598, 14.13137401, 13.29237267, 15.17438367, 15.43177251],\n",
       "       [13.16681047, 13.32064391, 15.32382415, 15.75547585, 17.68200251],\n",
       "       [14.6189145 , 15.44165031, 16.17801957, 18.39530448, 17.68379314]])"
      ]
     },
     "execution_count": 125,
     "metadata": {},
     "output_type": "execute_result"
    }
   ],
   "source": [
    "matrix = matrix + np.array([1, 2, 3,4,5]).reshape(1,-1)\n",
    "matrix"
   ]
  },
  {
   "cell_type": "code",
   "execution_count": 127,
   "metadata": {
    "colab": {
     "base_uri": "https://localhost:8080/",
     "height": 120
    },
    "colab_type": "code",
    "executionInfo": {
     "elapsed": 587,
     "status": "ok",
     "timestamp": 1538706308507,
     "user": {
      "displayName": "Sebastian Rodriguez Colina",
      "photoUrl": "",
      "userId": "15883086893181703875"
     },
     "user_tz": 300
    },
    "id": "aVtFprtfiI6Q",
    "outputId": "df724819-bad5-4bc7-ee94-6fe63763c1dd"
   },
   "outputs": [
    {
     "data": {
      "text/plain": [
       "array([[-11.86450598,   0.        ,  13.29237267, -15.17438367,\n",
       "          0.        ],\n",
       "       [-13.16681047,   0.        ,  15.32382415, -15.75547585,\n",
       "          0.        ],\n",
       "       [-14.6189145 ,   0.        ,  16.17801957, -18.39530448,\n",
       "          0.        ]])"
      ]
     },
     "execution_count": 127,
     "metadata": {},
     "output_type": "execute_result"
    }
   ],
   "source": [
    "matrix = matrix * np.array([-1, 0, 1, -1, 0])\n",
    "matrix"
   ]
  },
  {
   "cell_type": "code",
   "execution_count": 128,
   "metadata": {
    "colab": {
     "base_uri": "https://localhost:8080/",
     "height": 201
    },
    "colab_type": "code",
    "executionInfo": {
     "elapsed": 659,
     "status": "error",
     "timestamp": 1538706422151,
     "user": {
      "displayName": "Sebastian Rodriguez Colina",
      "photoUrl": "",
      "userId": "15883086893181703875"
     },
     "user_tz": 300
    },
    "id": "BK90IDjciI3r",
    "outputId": "fd9b1bbd-aaaa-4186-e3ab-d5b855cda8fb"
   },
   "outputs": [
    {
     "ename": "ValueError",
     "evalue": "operands could not be broadcast together with shapes (3,5) (5,1) ",
     "output_type": "error",
     "traceback": [
      "\u001b[1;31m---------------------------------------------------------------------------\u001b[0m",
      "\u001b[1;31mValueError\u001b[0m                                Traceback (most recent call last)",
      "\u001b[1;32m<ipython-input-128-b55ca059ee99>\u001b[0m in \u001b[0;36m<module>\u001b[1;34m\u001b[0m\n\u001b[1;32m----> 1\u001b[1;33m \u001b[0mmatrix\u001b[0m \u001b[1;33m=\u001b[0m \u001b[0mmatrix\u001b[0m \u001b[1;33m*\u001b[0m \u001b[0mnp\u001b[0m\u001b[1;33m.\u001b[0m\u001b[0marray\u001b[0m\u001b[1;33m(\u001b[0m\u001b[1;33m[\u001b[0m\u001b[1;33m-\u001b[0m\u001b[1;36m1\u001b[0m\u001b[1;33m,\u001b[0m \u001b[1;36m0\u001b[0m\u001b[1;33m,\u001b[0m \u001b[1;36m1\u001b[0m\u001b[1;33m,\u001b[0m \u001b[1;33m-\u001b[0m\u001b[1;36m1\u001b[0m\u001b[1;33m,\u001b[0m \u001b[1;36m0\u001b[0m\u001b[1;33m]\u001b[0m\u001b[1;33m)\u001b[0m\u001b[1;33m.\u001b[0m\u001b[0mreshape\u001b[0m\u001b[1;33m(\u001b[0m\u001b[1;33m-\u001b[0m\u001b[1;36m1\u001b[0m\u001b[1;33m,\u001b[0m \u001b[1;36m1\u001b[0m\u001b[1;33m)\u001b[0m\u001b[1;33m\u001b[0m\u001b[1;33m\u001b[0m\u001b[0m\n\u001b[0m\u001b[0;32m      2\u001b[0m \u001b[0mmatrix\u001b[0m\u001b[1;33m\u001b[0m\u001b[1;33m\u001b[0m\u001b[0m\n",
      "\u001b[1;31mValueError\u001b[0m: operands could not be broadcast together with shapes (3,5) (5,1) "
     ]
    }
   ],
   "source": [
    "matrix = matrix * np.array([-1, 0, 1, -1, 0]).reshape(-1, 1)\n",
    "matrix"
   ]
  },
  {
   "cell_type": "code",
   "execution_count": 139,
   "metadata": {
    "colab": {
     "base_uri": "https://localhost:8080/",
     "height": 68
    },
    "colab_type": "code",
    "executionInfo": {
     "elapsed": 407,
     "status": "ok",
     "timestamp": 1538706553836,
     "user": {
      "displayName": "Sebastian Rodriguez Colina",
      "photoUrl": "",
      "userId": "15883086893181703875"
     },
     "user_tz": 300
    },
    "id": "A9ofWhLvqg_Z",
    "outputId": "239cc28d-5d95-4d4c-a45c-1a59de2e4bb2"
   },
   "outputs": [
    {
     "data": {
      "text/plain": [
       "array([[-0. , -0. , 14.5, -0. , -0. ],\n",
       "       [-0. , -0. , 16.5, -0. , -0. ],\n",
       "       [-0. , -0. , 18.5, -0. , -0. ]])"
      ]
     },
     "execution_count": 139,
     "metadata": {
      "tags": []
     },
     "output_type": "execute_result"
    }
   ],
   "source": [
    "matrix * np.array([-1, 0, 1, -1, 0]).reshape(1, -1)"
   ]
  },
  {
   "cell_type": "markdown",
   "metadata": {
    "colab_type": "text",
    "id": "PsF6OszHrH_Q"
   },
   "source": [
    "cómo reversar el orden de las columnas?"
   ]
  },
  {
   "cell_type": "code",
   "execution_count": 132,
   "metadata": {},
   "outputs": [
    {
     "data": {
      "text/plain": [
       "array([], shape=(3, 0), dtype=float64)"
      ]
     },
     "execution_count": 132,
     "metadata": {},
     "output_type": "execute_result"
    }
   ],
   "source": [
    "matrix[:,0:4:-1]"
   ]
  },
  {
   "cell_type": "code",
   "execution_count": 138,
   "metadata": {
    "colab": {
     "base_uri": "https://localhost:8080/",
     "height": 120
    },
    "colab_type": "code",
    "executionInfo": {
     "elapsed": 479,
     "status": "ok",
     "timestamp": 1538706535426,
     "user": {
      "displayName": "Sebastian Rodriguez Colina",
      "photoUrl": "",
      "userId": "15883086893181703875"
     },
     "user_tz": 300
    },
    "id": "AqyKouX5qhIt",
    "outputId": "2ec5333a-b0fc-4a36-d648-136a9dbd41d9"
   },
   "outputs": [
    {
     "data": {
      "text/plain": [
       "array([[  0.        , -12.5       ,  14.5       ,   0.        ,\n",
       "        -12.5       ],\n",
       "       [  0.        , -13.06786673,  16.5       ,   0.        ,\n",
       "        -14.12757231],\n",
       "       [  0.        , -16.12955542,  18.5       ,   0.        ,\n",
       "        -17.14736451]])"
      ]
     },
     "execution_count": 138,
     "metadata": {
      "tags": []
     },
     "output_type": "execute_result"
    }
   ],
   "source": [
    "matrix = matrix[...,::-1]\n",
    "matrix"
   ]
  },
  {
   "cell_type": "markdown",
   "metadata": {
    "colab_type": "text",
    "id": "brkfvWCzrSxl"
   },
   "source": [
    "arreglo de tres dimensiones"
   ]
  },
  {
   "cell_type": "code",
   "execution_count": 0,
   "metadata": {
    "colab": {
     "base_uri": "https://localhost:8080/",
     "height": 143
    },
    "colab_type": "code",
    "id": "sOYvPR5JqhF2",
    "outputId": "7c17b460-f510-4f92-bf8d-ee50f35c49af"
   },
   "outputs": [
    {
     "data": {
      "text/plain": [
       "array([[[-1.65564084, -1.81438643,  0.18773681, -0.23711446],\n",
       "        [-0.33643594, -0.605508  , -0.50558218,  0.08151917],\n",
       "        [-0.22377286, -0.75375816, -0.18871209, -0.60039437]],\n",
       "\n",
       "       [[ 0.35751268, -0.32641356,  0.07101634, -0.13390718],\n",
       "        [ 1.54271356, -0.33542322,  0.77965658, -1.00117921],\n",
       "        [-0.62297889, -1.44312011,  1.56710494, -0.8225313 ]]])"
      ]
     },
     "execution_count": 89,
     "metadata": {
      "tags": []
     },
     "output_type": "execute_result"
    }
   ],
   "source": [
    "tensor = np.random.randn(2,3,4)\n",
    "tensor"
   ]
  },
  {
   "cell_type": "code",
   "execution_count": 0,
   "metadata": {
    "colab": {
     "base_uri": "https://localhost:8080/",
     "height": 35
    },
    "colab_type": "code",
    "id": "w9mPTryqrWYY",
    "outputId": "118d36b0-a408-4f79-e1dd-917c446b42b6"
   },
   "outputs": [
    {
     "data": {
      "text/plain": [
       "(2, 3, 4)"
      ]
     },
     "execution_count": 90,
     "metadata": {
      "tags": []
     },
     "output_type": "execute_result"
    }
   ],
   "source": [
    "tensor.shape"
   ]
  },
  {
   "cell_type": "markdown",
   "metadata": {
    "colab_type": "text",
    "id": "8XIwLceBrZwK"
   },
   "source": [
    "Este tensor se puede interpretar como cuatro matrices de $2\\times 3$ cada una.\n",
    "\n",
    "As que la primera de esas cuatro matrices se solo contenga 1"
   ]
  },
  {
   "cell_type": "code",
   "execution_count": 139,
   "metadata": {},
   "outputs": [],
   "source": [
    "matrix = np.random.randint(0, 10, [3,4])"
   ]
  },
  {
   "cell_type": "code",
   "execution_count": 0,
   "metadata": {
    "colab": {
     "base_uri": "https://localhost:8080/",
     "height": 143
    },
    "colab_type": "code",
    "id": "nXeMkhEFrWVV",
    "outputId": "a0d7635a-d279-47a5-94a9-cf0c015797f3"
   },
   "outputs": [
    {
     "data": {
      "text/plain": [
       "array([[[ 1.        , -1.81438643,  0.18773681, -0.23711446],\n",
       "        [ 1.        , -0.605508  , -0.50558218,  0.08151917],\n",
       "        [ 1.        , -0.75375816, -0.18871209, -0.60039437]],\n",
       "\n",
       "       [[ 1.        , -0.32641356,  0.07101634, -0.13390718],\n",
       "        [ 1.        , -0.33542322,  0.77965658, -1.00117921],\n",
       "        [ 1.        , -1.44312011,  1.56710494, -0.8225313 ]]])"
      ]
     },
     "execution_count": 91,
     "metadata": {
      "tags": []
     },
     "output_type": "execute_result"
    }
   ],
   "source": [
    "tensor[...,0] = np.ones((2,3))\n",
    "tensor"
   ]
  },
  {
   "cell_type": "markdown",
   "metadata": {
    "colab_type": "text",
    "id": "3O4Kidp0rzKp"
   },
   "source": [
    "si el resultado anterior no se ve como esperabas, no importa; eso no está hecho para verse"
   ]
  },
  {
   "cell_type": "markdown",
   "metadata": {
    "colab_type": "text",
    "id": "QhOb3UzTr5m2"
   },
   "source": [
    "También podemos reversar las capas"
   ]
  },
  {
   "cell_type": "code",
   "execution_count": 0,
   "metadata": {
    "colab": {
     "base_uri": "https://localhost:8080/",
     "height": 143
    },
    "colab_type": "code",
    "id": "JFQIEHSirWSY",
    "outputId": "18d45625-5d1c-492b-8923-ad47150d5968"
   },
   "outputs": [
    {
     "data": {
      "text/plain": [
       "array([[[-0.23711446,  0.18773681, -1.81438643,  1.        ],\n",
       "        [ 0.08151917, -0.50558218, -0.605508  ,  1.        ],\n",
       "        [-0.60039437, -0.18871209, -0.75375816,  1.        ]],\n",
       "\n",
       "       [[-0.13390718,  0.07101634, -0.32641356,  1.        ],\n",
       "        [-1.00117921,  0.77965658, -0.33542322,  1.        ],\n",
       "        [-0.8225313 ,  1.56710494, -1.44312011,  1.        ]]])"
      ]
     },
     "execution_count": 92,
     "metadata": {
      "tags": []
     },
     "output_type": "execute_result"
    }
   ],
   "source": [
    "tensor = tensor[...,::-1]\n",
    "tensor"
   ]
  },
  {
   "cell_type": "markdown",
   "metadata": {
    "colab_type": "text",
    "id": "7PcGy33JtxEy"
   },
   "source": [
    "**concatenar**"
   ]
  },
  {
   "cell_type": "code",
   "execution_count": 140,
   "metadata": {
    "colab": {
     "base_uri": "https://localhost:8080/",
     "height": 71
    },
    "colab_type": "code",
    "id": "WDh_arVdrWPn",
    "outputId": "a986a602-37de-4246-b647-e884a45d26fe"
   },
   "outputs": [
    {
     "data": {
      "text/plain": [
       "array([[8, 8, 7, 6],\n",
       "       [2, 6, 0, 7],\n",
       "       [9, 0, 5, 7]])"
      ]
     },
     "execution_count": 140,
     "metadata": {},
     "output_type": "execute_result"
    }
   ],
   "source": [
    "matrix"
   ]
  },
  {
   "cell_type": "markdown",
   "metadata": {
    "colab_type": "text",
    "id": "5NdaFo93t2yv"
   },
   "source": [
    "supongamos que a la matriz anterior le queremos agregar una fila de 1s"
   ]
  },
  {
   "cell_type": "code",
   "execution_count": 144,
   "metadata": {
    "colab": {
     "base_uri": "https://localhost:8080/",
     "height": 89
    },
    "colab_type": "code",
    "id": "-DXGKH5JqhDk",
    "outputId": "82f5cb6f-bbc0-4a39-b7ca-2c9181c4eeea"
   },
   "outputs": [
    {
     "data": {
      "text/plain": [
       "array([[8., 8., 7., 6., 1., 0., 0., 0.],\n",
       "       [2., 6., 0., 7., 1., 0., 0., 0.],\n",
       "       [9., 0., 5., 7., 1., 0., 0., 0.]])"
      ]
     },
     "execution_count": 144,
     "metadata": {},
     "output_type": "execute_result"
    }
   ],
   "source": [
    "np.concatenate((matrix, np.ones((3,1)), np.zeros((3,3))), axis=1)"
   ]
  },
  {
   "cell_type": "markdown",
   "metadata": {
    "colab_type": "text",
    "id": "pqM94q_GuTTw"
   },
   "source": [
    "o una columna"
   ]
  },
  {
   "cell_type": "code",
   "execution_count": 0,
   "metadata": {
    "colab": {
     "base_uri": "https://localhost:8080/",
     "height": 125
    },
    "colab_type": "code",
    "id": "WOsaS1UNuTsg",
    "outputId": "7b730d13-4e3a-40c6-f249-5cb0d2b87c38"
   },
   "outputs": [
    {
     "data": {
      "text/plain": [
       "array([[ 0.        , -6.5       ,  8.5       ,  0.        , -6.5       ,\n",
       "         1.        ],\n",
       "       [ 0.        , -7.6733241 ,  9.5       ,  0.        , -7.65632786,\n",
       "         1.        ],\n",
       "       [ 0.        , -8.90152806, 10.5       ,  0.        , -7.73313844,\n",
       "         1.        ]])"
      ]
     },
     "execution_count": 98,
     "metadata": {
      "tags": []
     },
     "output_type": "execute_result"
    }
   ],
   "source": [
    "np.concatenate((matrix, np.ones((3,1))), axis=1)"
   ]
  },
  {
   "cell_type": "markdown",
   "metadata": {
    "colab_type": "text",
    "id": "6AwVpV-dulhT"
   },
   "source": [
    "Hay muchas más cosas, por favor revisa: https://www.tutorialspoint.com/numpy/index.htm"
   ]
  },
  {
   "cell_type": "markdown",
   "metadata": {
    "colab_type": "text",
    "id": "JSAQxrIZPJj4"
   },
   "source": [
    "## Pandas"
   ]
  },
  {
   "cell_type": "code",
   "execution_count": 146,
   "metadata": {
    "colab": {},
    "colab_type": "code",
    "id": "loyCk3pqwnGL"
   },
   "outputs": [],
   "source": [
    "import pandas as pd"
   ]
  },
  {
   "cell_type": "code",
   "execution_count": 0,
   "metadata": {
    "colab": {
     "base_uri": "https://localhost:8080/",
     "height": 125
    },
    "colab_type": "code",
    "id": "tq4P19a0wIRG",
    "outputId": "21303e86-089e-433b-ffee-adc77ce34ecc"
   },
   "outputs": [
    {
     "data": {
      "text/plain": [
       "['anscombe.json',\n",
       " 'california_housing_test.csv',\n",
       " 'README.md',\n",
       " 'mnist_train_small.csv',\n",
       " 'california_housing_train.csv',\n",
       " 'mnist_test.csv']"
      ]
     },
     "execution_count": 111,
     "metadata": {
      "tags": []
     },
     "output_type": "execute_result"
    }
   ],
   "source": [
    "import os\n",
    "os.listdir('sample_data')"
   ]
  },
  {
   "cell_type": "markdown",
   "metadata": {
    "colab_type": "text",
    "id": "ZrE0a4Sawd_B"
   },
   "source": [
    "miremos el archivo california_housing_train.csv. Lo siguiente lo guarda en un objteto tipo pd.DataFrame"
   ]
  },
  {
   "cell_type": "code",
   "execution_count": 147,
   "metadata": {},
   "outputs": [],
   "source": [
    "pd.read_csv?"
   ]
  },
  {
   "cell_type": "code",
   "execution_count": 0,
   "metadata": {
    "colab": {},
    "colab_type": "code",
    "id": "ameHjqVxwRih"
   },
   "outputs": [],
   "source": [
    "df = pd.read_csv('sample_data/california_housing_train.csv')"
   ]
  },
  {
   "cell_type": "markdown",
   "metadata": {
    "colab_type": "text",
    "id": "6QyVorPYxJVl"
   },
   "source": [
    "la siguiente linea nos deja observar algunas lineas del archivo .csv"
   ]
  },
  {
   "cell_type": "code",
   "execution_count": 0,
   "metadata": {
    "colab": {
     "base_uri": "https://localhost:8080/",
     "height": 204
    },
    "colab_type": "code",
    "id": "MO70048axDWh",
    "outputId": "4da1a764-0ec4-4236-a31d-70e399be1921"
   },
   "outputs": [
    {
     "data": {
      "text/html": [
       "<div>\n",
       "<style scoped>\n",
       "    .dataframe tbody tr th:only-of-type {\n",
       "        vertical-align: middle;\n",
       "    }\n",
       "\n",
       "    .dataframe tbody tr th {\n",
       "        vertical-align: top;\n",
       "    }\n",
       "\n",
       "    .dataframe thead th {\n",
       "        text-align: right;\n",
       "    }\n",
       "</style>\n",
       "<table border=\"1\" class=\"dataframe\">\n",
       "  <thead>\n",
       "    <tr style=\"text-align: right;\">\n",
       "      <th></th>\n",
       "      <th>longitude</th>\n",
       "      <th>latitude</th>\n",
       "      <th>housing_median_age</th>\n",
       "      <th>total_rooms</th>\n",
       "      <th>total_bedrooms</th>\n",
       "      <th>population</th>\n",
       "      <th>households</th>\n",
       "      <th>median_income</th>\n",
       "      <th>median_house_value</th>\n",
       "    </tr>\n",
       "  </thead>\n",
       "  <tbody>\n",
       "    <tr>\n",
       "      <th>0</th>\n",
       "      <td>-114.31</td>\n",
       "      <td>34.19</td>\n",
       "      <td>15.0</td>\n",
       "      <td>5612.0</td>\n",
       "      <td>1283.0</td>\n",
       "      <td>1015.0</td>\n",
       "      <td>472.0</td>\n",
       "      <td>1.4936</td>\n",
       "      <td>66900.0</td>\n",
       "    </tr>\n",
       "    <tr>\n",
       "      <th>1</th>\n",
       "      <td>-114.47</td>\n",
       "      <td>34.40</td>\n",
       "      <td>19.0</td>\n",
       "      <td>7650.0</td>\n",
       "      <td>1901.0</td>\n",
       "      <td>1129.0</td>\n",
       "      <td>463.0</td>\n",
       "      <td>1.8200</td>\n",
       "      <td>80100.0</td>\n",
       "    </tr>\n",
       "    <tr>\n",
       "      <th>2</th>\n",
       "      <td>-114.56</td>\n",
       "      <td>33.69</td>\n",
       "      <td>17.0</td>\n",
       "      <td>720.0</td>\n",
       "      <td>174.0</td>\n",
       "      <td>333.0</td>\n",
       "      <td>117.0</td>\n",
       "      <td>1.6509</td>\n",
       "      <td>85700.0</td>\n",
       "    </tr>\n",
       "    <tr>\n",
       "      <th>3</th>\n",
       "      <td>-114.57</td>\n",
       "      <td>33.64</td>\n",
       "      <td>14.0</td>\n",
       "      <td>1501.0</td>\n",
       "      <td>337.0</td>\n",
       "      <td>515.0</td>\n",
       "      <td>226.0</td>\n",
       "      <td>3.1917</td>\n",
       "      <td>73400.0</td>\n",
       "    </tr>\n",
       "    <tr>\n",
       "      <th>4</th>\n",
       "      <td>-114.57</td>\n",
       "      <td>33.57</td>\n",
       "      <td>20.0</td>\n",
       "      <td>1454.0</td>\n",
       "      <td>326.0</td>\n",
       "      <td>624.0</td>\n",
       "      <td>262.0</td>\n",
       "      <td>1.9250</td>\n",
       "      <td>65500.0</td>\n",
       "    </tr>\n",
       "  </tbody>\n",
       "</table>\n",
       "</div>"
      ],
      "text/plain": [
       "   longitude  latitude  housing_median_age  total_rooms  total_bedrooms  \\\n",
       "0    -114.31     34.19                15.0       5612.0          1283.0   \n",
       "1    -114.47     34.40                19.0       7650.0          1901.0   \n",
       "2    -114.56     33.69                17.0        720.0           174.0   \n",
       "3    -114.57     33.64                14.0       1501.0           337.0   \n",
       "4    -114.57     33.57                20.0       1454.0           326.0   \n",
       "\n",
       "   population  households  median_income  median_house_value  \n",
       "0      1015.0       472.0         1.4936             66900.0  \n",
       "1      1129.0       463.0         1.8200             80100.0  \n",
       "2       333.0       117.0         1.6509             85700.0  \n",
       "3       515.0       226.0         3.1917             73400.0  \n",
       "4       624.0       262.0         1.9250             65500.0  "
      ]
     },
     "execution_count": 114,
     "metadata": {
      "tags": []
     },
     "output_type": "execute_result"
    }
   ],
   "source": [
    "df.head()"
   ]
  },
  {
   "cell_type": "code",
   "execution_count": 149,
   "metadata": {},
   "outputs": [],
   "source": [
    "tabla = [{'col1': 1, 'col2': 2, 'col3': 3},{'col1': 1, 'col2': 6, 'col3': 3},{'col1': 5, 'col2': 2, 'col3': 4},{'col1': 5, 'col2': 2, 'col3': 3},{'col1': 9, 'col2': 2, 'col3': 0}]"
   ]
  },
  {
   "cell_type": "code",
   "execution_count": 181,
   "metadata": {},
   "outputs": [
    {
     "data": {
      "text/html": [
       "<div>\n",
       "<style scoped>\n",
       "    .dataframe tbody tr th:only-of-type {\n",
       "        vertical-align: middle;\n",
       "    }\n",
       "\n",
       "    .dataframe tbody tr th {\n",
       "        vertical-align: top;\n",
       "    }\n",
       "\n",
       "    .dataframe thead th {\n",
       "        text-align: right;\n",
       "    }\n",
       "</style>\n",
       "<table border=\"1\" class=\"dataframe\">\n",
       "  <thead>\n",
       "    <tr style=\"text-align: right;\">\n",
       "      <th></th>\n",
       "      <th>col1</th>\n",
       "      <th>col2</th>\n",
       "      <th>col3</th>\n",
       "    </tr>\n",
       "  </thead>\n",
       "  <tbody>\n",
       "    <tr>\n",
       "      <th>0</th>\n",
       "      <td>1</td>\n",
       "      <td>2</td>\n",
       "      <td>3</td>\n",
       "    </tr>\n",
       "    <tr>\n",
       "      <th>1</th>\n",
       "      <td>1</td>\n",
       "      <td>6</td>\n",
       "      <td>3</td>\n",
       "    </tr>\n",
       "    <tr>\n",
       "      <th>2</th>\n",
       "      <td>5</td>\n",
       "      <td>2</td>\n",
       "      <td>4</td>\n",
       "    </tr>\n",
       "    <tr>\n",
       "      <th>3</th>\n",
       "      <td>5</td>\n",
       "      <td>2</td>\n",
       "      <td>3</td>\n",
       "    </tr>\n",
       "    <tr>\n",
       "      <th>4</th>\n",
       "      <td>9</td>\n",
       "      <td>2</td>\n",
       "      <td>0</td>\n",
       "    </tr>\n",
       "  </tbody>\n",
       "</table>\n",
       "</div>"
      ],
      "text/plain": [
       "   col1  col2  col3\n",
       "0     1     2     3\n",
       "1     1     6     3\n",
       "2     5     2     4\n",
       "3     5     2     3\n",
       "4     9     2     0"
      ]
     },
     "execution_count": 181,
     "metadata": {},
     "output_type": "execute_result"
    }
   ],
   "source": [
    "df = pd.DataFrame(tabla)\n",
    "df"
   ]
  },
  {
   "cell_type": "code",
   "execution_count": 158,
   "metadata": {},
   "outputs": [
    {
     "data": {
      "text/plain": [
       "0    1\n",
       "1    1\n",
       "2    5\n",
       "Name: col1, dtype: int64"
      ]
     },
     "execution_count": 158,
     "metadata": {},
     "output_type": "execute_result"
    }
   ],
   "source": [
    "df.loc[:2,'col1']"
   ]
  },
  {
   "cell_type": "code",
   "execution_count": 160,
   "metadata": {},
   "outputs": [
    {
     "data": {
      "text/plain": [
       "2"
      ]
     },
     "execution_count": 160,
     "metadata": {},
     "output_type": "execute_result"
    }
   ],
   "source": [
    "df.iloc[0, 1]"
   ]
  },
  {
   "cell_type": "markdown",
   "metadata": {
    "colab_type": "text",
    "id": "MzJ4EwekxTDD"
   },
   "source": [
    "podemos sacar un rápido resumen de los datos usando pandas"
   ]
  },
  {
   "cell_type": "code",
   "execution_count": 161,
   "metadata": {
    "colab": {
     "base_uri": "https://localhost:8080/",
     "height": 297
    },
    "colab_type": "code",
    "id": "whe5oT5AxEGD",
    "outputId": "eb3510c8-24d6-4944-c9c6-c6eeea33a804"
   },
   "outputs": [
    {
     "data": {
      "text/html": [
       "<div>\n",
       "<style scoped>\n",
       "    .dataframe tbody tr th:only-of-type {\n",
       "        vertical-align: middle;\n",
       "    }\n",
       "\n",
       "    .dataframe tbody tr th {\n",
       "        vertical-align: top;\n",
       "    }\n",
       "\n",
       "    .dataframe thead th {\n",
       "        text-align: right;\n",
       "    }\n",
       "</style>\n",
       "<table border=\"1\" class=\"dataframe\">\n",
       "  <thead>\n",
       "    <tr style=\"text-align: right;\">\n",
       "      <th></th>\n",
       "      <th>col1</th>\n",
       "      <th>col2</th>\n",
       "      <th>col3</th>\n",
       "    </tr>\n",
       "  </thead>\n",
       "  <tbody>\n",
       "    <tr>\n",
       "      <th>count</th>\n",
       "      <td>5.00000</td>\n",
       "      <td>5.000000</td>\n",
       "      <td>5.000000</td>\n",
       "    </tr>\n",
       "    <tr>\n",
       "      <th>mean</th>\n",
       "      <td>4.20000</td>\n",
       "      <td>2.800000</td>\n",
       "      <td>2.600000</td>\n",
       "    </tr>\n",
       "    <tr>\n",
       "      <th>std</th>\n",
       "      <td>3.34664</td>\n",
       "      <td>1.788854</td>\n",
       "      <td>1.516575</td>\n",
       "    </tr>\n",
       "    <tr>\n",
       "      <th>min</th>\n",
       "      <td>1.00000</td>\n",
       "      <td>2.000000</td>\n",
       "      <td>0.000000</td>\n",
       "    </tr>\n",
       "    <tr>\n",
       "      <th>25%</th>\n",
       "      <td>1.00000</td>\n",
       "      <td>2.000000</td>\n",
       "      <td>3.000000</td>\n",
       "    </tr>\n",
       "    <tr>\n",
       "      <th>50%</th>\n",
       "      <td>5.00000</td>\n",
       "      <td>2.000000</td>\n",
       "      <td>3.000000</td>\n",
       "    </tr>\n",
       "    <tr>\n",
       "      <th>75%</th>\n",
       "      <td>5.00000</td>\n",
       "      <td>2.000000</td>\n",
       "      <td>3.000000</td>\n",
       "    </tr>\n",
       "    <tr>\n",
       "      <th>max</th>\n",
       "      <td>9.00000</td>\n",
       "      <td>6.000000</td>\n",
       "      <td>4.000000</td>\n",
       "    </tr>\n",
       "  </tbody>\n",
       "</table>\n",
       "</div>"
      ],
      "text/plain": [
       "          col1      col2      col3\n",
       "count  5.00000  5.000000  5.000000\n",
       "mean   4.20000  2.800000  2.600000\n",
       "std    3.34664  1.788854  1.516575\n",
       "min    1.00000  2.000000  0.000000\n",
       "25%    1.00000  2.000000  3.000000\n",
       "50%    5.00000  2.000000  3.000000\n",
       "75%    5.00000  2.000000  3.000000\n",
       "max    9.00000  6.000000  4.000000"
      ]
     },
     "execution_count": 161,
     "metadata": {},
     "output_type": "execute_result"
    }
   ],
   "source": [
    "df.describe()"
   ]
  },
  {
   "cell_type": "markdown",
   "metadata": {
    "colab_type": "text",
    "id": "zrdHztrVxXWP"
   },
   "source": [
    "incluso histogramas de cada variable (nota: hay mejores formas de sacar histogramas en Python)"
   ]
  },
  {
   "cell_type": "code",
   "execution_count": 163,
   "metadata": {},
   "outputs": [],
   "source": [
    "%matplotlib inline"
   ]
  },
  {
   "cell_type": "code",
   "execution_count": 164,
   "metadata": {
    "colab": {
     "base_uri": "https://localhost:8080/",
     "height": 542
    },
    "colab_type": "code",
    "id": "bM90a9ZNxWKZ",
    "outputId": "872a6e30-e2f0-497c-e359-14c799d2c857"
   },
   "outputs": [
    {
     "data": {
      "text/plain": [
       "array([[<matplotlib.axes._subplots.AxesSubplot object at 0x0000023B08323D68>,\n",
       "        <matplotlib.axes._subplots.AxesSubplot object at 0x0000023B0889A4A8>],\n",
       "       [<matplotlib.axes._subplots.AxesSubplot object at 0x0000023B088C39E8>,\n",
       "        <matplotlib.axes._subplots.AxesSubplot object at 0x0000023B088E9F60>]],\n",
       "      dtype=object)"
      ]
     },
     "execution_count": 164,
     "metadata": {},
     "output_type": "execute_result"
    },
    {
     "data": {
      "image/png": "[encoded data removed]",
      "text/plain": [
       "<Figure size 432x288 with 4 Axes>"
      ]
     },
     "metadata": {
      "needs_background": "light"
     },
     "output_type": "display_data"
    }
   ],
   "source": [
    "df.hist()"
   ]
  },
  {
   "cell_type": "markdown",
   "metadata": {
    "colab_type": "text",
    "id": "9DYlRS5uy0xT"
   },
   "source": [
    "se generar un dataframe con solo algunas columnas de interés"
   ]
  },
  {
   "cell_type": "code",
   "execution_count": 169,
   "metadata": {},
   "outputs": [
    {
     "data": {
      "text/html": [
       "<div>\n",
       "<style scoped>\n",
       "    .dataframe tbody tr th:only-of-type {\n",
       "        vertical-align: middle;\n",
       "    }\n",
       "\n",
       "    .dataframe tbody tr th {\n",
       "        vertical-align: top;\n",
       "    }\n",
       "\n",
       "    .dataframe thead th {\n",
       "        text-align: right;\n",
       "    }\n",
       "</style>\n",
       "<table border=\"1\" class=\"dataframe\">\n",
       "  <thead>\n",
       "    <tr style=\"text-align: right;\">\n",
       "      <th></th>\n",
       "      <th>col1</th>\n",
       "      <th>col3</th>\n",
       "    </tr>\n",
       "  </thead>\n",
       "  <tbody>\n",
       "    <tr>\n",
       "      <th>0</th>\n",
       "      <td>1</td>\n",
       "      <td>3</td>\n",
       "    </tr>\n",
       "    <tr>\n",
       "      <th>1</th>\n",
       "      <td>1</td>\n",
       "      <td>3</td>\n",
       "    </tr>\n",
       "    <tr>\n",
       "      <th>2</th>\n",
       "      <td>5</td>\n",
       "      <td>4</td>\n",
       "    </tr>\n",
       "    <tr>\n",
       "      <th>3</th>\n",
       "      <td>5</td>\n",
       "      <td>3</td>\n",
       "    </tr>\n",
       "    <tr>\n",
       "      <th>4</th>\n",
       "      <td>9</td>\n",
       "      <td>0</td>\n",
       "    </tr>\n",
       "  </tbody>\n",
       "</table>\n",
       "</div>"
      ],
      "text/plain": [
       "   col1  col3\n",
       "0     1     3\n",
       "1     1     3\n",
       "2     5     4\n",
       "3     5     3\n",
       "4     9     0"
      ]
     },
     "execution_count": 169,
     "metadata": {},
     "output_type": "execute_result"
    }
   ],
   "source": [
    "df[['col1','col3']].head(100)"
   ]
  },
  {
   "cell_type": "code",
   "execution_count": 168,
   "metadata": {},
   "outputs": [
    {
     "data": {
      "text/html": [
       "<div>\n",
       "<style scoped>\n",
       "    .dataframe tbody tr th:only-of-type {\n",
       "        vertical-align: middle;\n",
       "    }\n",
       "\n",
       "    .dataframe tbody tr th {\n",
       "        vertical-align: top;\n",
       "    }\n",
       "\n",
       "    .dataframe thead th {\n",
       "        text-align: right;\n",
       "    }\n",
       "</style>\n",
       "<table border=\"1\" class=\"dataframe\">\n",
       "  <thead>\n",
       "    <tr style=\"text-align: right;\">\n",
       "      <th></th>\n",
       "      <th>col1</th>\n",
       "      <th>col2</th>\n",
       "      <th>col3</th>\n",
       "    </tr>\n",
       "  </thead>\n",
       "  <tbody>\n",
       "    <tr>\n",
       "      <th>0</th>\n",
       "      <td>1</td>\n",
       "      <td>2</td>\n",
       "      <td>3</td>\n",
       "    </tr>\n",
       "    <tr>\n",
       "      <th>1</th>\n",
       "      <td>1</td>\n",
       "      <td>6</td>\n",
       "      <td>3</td>\n",
       "    </tr>\n",
       "    <tr>\n",
       "      <th>2</th>\n",
       "      <td>5</td>\n",
       "      <td>2</td>\n",
       "      <td>4</td>\n",
       "    </tr>\n",
       "    <tr>\n",
       "      <th>3</th>\n",
       "      <td>5</td>\n",
       "      <td>2</td>\n",
       "      <td>3</td>\n",
       "    </tr>\n",
       "    <tr>\n",
       "      <th>4</th>\n",
       "      <td>9</td>\n",
       "      <td>2</td>\n",
       "      <td>0</td>\n",
       "    </tr>\n",
       "  </tbody>\n",
       "</table>\n",
       "</div>"
      ],
      "text/plain": [
       "   col1  col2  col3\n",
       "0     1     2     3\n",
       "1     1     6     3\n",
       "2     5     2     4\n",
       "3     5     2     3\n",
       "4     9     2     0"
      ]
     },
     "execution_count": 168,
     "metadata": {},
     "output_type": "execute_result"
    }
   ],
   "source": [
    "df.tail()"
   ]
  },
  {
   "cell_type": "code",
   "execution_count": 0,
   "metadata": {
    "colab": {
     "base_uri": "https://localhost:8080/",
     "height": 204
    },
    "colab_type": "code",
    "id": "J39sMdsExaA4",
    "outputId": "6fc4c08e-d7f7-42f5-8538-9a3a171a8e07"
   },
   "outputs": [
    {
     "data": {
      "text/html": [
       "<div>\n",
       "<style scoped>\n",
       "    .dataframe tbody tr th:only-of-type {\n",
       "        vertical-align: middle;\n",
       "    }\n",
       "\n",
       "    .dataframe tbody tr th {\n",
       "        vertical-align: top;\n",
       "    }\n",
       "\n",
       "    .dataframe thead th {\n",
       "        text-align: right;\n",
       "    }\n",
       "</style>\n",
       "<table border=\"1\" class=\"dataframe\">\n",
       "  <thead>\n",
       "    <tr style=\"text-align: right;\">\n",
       "      <th></th>\n",
       "      <th>median_income</th>\n",
       "      <th>median_house_value</th>\n",
       "    </tr>\n",
       "  </thead>\n",
       "  <tbody>\n",
       "    <tr>\n",
       "      <th>0</th>\n",
       "      <td>1.4936</td>\n",
       "      <td>66900.0</td>\n",
       "    </tr>\n",
       "    <tr>\n",
       "      <th>1</th>\n",
       "      <td>1.8200</td>\n",
       "      <td>80100.0</td>\n",
       "    </tr>\n",
       "    <tr>\n",
       "      <th>2</th>\n",
       "      <td>1.6509</td>\n",
       "      <td>85700.0</td>\n",
       "    </tr>\n",
       "    <tr>\n",
       "      <th>3</th>\n",
       "      <td>3.1917</td>\n",
       "      <td>73400.0</td>\n",
       "    </tr>\n",
       "    <tr>\n",
       "      <th>4</th>\n",
       "      <td>1.9250</td>\n",
       "      <td>65500.0</td>\n",
       "    </tr>\n",
       "  </tbody>\n",
       "</table>\n",
       "</div>"
      ],
      "text/plain": [
       "   median_income  median_house_value\n",
       "0         1.4936             66900.0\n",
       "1         1.8200             80100.0\n",
       "2         1.6509             85700.0\n",
       "3         3.1917             73400.0\n",
       "4         1.9250             65500.0"
      ]
     },
     "execution_count": 119,
     "metadata": {
      "tags": []
     },
     "output_type": "execute_result"
    }
   ],
   "source": [
    "df[['median_income', 'median_house_value']].head()"
   ]
  },
  {
   "cell_type": "code",
   "execution_count": 189,
   "metadata": {},
   "outputs": [
    {
     "data": {
      "text/html": [
       "<div>\n",
       "<style scoped>\n",
       "    .dataframe tbody tr th:only-of-type {\n",
       "        vertical-align: middle;\n",
       "    }\n",
       "\n",
       "    .dataframe tbody tr th {\n",
       "        vertical-align: top;\n",
       "    }\n",
       "\n",
       "    .dataframe thead th {\n",
       "        text-align: right;\n",
       "    }\n",
       "</style>\n",
       "<table border=\"1\" class=\"dataframe\">\n",
       "  <thead>\n",
       "    <tr style=\"text-align: right;\">\n",
       "      <th></th>\n",
       "      <th>col1</th>\n",
       "      <th>col2</th>\n",
       "      <th>col3</th>\n",
       "    </tr>\n",
       "  </thead>\n",
       "  <tbody>\n",
       "    <tr>\n",
       "      <th>0</th>\n",
       "      <td>999</td>\n",
       "      <td>999</td>\n",
       "      <td>3</td>\n",
       "    </tr>\n",
       "    <tr>\n",
       "      <th>1</th>\n",
       "      <td>1</td>\n",
       "      <td>6</td>\n",
       "      <td>-999</td>\n",
       "    </tr>\n",
       "    <tr>\n",
       "      <th>2</th>\n",
       "      <td>5</td>\n",
       "      <td>2</td>\n",
       "      <td>-999</td>\n",
       "    </tr>\n",
       "    <tr>\n",
       "      <th>3</th>\n",
       "      <td>999</td>\n",
       "      <td>999</td>\n",
       "      <td>3</td>\n",
       "    </tr>\n",
       "    <tr>\n",
       "      <th>4</th>\n",
       "      <td>999</td>\n",
       "      <td>999</td>\n",
       "      <td>0</td>\n",
       "    </tr>\n",
       "  </tbody>\n",
       "</table>\n",
       "</div>"
      ],
      "text/plain": [
       "   col1  col2  col3\n",
       "0   999   999     3\n",
       "1     1     6  -999\n",
       "2     5     2  -999\n",
       "3   999   999     3\n",
       "4   999   999     0"
      ]
     },
     "execution_count": 189,
     "metadata": {},
     "output_type": "execute_result"
    }
   ],
   "source": [
    "df.loc[[0,3,4], ['col1','col2']] = 999\n",
    "df.loc[[1,2], ['col3']] = -999\n",
    "df"
   ]
  },
  {
   "cell_type": "code",
   "execution_count": 190,
   "metadata": {},
   "outputs": [],
   "source": [
    "df[(df >= 999) & (df <= -999)] = 5"
   ]
  },
  {
   "cell_type": "code",
   "execution_count": 187,
   "metadata": {},
   "outputs": [
    {
     "data": {
      "text/html": [
       "<div>\n",
       "<style scoped>\n",
       "    .dataframe tbody tr th:only-of-type {\n",
       "        vertical-align: middle;\n",
       "    }\n",
       "\n",
       "    .dataframe tbody tr th {\n",
       "        vertical-align: top;\n",
       "    }\n",
       "\n",
       "    .dataframe thead th {\n",
       "        text-align: right;\n",
       "    }\n",
       "</style>\n",
       "<table border=\"1\" class=\"dataframe\">\n",
       "  <thead>\n",
       "    <tr style=\"text-align: right;\">\n",
       "      <th></th>\n",
       "      <th>col1</th>\n",
       "      <th>col2</th>\n",
       "      <th>col3</th>\n",
       "    </tr>\n",
       "  </thead>\n",
       "  <tbody>\n",
       "    <tr>\n",
       "      <th>0</th>\n",
       "      <td>5</td>\n",
       "      <td>5</td>\n",
       "      <td>3</td>\n",
       "    </tr>\n",
       "    <tr>\n",
       "      <th>1</th>\n",
       "      <td>1</td>\n",
       "      <td>6</td>\n",
       "      <td>3</td>\n",
       "    </tr>\n",
       "    <tr>\n",
       "      <th>2</th>\n",
       "      <td>5</td>\n",
       "      <td>2</td>\n",
       "      <td>4</td>\n",
       "    </tr>\n",
       "    <tr>\n",
       "      <th>3</th>\n",
       "      <td>5</td>\n",
       "      <td>5</td>\n",
       "      <td>3</td>\n",
       "    </tr>\n",
       "    <tr>\n",
       "      <th>4</th>\n",
       "      <td>5</td>\n",
       "      <td>5</td>\n",
       "      <td>0</td>\n",
       "    </tr>\n",
       "  </tbody>\n",
       "</table>\n",
       "</div>"
      ],
      "text/plain": [
       "   col1  col2  col3\n",
       "0     5     5     3\n",
       "1     1     6     3\n",
       "2     5     2     4\n",
       "3     5     5     3\n",
       "4     5     5     0"
      ]
     },
     "execution_count": 187,
     "metadata": {},
     "output_type": "execute_result"
    }
   ],
   "source": [
    "df"
   ]
  },
  {
   "cell_type": "markdown",
   "metadata": {
    "colab_type": "text",
    "id": "G-VueKqaybkR"
   },
   "source": [
    "Finalmente, acá hay muchas más cosas por revisar: https://www.tutorialspoint.com/python_pandas/index.htm"
   ]
  },
  {
   "cell_type": "markdown",
   "metadata": {
    "colab_type": "text",
    "id": "JkPwBMoCxjOk"
   },
   "source": [
    "## Visualización\n",
    "\n",
    "Acá no cubriremos esa parte, pero les recomiendo revisen estas librerías (no hace falta conocerlas todas, se las comparto por cultura general):\n",
    "\n",
    "\n",
    "*   https://matplotlib.org/\n",
    "*   https://plot.ly/\n",
    "*   https://bokeh.pydata.org/en/latest/\n",
    "*   https://seaborn.pydata.org/\n",
    "\n"
   ]
  },
  {
   "cell_type": "code",
   "execution_count": 0,
   "metadata": {
    "colab": {},
    "colab_type": "code",
    "id": "jMrvx1xGyQWE"
   },
   "outputs": [],
   "source": []
  }
 ],
 "metadata": {
  "colab": {
   "name": "intro_python.ipynb",
   "provenance": [],
   "version": "0.3.2"
  },
  "kernelspec": {
   "display_name": "Python 3",
   "language": "python",
   "name": "python3"
  },
  "language_info": {
   "codemirror_mode": {
    "name": "ipython",
    "version": 3
   },
   "file_extension": ".py",
   "mimetype": "text/x-python",
   "name": "python",
   "nbconvert_exporter": "python",
   "pygments_lexer": "ipython3",
   "version": "3.7.1"
  }
 },
 "nbformat": 4,
 "nbformat_minor": 1
}
