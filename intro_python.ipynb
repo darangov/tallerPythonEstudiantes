{
 "cells": [
  {
   "cell_type": "markdown",
   "metadata": {
    "colab_type": "text",
    "id": "b26P8oMQ6tmN"
   },
   "source": [
    "# Introducción a python para Machine Learning\n",
    "En este cuaderno exploraremos rápidamente el lenguaje de programación Python. No se entrará en profundidad, pero se mostrará todo lo que hay por aprender. \n",
    "\n",
    "Todo lo que está acá se puede ampliar en:\n",
    "\n",
    "\n",
    "*   https://www.tutorialspoint.com/python3/index.htm\n",
    "*   https://www.tutorialspoint.com/numpy/\n",
    "*   https://www.tutorialspoint.com/python_pandas/index.htm\n",
    "*   https://www.google.com/\n",
    "\n",
    "\n",
    "\n",
    "**Nota:** recordar que usaremos Python 3.6"
   ]
  },
  {
   "cell_type": "markdown",
   "metadata": {
    "colab_type": "text",
    "id": "2dBjxQHFF2ym"
   },
   "source": [
    "**Instalación:**\n",
    "* Lo más fácil: instalar Anaconda (https://anaconda.org/anaconda/python)\n",
    "* Lo recomendado: instalar Python (https://www.python.org/) y usar [Virtualenv](https://virtualenv.pypa.io/en/stable/)\n",
    "\n",
    "Para más información, consulte [esta guía](https://drive.google.com/open?id=1aIaArcdHWusDfGmO4BvRzBDoWH8RSPr-) (advertencia: tiene varios errores de ortografía) o cualquier otra guía en internet."
   ]
  },
  {
   "cell_type": "markdown",
   "metadata": {
    "colab_type": "text",
    "id": "2XzVsBGM9K6r"
   },
   "source": [
    "## Lo estándar"
   ]
  },
  {
   "cell_type": "markdown",
   "metadata": {
    "colab_type": "text",
    "id": "tsLw7W8B--sQ"
   },
   "source": [
    "**Imprimir mensajes**"
   ]
  },
  {
   "cell_type": "code",
   "execution_count": 3,
   "metadata": {
    "colab": {
     "base_uri": "https://localhost:8080/",
     "height": 34
    },
    "colab_type": "code",
    "executionInfo": {
     "elapsed": 384,
     "status": "ok",
     "timestamp": 1538697112119,
     "user": {
      "displayName": "Sebastian Rodriguez Colina",
      "photoUrl": "",
      "userId": "15883086893181703875"
     },
     "user_tz": 300
    },
    "id": "mLY-Nauc6tJo",
    "outputId": "f25df993-a071-418d-9f30-0638a4675263"
   },
   "outputs": [
    {
     "name": "stdout",
     "output_type": "stream",
     "text": [
      "Este es un mensaje para saludar al mundo: hola mundo!\n"
     ]
    }
   ],
   "source": [
    "print(\"Este es un mensaje para saludar al mundo: hola mundo!\")"
   ]
  },
  {
   "cell_type": "code",
   "execution_count": 5,
   "metadata": {
    "colab": {
     "base_uri": "https://localhost:8080/",
     "height": 34
    },
    "colab_type": "code",
    "executionInfo": {
     "elapsed": 466,
     "status": "ok",
     "timestamp": 1538697157328,
     "user": {
      "displayName": "Sebastian Rodriguez Colina",
      "photoUrl": "",
      "userId": "15883086893181703875"
     },
     "user_tz": 300
    },
    "id": "1cW1uzRr_GPO",
    "outputId": "d24b405a-c493-431c-addc-7dba0939a7db"
   },
   "outputs": [
    {
     "name": "stdout",
     "output_type": "stream",
     "text": [
      "También puededar mensajes en una variable para luego imprimirlos\n"
     ]
    }
   ],
   "source": [
    "msg = \"También puedes guardar mensajes en una variable para luego imprimirlos\"\n",
    "print(msg)"
   ]
  },
  {
   "cell_type": "markdown",
   "metadata": {
    "colab_type": "text",
    "id": "TThLf8gjAACi"
   },
   "source": [
    "** Operaciones matemáticas**"
   ]
  },
  {
   "cell_type": "code",
   "execution_count": 0,
   "metadata": {
    "colab": {},
    "colab_type": "code",
    "id": "lyTc_6xk_1lq"
   },
   "outputs": [],
   "source": [
    "a = 3\n",
    "b = 8"
   ]
  },
  {
   "cell_type": "markdown",
   "metadata": {
    "colab_type": "text",
    "id": "D9l0HFlTCA5t"
   },
   "source": [
    "multiplicación"
   ]
  },
  {
   "cell_type": "code",
   "execution_count": 9,
   "metadata": {
    "colab": {
     "base_uri": "https://localhost:8080/",
     "height": 34
    },
    "colab_type": "code",
    "executionInfo": {
     "elapsed": 452,
     "status": "ok",
     "timestamp": 1538697242438,
     "user": {
      "displayName": "Sebastian Rodriguez Colina",
      "photoUrl": "",
      "userId": "15883086893181703875"
     },
     "user_tz": 300
    },
    "id": "P_WHcFqt_1o1",
    "outputId": "e689213b-fe66-405a-cae6-79de526d7eb9"
   },
   "outputs": [
    {
     "data": {
      "text/plain": [
       "24"
      ]
     },
     "execution_count": 9,
     "metadata": {
      "tags": []
     },
     "output_type": "execute_result"
    }
   ],
   "source": [
    "a*b"
   ]
  },
  {
   "cell_type": "markdown",
   "metadata": {
    "colab_type": "text",
    "id": "q_0A1mqUCilI"
   },
   "source": [
    "potenciación"
   ]
  },
  {
   "cell_type": "code",
   "execution_count": 10,
   "metadata": {
    "colab": {
     "base_uri": "https://localhost:8080/",
     "height": 34
    },
    "colab_type": "code",
    "executionInfo": {
     "elapsed": 421,
     "status": "ok",
     "timestamp": 1538697316946,
     "user": {
      "displayName": "Sebastian Rodriguez Colina",
      "photoUrl": "",
      "userId": "15883086893181703875"
     },
     "user_tz": 300
    },
    "id": "F2InplD3_1r6",
    "outputId": "cd0b9764-58ce-494b-d296-1f614dd8c7af"
   },
   "outputs": [
    {
     "data": {
      "text/plain": [
       "6561"
      ]
     },
     "execution_count": 10,
     "metadata": {
      "tags": []
     },
     "output_type": "execute_result"
    }
   ],
   "source": [
    "a**b"
   ]
  },
  {
   "cell_type": "markdown",
   "metadata": {
    "colab_type": "text",
    "id": "-eXeA4oiCnx6"
   },
   "source": [
    "división"
   ]
  },
  {
   "cell_type": "code",
   "execution_count": 11,
   "metadata": {
    "colab": {
     "base_uri": "https://localhost:8080/",
     "height": 34
    },
    "colab_type": "code",
    "executionInfo": {
     "elapsed": 464,
     "status": "ok",
     "timestamp": 1538697355419,
     "user": {
      "displayName": "Sebastian Rodriguez Colina",
      "photoUrl": "",
      "userId": "15883086893181703875"
     },
     "user_tz": 300
    },
    "id": "h9QMYIdo_1vH",
    "outputId": "2e7c8db0-4a7d-466e-8cd1-ba63a292cce6"
   },
   "outputs": [
    {
     "data": {
      "text/plain": [
       "0.375"
      ]
     },
     "execution_count": 11,
     "metadata": {
      "tags": []
     },
     "output_type": "execute_result"
    }
   ],
   "source": [
    "a/b"
   ]
  },
  {
   "cell_type": "markdown",
   "metadata": {
    "colab_type": "text",
    "id": "F7R177cYDKZ9"
   },
   "source": [
    "módulo: si divido b entre a, cuánto me sobra?"
   ]
  },
  {
   "cell_type": "code",
   "execution_count": 12,
   "metadata": {
    "colab": {
     "base_uri": "https://localhost:8080/",
     "height": 34
    },
    "colab_type": "code",
    "executionInfo": {
     "elapsed": 387,
     "status": "ok",
     "timestamp": 1538697373792,
     "user": {
      "displayName": "Sebastian Rodriguez Colina",
      "photoUrl": "",
      "userId": "15883086893181703875"
     },
     "user_tz": 300
    },
    "id": "20NRrwzC_1yT",
    "outputId": "0975c212-5b95-4866-c319-0173531ee09d"
   },
   "outputs": [
    {
     "data": {
      "text/plain": [
       "2"
      ]
     },
     "execution_count": 12,
     "metadata": {
      "tags": []
     },
     "output_type": "execute_result"
    }
   ],
   "source": [
    "b%a"
   ]
  },
  {
   "cell_type": "markdown",
   "metadata": {
    "colab_type": "text",
    "id": "cUTnhlBiEQbS"
   },
   "source": [
    "cociente: cuántas partes enteras de a caben en b"
   ]
  },
  {
   "cell_type": "code",
   "execution_count": 13,
   "metadata": {
    "colab": {
     "base_uri": "https://localhost:8080/",
     "height": 34
    },
    "colab_type": "code",
    "executionInfo": {
     "elapsed": 461,
     "status": "ok",
     "timestamp": 1538697397672,
     "user": {
      "displayName": "Sebastian Rodriguez Colina",
      "photoUrl": "",
      "userId": "15883086893181703875"
     },
     "user_tz": 300
    },
    "id": "9P3l9HtW_11F",
    "outputId": "29a2f82b-812b-4cd2-db22-60592ad8edcc"
   },
   "outputs": [
    {
     "data": {
      "text/plain": [
       "2"
      ]
     },
     "execution_count": 13,
     "metadata": {
      "tags": []
     },
     "output_type": "execute_result"
    }
   ],
   "source": [
    "b//a"
   ]
  },
  {
   "cell_type": "markdown",
   "metadata": {
    "colab_type": "text",
    "id": "tgc-OQ_WFNPu"
   },
   "source": [
    "Hay muchas más operaciones matemáticas. Puedes revisar el módulo [math](https://docs.python.org/3/library/math.html)"
   ]
  },
  {
   "cell_type": "code",
   "execution_count": 0,
   "metadata": {
    "colab": {},
    "colab_type": "code",
    "id": "V_VQToggFJWB"
   },
   "outputs": [],
   "source": [
    "import math"
   ]
  },
  {
   "cell_type": "code",
   "execution_count": 0,
   "metadata": {
    "colab": {
     "base_uri": "https://localhost:8080/",
     "height": 35
    },
    "colab_type": "code",
    "id": "_cvV2DigF0rD",
    "outputId": "8458f0f4-3741-47ed-fa5b-8821f61f4291"
   },
   "outputs": [
    {
     "data": {
      "text/plain": [
       "2.6457513110645907"
      ]
     },
     "execution_count": 10,
     "metadata": {
      "tags": []
     },
     "output_type": "execute_result"
    }
   ],
   "source": [
    "math.sqrt(b)"
   ]
  },
  {
   "cell_type": "markdown",
   "metadata": {
    "colab_type": "text",
    "id": "SICg2EGeJ1Rx"
   },
   "source": [
    "**Estructuras básicas**"
   ]
  },
  {
   "cell_type": "markdown",
   "metadata": {
    "colab_type": "text",
    "id": "aFbdY991J5zD"
   },
   "source": [
    "Listas"
   ]
  },
  {
   "cell_type": "code",
   "execution_count": 0,
   "metadata": {
    "colab": {
     "base_uri": "https://localhost:8080/",
     "height": 35
    },
    "colab_type": "code",
    "id": "D59XGPMZJ2Ej",
    "outputId": "cfdab498-5e56-4558-e777-08aa40a5de14"
   },
   "outputs": [
    {
     "data": {
      "text/plain": [
       "[2, 6, 7, 8]"
      ]
     },
     "execution_count": 11,
     "metadata": {
      "tags": []
     },
     "output_type": "execute_result"
    }
   ],
   "source": [
    "[2, 6, 7, 8]"
   ]
  },
  {
   "cell_type": "code",
   "execution_count": 0,
   "metadata": {
    "colab": {
     "base_uri": "https://localhost:8080/",
     "height": 35
    },
    "colab_type": "code",
    "id": "b0ftjF7XJ3IW",
    "outputId": "fe0f1ffb-c397-438d-ed02-51b65518920c"
   },
   "outputs": [
    {
     "data": {
      "text/plain": [
       "['a', 'b', 'c']"
      ]
     },
     "execution_count": 12,
     "metadata": {
      "tags": []
     },
     "output_type": "execute_result"
    }
   ],
   "source": [
    "['a', 'b', 'c']"
   ]
  },
  {
   "cell_type": "markdown",
   "metadata": {
    "colab_type": "text",
    "id": "tBR6He8WKu8a"
   },
   "source": [
    "Las listas pueden guardar cualquier cosa"
   ]
  },
  {
   "cell_type": "code",
   "execution_count": 0,
   "metadata": {
    "colab": {
     "base_uri": "https://localhost:8080/",
     "height": 35
    },
    "colab_type": "code",
    "id": "JyQ9WpnEJ3FG",
    "outputId": "4d058d9e-abb7-4182-e75c-5c9de8683055"
   },
   "outputs": [
    {
     "data": {
      "text/plain": [
       "[3, None, int, str, 'casa', 3.141592653589793]"
      ]
     },
     "execution_count": 13,
     "metadata": {
      "tags": []
     },
     "output_type": "execute_result"
    }
   ],
   "source": [
    "[3, None, int, str, \"casa\", math.pi]"
   ]
  },
  {
   "cell_type": "markdown",
   "metadata": {
    "colab_type": "text",
    "id": "JgtXE6t9Kxjt"
   },
   "source": [
    "incluso otras listas"
   ]
  },
  {
   "cell_type": "code",
   "execution_count": 0,
   "metadata": {
    "colab": {
     "base_uri": "https://localhost:8080/",
     "height": 35
    },
    "colab_type": "code",
    "id": "S9J8tF9IKiVU",
    "outputId": "4af916d2-47b6-470d-9227-c73b29e71020"
   },
   "outputs": [
    {
     "data": {
      "text/plain": [
       "[3, [4, 5, 6], 7, [8, 9]]"
      ]
     },
     "execution_count": 14,
     "metadata": {
      "tags": []
     },
     "output_type": "execute_result"
    }
   ],
   "source": [
    "[3, [4,5,6], 7, [8,9]]"
   ]
  },
  {
   "cell_type": "markdown",
   "metadata": {
    "colab_type": "text",
    "id": "92vLtu1RK8w9"
   },
   "source": [
    "A las listas se les pueden agregar elementos en cualquier momento"
   ]
  },
  {
   "cell_type": "code",
   "execution_count": 0,
   "metadata": {
    "colab": {},
    "colab_type": "code",
    "id": "1UFpzCzcKiIR"
   },
   "outputs": [],
   "source": [
    "lista = ['a', 'b', 'c', 'd', 'd', 'd']"
   ]
  },
  {
   "cell_type": "code",
   "execution_count": 0,
   "metadata": {
    "colab": {
     "base_uri": "https://localhost:8080/",
     "height": 35
    },
    "colab_type": "code",
    "id": "fn834wceLEKb",
    "outputId": "ab051083-8f40-456d-dab4-fc154eca606d"
   },
   "outputs": [
    {
     "data": {
      "text/plain": [
       "['a', 'b', 'c', 'd', 'd', 'd', 'otro caracter']"
      ]
     },
     "execution_count": 16,
     "metadata": {
      "tags": []
     },
     "output_type": "execute_result"
    }
   ],
   "source": [
    "lista.append('otro caracter')\n",
    "lista"
   ]
  },
  {
   "cell_type": "markdown",
   "metadata": {
    "colab_type": "text",
    "id": "PK-B4h9FNNH1"
   },
   "source": [
    "Se puede acceder a los elementos de una lista basado en el índice"
   ]
  },
  {
   "cell_type": "code",
   "execution_count": 0,
   "metadata": {
    "colab": {
     "base_uri": "https://localhost:8080/",
     "height": 35
    },
    "colab_type": "code",
    "id": "JGa4T6i-LD-2",
    "outputId": "77b23cfc-d6fa-4351-f6e5-b38a8a466f77"
   },
   "outputs": [
    {
     "data": {
      "text/plain": [
       "'a'"
      ]
     },
     "execution_count": 17,
     "metadata": {
      "tags": []
     },
     "output_type": "execute_result"
    }
   ],
   "source": [
    "lista[0]"
   ]
  },
  {
   "cell_type": "code",
   "execution_count": 0,
   "metadata": {
    "colab": {
     "base_uri": "https://localhost:8080/",
     "height": 35
    },
    "colab_type": "code",
    "id": "IAe5hcBjLD01",
    "outputId": "200ebd73-bd5e-492b-aa51-3c46915b8cbf"
   },
   "outputs": [
    {
     "data": {
      "text/plain": [
       "'b'"
      ]
     },
     "execution_count": 18,
     "metadata": {
      "tags": []
     },
     "output_type": "execute_result"
    }
   ],
   "source": [
    "lista[1]"
   ]
  },
  {
   "cell_type": "code",
   "execution_count": 0,
   "metadata": {
    "colab": {
     "base_uri": "https://localhost:8080/",
     "height": 35
    },
    "colab_type": "code",
    "id": "nFJmmVtkLDxi",
    "outputId": "1634337a-d3c5-4222-af75-38e29ead04b4"
   },
   "outputs": [
    {
     "data": {
      "text/plain": [
       "'otro caracter'"
      ]
     },
     "execution_count": 19,
     "metadata": {
      "tags": []
     },
     "output_type": "execute_result"
    }
   ],
   "source": [
    "lista[-1]"
   ]
  },
  {
   "cell_type": "code",
   "execution_count": 0,
   "metadata": {
    "colab": {
     "base_uri": "https://localhost:8080/",
     "height": 35
    },
    "colab_type": "code",
    "id": "6E4Q8hSdLDuY",
    "outputId": "38d11791-4d92-460b-c0a0-93377fb3fb50"
   },
   "outputs": [
    {
     "data": {
      "text/plain": [
       "['a', 'b']"
      ]
     },
     "execution_count": 20,
     "metadata": {
      "tags": []
     },
     "output_type": "execute_result"
    }
   ],
   "source": [
    "lista[:2]"
   ]
  },
  {
   "cell_type": "code",
   "execution_count": 0,
   "metadata": {
    "colab": {
     "base_uri": "https://localhost:8080/",
     "height": 35
    },
    "colab_type": "code",
    "id": "7WLqajkMNkyS",
    "outputId": "73080190-01c8-45a1-bc2e-8208f9c301ca"
   },
   "outputs": [
    {
     "data": {
      "text/plain": [
       "['c', 'd', 'd', 'd', 'otro caracter']"
      ]
     },
     "execution_count": 21,
     "metadata": {
      "tags": []
     },
     "output_type": "execute_result"
    }
   ],
   "source": [
    "lista[2:]"
   ]
  },
  {
   "cell_type": "code",
   "execution_count": 0,
   "metadata": {
    "colab": {
     "base_uri": "https://localhost:8080/",
     "height": 35
    },
    "colab_type": "code",
    "id": "dW3RcoS4Nk1g",
    "outputId": "9b5941a5-8940-4da8-9a37-84cfb5ff626d"
   },
   "outputs": [
    {
     "data": {
      "text/plain": [
       "['c', 'd']"
      ]
     },
     "execution_count": 22,
     "metadata": {
      "tags": []
     },
     "output_type": "execute_result"
    }
   ],
   "source": [
    "lista[2:4]"
   ]
  },
  {
   "cell_type": "code",
   "execution_count": 0,
   "metadata": {
    "colab": {},
    "colab_type": "code",
    "id": "Fb9ZypBVjlP4"
   },
   "outputs": [],
   "source": [
    "lista[2] = 25"
   ]
  },
  {
   "cell_type": "code",
   "execution_count": 17,
   "metadata": {
    "colab": {
     "base_uri": "https://localhost:8080/",
     "height": 34
    },
    "colab_type": "code",
    "executionInfo": {
     "elapsed": 411,
     "status": "ok",
     "timestamp": 1538698160521,
     "user": {
      "displayName": "Sebastian Rodriguez Colina",
      "photoUrl": "",
      "userId": "15883086893181703875"
     },
     "user_tz": 300
    },
    "id": "av6NYNYTjpsX",
    "outputId": "a3051755-28ab-4b94-8788-9c50564a9014"
   },
   "outputs": [
    {
     "data": {
      "text/plain": [
       "['nombre', ' apellido', 25, ' animal', ' fruta', ' color', ' cosa']"
      ]
     },
     "execution_count": 17,
     "metadata": {
      "tags": []
     },
     "output_type": "execute_result"
    }
   ],
   "source": [
    "lista"
   ]
  },
  {
   "cell_type": "markdown",
   "metadata": {
    "colab_type": "text",
    "id": "_x34z041N-tK"
   },
   "source": [
    "también podemos preguntar por el índice de un elemento particular de la lista"
   ]
  },
  {
   "cell_type": "code",
   "execution_count": 0,
   "metadata": {
    "colab": {
     "base_uri": "https://localhost:8080/",
     "height": 35
    },
    "colab_type": "code",
    "id": "7z1jaGtGNk47",
    "outputId": "d0761bd4-c45f-41a5-cbe5-13d50d3694ef"
   },
   "outputs": [
    {
     "data": {
      "text/plain": [
       "3"
      ]
     },
     "execution_count": 23,
     "metadata": {
      "tags": []
     },
     "output_type": "execute_result"
    }
   ],
   "source": [
    "lista.index('d')"
   ]
  },
  {
   "cell_type": "markdown",
   "metadata": {
    "colab_type": "text",
    "id": "2cxHl_AkOLin"
   },
   "source": [
    "adicionalmente, es posible pasar de un string con alguna separación entre elementos a una lista (piensa en un csv):"
   ]
  },
  {
   "cell_type": "code",
   "execution_count": 15,
   "metadata": {
    "colab": {
     "base_uri": "https://localhost:8080/",
     "height": 34
    },
    "colab_type": "code",
    "executionInfo": {
     "elapsed": 394,
     "status": "ok",
     "timestamp": 1538698007949,
     "user": {
      "displayName": "Sebastian Rodriguez Colina",
      "photoUrl": "",
      "userId": "15883086893181703875"
     },
     "user_tz": 300
    },
    "id": "pSzYDq5lNk8X",
    "outputId": "c41f27b4-ffa0-4eb3-d8f0-8135b1b12049"
   },
   "outputs": [
    {
     "data": {
      "text/plain": [
       "['nombre', ' apellido', ' ciudad', ' animal', ' fruta', ' color', ' cosa']"
      ]
     },
     "execution_count": 15,
     "metadata": {
      "tags": []
     },
     "output_type": "execute_result"
    }
   ],
   "source": [
    "lista = \"nombre, apellido, ciudad, animal, fruta, color, cosa\".split(',')\n",
    "lista"
   ]
  },
  {
   "cell_type": "markdown",
   "metadata": {
    "colab_type": "text",
    "id": "iOH5Srntetej"
   },
   "source": [
    "incluso podemos comparar las listas elemento por elemento"
   ]
  },
  {
   "cell_type": "code",
   "execution_count": 0,
   "metadata": {
    "colab": {
     "base_uri": "https://localhost:8080/",
     "height": 35
    },
    "colab_type": "code",
    "id": "yuuLTwv9eo8o",
    "outputId": "cad592ed-ce2a-41ea-a16c-2682a2d7d1e6"
   },
   "outputs": [
    {
     "data": {
      "text/plain": [
       "True"
      ]
     },
     "execution_count": 25,
     "metadata": {
      "tags": []
     },
     "output_type": "execute_result"
    }
   ],
   "source": [
    "['nombre', ' apellido', ' ciudad', ' animal', ' fruta', ' color', ' cosa'] == lista"
   ]
  },
  {
   "cell_type": "code",
   "execution_count": 0,
   "metadata": {
    "colab": {
     "base_uri": "https://localhost:8080/",
     "height": 35
    },
    "colab_type": "code",
    "id": "OBnYMWdKeyDj",
    "outputId": "2a6e6438-6388-479a-c54f-ef3ac941de26"
   },
   "outputs": [
    {
     "data": {
      "text/plain": [
       "False"
      ]
     },
     "execution_count": 26,
     "metadata": {
      "tags": []
     },
     "output_type": "execute_result"
    }
   ],
   "source": [
    "['nombre', ' apellido', ' ciudad', ' animal', ' fruta', ' color', ' cosota'] == lista"
   ]
  },
  {
   "cell_type": "markdown",
   "metadata": {
    "colab_type": "text",
    "id": "qLEJBUK1Z-x-"
   },
   "source": [
    "**tuplas**\n",
    "\n",
    "son casi como las listas, solo que no se pueden modificar"
   ]
  },
  {
   "cell_type": "code",
   "execution_count": 0,
   "metadata": {
    "colab": {
     "base_uri": "https://localhost:8080/",
     "height": 35
    },
    "colab_type": "code",
    "id": "wy-8_EOQZ9_I",
    "outputId": "8346d0cb-5ad1-4099-85ae-35f666fa6282"
   },
   "outputs": [
    {
     "data": {
      "text/plain": [
       "('casa', 'castillo', 400)"
      ]
     },
     "execution_count": 27,
     "metadata": {
      "tags": []
     },
     "output_type": "execute_result"
    }
   ],
   "source": [
    "tupla = ('casa', 'castillo', 400)\n",
    "tupla"
   ]
  },
  {
   "cell_type": "code",
   "execution_count": 0,
   "metadata": {
    "colab": {
     "base_uri": "https://localhost:8080/",
     "height": 169
    },
    "colab_type": "code",
    "id": "Cd1uYGQ5aKmY",
    "outputId": "f5b48a2a-38a2-425d-85cd-8be85ea46506"
   },
   "outputs": [
    {
     "ename": "TypeError",
     "evalue": "ignored",
     "output_type": "error",
     "traceback": [
      "\u001b[0;31m---------------------------------------------------------------------------\u001b[0m",
      "\u001b[0;31mTypeError\u001b[0m                                 Traceback (most recent call last)",
      "\u001b[0;32m<ipython-input-28-745a6a84947b>\u001b[0m in \u001b[0;36m<module>\u001b[0;34m()\u001b[0m\n\u001b[0;32m----> 1\u001b[0;31m \u001b[0mtupla\u001b[0m\u001b[0;34m[\u001b[0m\u001b[0;36m0\u001b[0m\u001b[0;34m]\u001b[0m \u001b[0;34m=\u001b[0m \u001b[0;36m20\u001b[0m\u001b[0;34m\u001b[0m\u001b[0m\n\u001b[0m",
      "\u001b[0;31mTypeError\u001b[0m: 'tuple' object does not support item assignment"
     ]
    }
   ],
   "source": [
    "tupla[0] = 20"
   ]
  },
  {
   "cell_type": "markdown",
   "metadata": {
    "colab_type": "text",
    "id": "sYuJZqd9aYmI"
   },
   "source": [
    "**diccionarios**\n",
    "\n",
    "Sirven para guardar valores (que pueden ser cualquier cosa: strings, números, listas, otros diccionarios, etc) y buscarlos utilizando una llave (que solo pueden ser valores inmutables).\n"
   ]
  },
  {
   "cell_type": "code",
   "execution_count": 18,
   "metadata": {
    "colab": {
     "base_uri": "https://localhost:8080/",
     "height": 34
    },
    "colab_type": "code",
    "executionInfo": {
     "elapsed": 415,
     "status": "ok",
     "timestamp": 1538698431727,
     "user": {
      "displayName": "Sebastian Rodriguez Colina",
      "photoUrl": "",
      "userId": "15883086893181703875"
     },
     "user_tz": 300
    },
    "id": "pa9sxoOsaRXv",
    "outputId": "5122c664-89b2-4555-90f9-ffcffd88dd5c"
   },
   "outputs": [
    {
     "data": {
      "text/plain": [
       "{'a': 1, 'b': 2, 'c': 3}"
      ]
     },
     "execution_count": 18,
     "metadata": {
      "tags": []
     },
     "output_type": "execute_result"
    }
   ],
   "source": [
    "d = {'a':1, 'b':2, 'c':3}\n",
    "d"
   ]
  },
  {
   "cell_type": "code",
   "execution_count": 23,
   "metadata": {
    "colab": {
     "base_uri": "https://localhost:8080/",
     "height": 34
    },
    "colab_type": "code",
    "executionInfo": {
     "elapsed": 515,
     "status": "ok",
     "timestamp": 1538698687894,
     "user": {
      "displayName": "Sebastian Rodriguez Colina",
      "photoUrl": "",
      "userId": "15883086893181703875"
     },
     "user_tz": 300
    },
    "id": "mXy4QAjoktUI",
    "outputId": "c43be459-dfbd-4e7a-e6f6-681b8640e35f"
   },
   "outputs": [
    {
     "data": {
      "text/plain": [
       "{'a': 1, 'b': 2, 'c': 3, 'o': 3}"
      ]
     },
     "execution_count": 23,
     "metadata": {
      "tags": []
     },
     "output_type": "execute_result"
    }
   ],
   "source": [
    "var = 'o'\n",
    "d = {'a':1, 'b':2, 'c':3, var: 3}\n",
    "d"
   ]
  },
  {
   "cell_type": "code",
   "execution_count": 31,
   "metadata": {
    "colab": {
     "base_uri": "https://localhost:8080/",
     "height": 34
    },
    "colab_type": "code",
    "executionInfo": {
     "elapsed": 398,
     "status": "ok",
     "timestamp": 1538698884298,
     "user": {
      "displayName": "Sebastian Rodriguez Colina",
      "photoUrl": "",
      "userId": "15883086893181703875"
     },
     "user_tz": 300
    },
    "id": "hSYs-dh-mT8u",
    "outputId": "795dbf8b-4e93-42d9-9852-127dd7c9e2cb"
   },
   "outputs": [
    {
     "data": {
      "text/plain": [
       "{'a': 3, 'b': 2, 'c': 3}"
      ]
     },
     "execution_count": 31,
     "metadata": {
      "tags": []
     },
     "output_type": "execute_result"
    }
   ],
   "source": [
    "d = {'a':1, 'b':2, 'c':3, 'a': 3}\n",
    "d"
   ]
  },
  {
   "cell_type": "code",
   "execution_count": 24,
   "metadata": {
    "colab": {
     "base_uri": "https://localhost:8080/",
     "height": 34
    },
    "colab_type": "code",
    "executionInfo": {
     "elapsed": 388,
     "status": "ok",
     "timestamp": 1538698688575,
     "user": {
      "displayName": "Sebastian Rodriguez Colina",
      "photoUrl": "",
      "userId": "15883086893181703875"
     },
     "user_tz": 300
    },
    "id": "d1rBradTbDmb",
    "outputId": "b51ba73a-b7c1-4683-b2f8-fa33658bdb98"
   },
   "outputs": [
    {
     "data": {
      "text/plain": [
       "2"
      ]
     },
     "execution_count": 24,
     "metadata": {
      "tags": []
     },
     "output_type": "execute_result"
    }
   ],
   "source": [
    "d['b']"
   ]
  },
  {
   "cell_type": "markdown",
   "metadata": {
    "colab_type": "text",
    "id": "PXxn75Rcbf8W"
   },
   "source": [
    "Están diseñados para ser accedidos mediante la llave, no se puede usar un índice; incluso el orden en el que se guardan no se garantiza."
   ]
  },
  {
   "cell_type": "code",
   "execution_count": 25,
   "metadata": {
    "colab": {
     "base_uri": "https://localhost:8080/",
     "height": 164
    },
    "colab_type": "code",
    "executionInfo": {
     "elapsed": 408,
     "status": "error",
     "timestamp": 1538698690052,
     "user": {
      "displayName": "Sebastian Rodriguez Colina",
      "photoUrl": "",
      "userId": "15883086893181703875"
     },
     "user_tz": 300
    },
    "id": "rKgtzuFBbDpI",
    "outputId": "45657fe9-116a-40e8-e1aa-bbff4b2b07cf"
   },
   "outputs": [
    {
     "ename": "KeyError",
     "evalue": "ignored",
     "output_type": "error",
     "traceback": [
      "\u001b[0;31m---------------------------------------------------------------------------\u001b[0m",
      "\u001b[0;31mKeyError\u001b[0m                                  Traceback (most recent call last)",
      "\u001b[0;32m<ipython-input-25-123a9cc6df61>\u001b[0m in \u001b[0;36m<module>\u001b[0;34m()\u001b[0m\n\u001b[0;32m----> 1\u001b[0;31m \u001b[0md\u001b[0m\u001b[0;34m[\u001b[0m\u001b[0;36m0\u001b[0m\u001b[0;34m]\u001b[0m\u001b[0;34m\u001b[0m\u001b[0m\n\u001b[0m",
      "\u001b[0;31mKeyError\u001b[0m: 0"
     ]
    }
   ],
   "source": [
    "d[0]"
   ]
  },
  {
   "cell_type": "code",
   "execution_count": 29,
   "metadata": {
    "colab": {
     "base_uri": "https://localhost:8080/",
     "height": 34
    },
    "colab_type": "code",
    "executionInfo": {
     "elapsed": 383,
     "status": "ok",
     "timestamp": 1538698832163,
     "user": {
      "displayName": "Sebastian Rodriguez Colina",
      "photoUrl": "",
      "userId": "15883086893181703875"
     },
     "user_tz": 300
    },
    "id": "wfLjWabvbDsF",
    "outputId": "aff9c3d6-d30f-491d-ff5d-1cbf742b691e"
   },
   "outputs": [
    {
     "data": {
      "text/plain": [
       "{('a', 'b'): 3, ('c', 'd'): 7, 'otro': 9}"
      ]
     },
     "execution_count": 29,
     "metadata": {
      "tags": []
     },
     "output_type": "execute_result"
    }
   ],
   "source": [
    "d = {('a','b'): 3, ('c', 'd'): 7, 'otro': 9}\n",
    "d"
   ]
  },
  {
   "cell_type": "code",
   "execution_count": 27,
   "metadata": {
    "colab": {
     "base_uri": "https://localhost:8080/",
     "height": 34
    },
    "colab_type": "code",
    "executionInfo": {
     "elapsed": 394,
     "status": "ok",
     "timestamp": 1538698715888,
     "user": {
      "displayName": "Sebastian Rodriguez Colina",
      "photoUrl": "",
      "userId": "15883086893181703875"
     },
     "user_tz": 300
    },
    "id": "lXjlVcDmlvHA",
    "outputId": "daaa4be5-2de7-4838-bcc9-1f014e4a9970"
   },
   "outputs": [
    {
     "data": {
      "text/plain": [
       "3"
      ]
     },
     "execution_count": 27,
     "metadata": {
      "tags": []
     },
     "output_type": "execute_result"
    }
   ],
   "source": [
    "d[('a', 'b')]"
   ]
  },
  {
   "cell_type": "code",
   "execution_count": 0,
   "metadata": {
    "colab": {
     "base_uri": "https://localhost:8080/",
     "height": 169
    },
    "colab_type": "code",
    "id": "A-LiY82tbDvA",
    "outputId": "d51a4b25-c840-4d7b-abb7-c878c43159ed"
   },
   "outputs": [
    {
     "ename": "TypeError",
     "evalue": "ignored",
     "output_type": "error",
     "traceback": [
      "\u001b[0;31m---------------------------------------------------------------------------\u001b[0m",
      "\u001b[0;31mTypeError\u001b[0m                                 Traceback (most recent call last)",
      "\u001b[0;32m<ipython-input-53-6a0632a9f282>\u001b[0m in \u001b[0;36m<module>\u001b[0;34m()\u001b[0m\n\u001b[0;32m----> 1\u001b[0;31m \u001b[0md\u001b[0m \u001b[0;34m=\u001b[0m \u001b[0;34m{\u001b[0m\u001b[0;34m[\u001b[0m\u001b[0;34m'a'\u001b[0m\u001b[0;34m,\u001b[0m\u001b[0;34m'b'\u001b[0m\u001b[0;34m]\u001b[0m\u001b[0;34m:\u001b[0m \u001b[0;36m3\u001b[0m\u001b[0;34m,\u001b[0m \u001b[0;34m(\u001b[0m\u001b[0;34m'c'\u001b[0m\u001b[0;34m,\u001b[0m \u001b[0;34m'd'\u001b[0m\u001b[0;34m)\u001b[0m\u001b[0;34m:\u001b[0m \u001b[0;36m7\u001b[0m\u001b[0;34m,\u001b[0m \u001b[0;34m'otro'\u001b[0m\u001b[0;34m:\u001b[0m \u001b[0;36m9\u001b[0m\u001b[0;34m}\u001b[0m\u001b[0;34m\u001b[0m\u001b[0m\n\u001b[0m",
      "\u001b[0;31mTypeError\u001b[0m: unhashable type: 'list'"
     ]
    }
   ],
   "source": [
    "d = {['a','b']: 3, ('c', 'd'): 7, 'otro': 9}"
   ]
  },
  {
   "cell_type": "markdown",
   "metadata": {
    "colab_type": "text",
    "id": "-V0Zj8ikF8B5"
   },
   "source": [
    "**Condicionales**"
   ]
  },
  {
   "cell_type": "code",
   "execution_count": 34,
   "metadata": {
    "colab": {
     "base_uri": "https://localhost:8080/",
     "height": 34
    },
    "colab_type": "code",
    "executionInfo": {
     "elapsed": 497,
     "status": "ok",
     "timestamp": 1538700885377,
     "user": {
      "displayName": "Sebastian Rodriguez Colina",
      "photoUrl": "",
      "userId": "15883086893181703875"
     },
     "user_tz": 300
    },
    "id": "d42VQovNuCVd",
    "outputId": "6984ae98-0bfd-4746-dc48-cc528216e64c"
   },
   "outputs": [
    {
     "name": "stdout",
     "output_type": "stream",
     "text": [
      "3 8\n"
     ]
    }
   ],
   "source": [
    "print(a, b)"
   ]
  },
  {
   "cell_type": "code",
   "execution_count": 32,
   "metadata": {
    "colab": {
     "base_uri": "https://localhost:8080/",
     "height": 34
    },
    "colab_type": "code",
    "executionInfo": {
     "elapsed": 417,
     "status": "ok",
     "timestamp": 1538700731122,
     "user": {
      "displayName": "Sebastian Rodriguez Colina",
      "photoUrl": "",
      "userId": "15883086893181703875"
     },
     "user_tz": 300
    },
    "id": "E3WSWkjfGUhn",
    "outputId": "cb463f6b-4b15-4ee2-9162-9d1c4514fbaa"
   },
   "outputs": [
    {
     "name": "stdout",
     "output_type": "stream",
     "text": [
      "b(8) es mayor que a(3)\n"
     ]
    }
   ],
   "source": [
    "if b > a:\n",
    "    print(\"b({}) es mayor que a({})\".format(b, a))"
   ]
  },
  {
   "cell_type": "code",
   "execution_count": 0,
   "metadata": {
    "colab": {},
    "colab_type": "code",
    "id": "85xt1dkjGUeZ"
   },
   "outputs": [],
   "source": [
    "if a > b:\n",
    "    print(\"a({}) es mayor que b({})\".format(a, b))"
   ]
  },
  {
   "cell_type": "code",
   "execution_count": 35,
   "metadata": {
    "colab": {
     "base_uri": "https://localhost:8080/",
     "height": 34
    },
    "colab_type": "code",
    "executionInfo": {
     "elapsed": 414,
     "status": "ok",
     "timestamp": 1538700947909,
     "user": {
      "displayName": "Sebastian Rodriguez Colina",
      "photoUrl": "",
      "userId": "15883086893181703875"
     },
     "user_tz": 300
    },
    "id": "qLZijwpnGUbt",
    "outputId": "b7ae0daa-8028-44a7-d892-044ca92ba4ce"
   },
   "outputs": [
    {
     "name": "stdout",
     "output_type": "stream",
     "text": [
      "a(3) NO es mayor que b(8)\n"
     ]
    }
   ],
   "source": [
    "if a > b:\n",
    "    print(\"a({}) es mayor que b({})\".format(a, b))\n",
    "else:\n",
    "    print(\"a({}) NO es mayor que b({})\".format(a, b))"
   ]
  },
  {
   "cell_type": "markdown",
   "metadata": {
    "colab_type": "text",
    "id": "uxwwqYaUXg-P"
   },
   "source": [
    "**Loops**\n",
    "\n",
    "Muchos objetos o typos de datos (de la librería estándar) se pueden iterar.\n",
    "\n",
    "Iterar sobre strings"
   ]
  },
  {
   "cell_type": "code",
   "execution_count": 37,
   "metadata": {
    "colab": {
     "base_uri": "https://localhost:8080/",
     "height": 120
    },
    "colab_type": "code",
    "executionInfo": {
     "elapsed": 384,
     "status": "ok",
     "timestamp": 1538701121573,
     "user": {
      "displayName": "Sebastian Rodriguez Colina",
      "photoUrl": "",
      "userId": "15883086893181703875"
     },
     "user_tz": 300
    },
    "id": "_qLKoes2GUYm",
    "outputId": "f1bf12af-61cf-4fdc-b89e-806fa45efd6b"
   },
   "outputs": [
    {
     "name": "stdout",
     "output_type": "stream",
     "text": [
      "a\n",
      "b\n",
      "c\n",
      "d\n",
      "e\n",
      "f\n"
     ]
    }
   ],
   "source": [
    "super_string = \"abcdef\"\n",
    "for ch in super_string:\n",
    "    print(ch)"
   ]
  },
  {
   "cell_type": "markdown",
   "metadata": {
    "colab_type": "text",
    "id": "EqIei4iuZ3qk"
   },
   "source": [
    "Iterar sobre listas"
   ]
  },
  {
   "cell_type": "code",
   "execution_count": 40,
   "metadata": {
    "colab": {
     "base_uri": "https://localhost:8080/",
     "height": 85
    },
    "colab_type": "code",
    "executionInfo": {
     "elapsed": 404,
     "status": "ok",
     "timestamp": 1538701223727,
     "user": {
      "displayName": "Sebastian Rodriguez Colina",
      "photoUrl": "",
      "userId": "15883086893181703875"
     },
     "user_tz": 300
    },
    "id": "dI8svW7yGUVa",
    "outputId": "d3694874-66d9-4103-db4c-e78aa90a9aeb"
   },
   "outputs": [
    {
     "name": "stdout",
     "output_type": "stream",
     "text": [
      "Mi\n",
      "nombre\n",
      "es\n",
      "3\n"
     ]
    }
   ],
   "source": [
    "lista = ['Mi', 'nombre', 'es', 3]\n",
    "for el in lista:\n",
    "    print(el)"
   ]
  },
  {
   "cell_type": "markdown",
   "metadata": {
    "colab_type": "text",
    "id": "iZm5-wuCd-8C"
   },
   "source": [
    "Algunos estarán familiarizados con la forma de iterar en otros lenguajes, acá les muestro cómo:"
   ]
  },
  {
   "cell_type": "code",
   "execution_count": 0,
   "metadata": {
    "colab": {
     "base_uri": "https://localhost:8080/",
     "height": 89
    },
    "colab_type": "code",
    "id": "S19DKxzoGUSW",
    "outputId": "84365dbf-f836-4484-dd96-32866bc1294b"
   },
   "outputs": [
    {
     "name": "stdout",
     "output_type": "stream",
     "text": [
      "Mi\n",
      "nombre\n",
      "es\n",
      "3\n"
     ]
    }
   ],
   "source": [
    "lista = ['Mi', 'nombre', 'es', 3]\n",
    "for i in range(len(lista)):\n",
    "    print(lista[i])"
   ]
  },
  {
   "cell_type": "markdown",
   "metadata": {
    "colab_type": "text",
    "id": "UoJLVZJNeRLm"
   },
   "source": [
    "pero la forma de python es definitivamente más chévere, sin contar con que en algunos casos esa forma no funcionaría, por ejemplo cuando se itera en diccionarios."
   ]
  },
  {
   "cell_type": "code",
   "execution_count": 0,
   "metadata": {
    "colab": {
     "base_uri": "https://localhost:8080/",
     "height": 71
    },
    "colab_type": "code",
    "id": "cJEiAvT1eE-3",
    "outputId": "4cbd20a7-7a6a-4aed-d451-4803c87d6c75"
   },
   "outputs": [
    {
     "name": "stdout",
     "output_type": "stream",
     "text": [
      "key: a, value: 1\n",
      "key: b, value: 2\n",
      "key: c, value: 3\n"
     ]
    }
   ],
   "source": [
    "d = {'a':1, 'b':2, 'c':3}\n",
    "for k in d:\n",
    "    print(\"key: {}, value: {}\".format(k, d[k]))"
   ]
  },
  {
   "cell_type": "code",
   "execution_count": 43,
   "metadata": {
    "colab": {
     "base_uri": "https://localhost:8080/",
     "height": 68
    },
    "colab_type": "code",
    "executionInfo": {
     "elapsed": 588,
     "status": "ok",
     "timestamp": 1538701515677,
     "user": {
      "displayName": "Sebastian Rodriguez Colina",
      "photoUrl": "",
      "userId": "15883086893181703875"
     },
     "user_tz": 300
    },
    "id": "c-A2WIE-wa4A",
    "outputId": "a573ddf2-9337-41ba-e39a-863bf26b9ed1"
   },
   "outputs": [
    {
     "name": "stdout",
     "output_type": "stream",
     "text": [
      "key: a, value: 1\n",
      "key: b, value: 2\n",
      "key: c, value: 3\n"
     ]
    }
   ],
   "source": [
    "d = {'a':1, 'b':2, 'c':3}\n",
    "for k in d.keys():\n",
    "    print(\"key: {}, value: {}\".format(k, d[k]))"
   ]
  },
  {
   "cell_type": "code",
   "execution_count": 42,
   "metadata": {
    "colab": {
     "base_uri": "https://localhost:8080/",
     "height": 34
    },
    "colab_type": "code",
    "executionInfo": {
     "elapsed": 388,
     "status": "ok",
     "timestamp": 1538701383603,
     "user": {
      "displayName": "Sebastian Rodriguez Colina",
      "photoUrl": "",
      "userId": "15883086893181703875"
     },
     "user_tz": 300
    },
    "id": "lMqRUL_vv4Pe",
    "outputId": "2414cd6f-bc42-4ff9-e77e-b9eb22eb3b83"
   },
   "outputs": [
    {
     "data": {
      "text/plain": [
       "dict_items([('a', 3), ('b', 2), ('c', 3)])"
      ]
     },
     "execution_count": 42,
     "metadata": {
      "tags": []
     },
     "output_type": "execute_result"
    }
   ],
   "source": [
    "d.items()"
   ]
  },
  {
   "cell_type": "code",
   "execution_count": 0,
   "metadata": {
    "colab": {
     "base_uri": "https://localhost:8080/",
     "height": 71
    },
    "colab_type": "code",
    "id": "vPplI2oyeE8R",
    "outputId": "dea43da4-d520-457a-9427-81ac443e05fd"
   },
   "outputs": [
    {
     "name": "stdout",
     "output_type": "stream",
     "text": [
      "key: a, value: 1\n",
      "key: b, value: 2\n",
      "key: c, value: 3\n"
     ]
    }
   ],
   "source": [
    "d = {'a':1, 'b':2, 'c':3}\n",
    "for k, v in d.items():\n",
    "    print(\"key: {}, value: {}\".format(k, v))"
   ]
  },
  {
   "cell_type": "code",
   "execution_count": 48,
   "metadata": {
    "colab": {
     "base_uri": "https://localhost:8080/",
     "height": 85
    },
    "colab_type": "code",
    "executionInfo": {
     "elapsed": 363,
     "status": "ok",
     "timestamp": 1538701957611,
     "user": {
      "displayName": "Sebastian Rodriguez Colina",
      "photoUrl": "",
      "userId": "15883086893181703875"
     },
     "user_tz": 300
    },
    "id": "Iy0045p4eE5I",
    "outputId": "0dee674a-37c4-4f1d-b55e-8f125ce92ad1"
   },
   "outputs": [
    {
     "name": "stdout",
     "output_type": "stream",
     "text": [
      "value: 1\n",
      "value: 2\n",
      "value: 3\n",
      "esto solo va una vez\n"
     ]
    }
   ],
   "source": [
    "d = {'a':1, 'b':2, 'c':3}\n",
    "for v in d.values():\n",
    "    print(\"value: {}\".format(v))\n",
    "print(\"esto solo va una vez\")"
   ]
  },
  {
   "cell_type": "code",
   "execution_count": 44,
   "metadata": {
    "colab": {
     "base_uri": "https://localhost:8080/",
     "height": 68
    },
    "colab_type": "code",
    "executionInfo": {
     "elapsed": 394,
     "status": "ok",
     "timestamp": 1538701742562,
     "user": {
      "displayName": "Sebastian Rodriguez Colina",
      "photoUrl": "",
      "userId": "15883086893181703875"
     },
     "user_tz": 300
    },
    "id": "X-E1N7knxPXV",
    "outputId": "9d941021-e2a9-459c-e311-008ee0977aae"
   },
   "outputs": [
    {
     "name": "stdout",
     "output_type": "stream",
     "text": [
      "0\n",
      "1\n",
      "2\n"
     ]
    }
   ],
   "source": [
    "for i in range(len(d)):\n",
    "    print(i)"
   ]
  },
  {
   "cell_type": "code",
   "execution_count": 45,
   "metadata": {
    "colab": {
     "base_uri": "https://localhost:8080/",
     "height": 164
    },
    "colab_type": "code",
    "executionInfo": {
     "elapsed": 376,
     "status": "error",
     "timestamp": 1538701754288,
     "user": {
      "displayName": "Sebastian Rodriguez Colina",
      "photoUrl": "",
      "userId": "15883086893181703875"
     },
     "user_tz": 300
    },
    "id": "w6OOQ4kMxW0j",
    "outputId": "afc50510-7a31-4385-ccd4-06c2e2a4de24"
   },
   "outputs": [
    {
     "ename": "KeyError",
     "evalue": "ignored",
     "output_type": "error",
     "traceback": [
      "\u001b[0;31m---------------------------------------------------------------------------\u001b[0m",
      "\u001b[0;31mKeyError\u001b[0m                                  Traceback (most recent call last)",
      "\u001b[0;32m<ipython-input-45-123a9cc6df61>\u001b[0m in \u001b[0;36m<module>\u001b[0;34m()\u001b[0m\n\u001b[0;32m----> 1\u001b[0;31m \u001b[0md\u001b[0m\u001b[0;34m[\u001b[0m\u001b[0;36m0\u001b[0m\u001b[0;34m]\u001b[0m\u001b[0;34m\u001b[0m\u001b[0m\n\u001b[0m",
      "\u001b[0;31mKeyError\u001b[0m: 0"
     ]
    }
   ],
   "source": [
    "d[0]"
   ]
  },
  {
   "cell_type": "code",
   "execution_count": 0,
   "metadata": {
    "colab": {
     "base_uri": "https://localhost:8080/",
     "height": 205
    },
    "colab_type": "code",
    "id": "Iq7Lddb_fbhJ",
    "outputId": "d659d433-0bba-4603-cda0-76b546d13f71"
   },
   "outputs": [
    {
     "ename": "KeyError",
     "evalue": "ignored",
     "output_type": "error",
     "traceback": [
      "\u001b[0;31m---------------------------------------------------------------------------\u001b[0m",
      "\u001b[0;31mKeyError\u001b[0m                                  Traceback (most recent call last)",
      "\u001b[0;32m<ipython-input-62-e879f578a578>\u001b[0m in \u001b[0;36m<module>\u001b[0;34m()\u001b[0m\n\u001b[1;32m      1\u001b[0m \u001b[0md\u001b[0m \u001b[0;34m=\u001b[0m \u001b[0;34m{\u001b[0m\u001b[0;34m'a'\u001b[0m\u001b[0;34m:\u001b[0m\u001b[0;36m1\u001b[0m\u001b[0;34m,\u001b[0m \u001b[0;34m'b'\u001b[0m\u001b[0;34m:\u001b[0m\u001b[0;36m2\u001b[0m\u001b[0;34m,\u001b[0m \u001b[0;34m'c'\u001b[0m\u001b[0;34m:\u001b[0m\u001b[0;36m3\u001b[0m\u001b[0;34m}\u001b[0m\u001b[0;34m\u001b[0m\u001b[0m\n\u001b[1;32m      2\u001b[0m \u001b[0;32mfor\u001b[0m \u001b[0mi\u001b[0m \u001b[0;32min\u001b[0m \u001b[0mrange\u001b[0m\u001b[0;34m(\u001b[0m\u001b[0mlen\u001b[0m\u001b[0;34m(\u001b[0m\u001b[0md\u001b[0m\u001b[0;34m)\u001b[0m\u001b[0;34m)\u001b[0m\u001b[0;34m:\u001b[0m\u001b[0;34m\u001b[0m\u001b[0m\n\u001b[0;32m----> 3\u001b[0;31m     \u001b[0mprint\u001b[0m\u001b[0;34m(\u001b[0m\u001b[0md\u001b[0m\u001b[0;34m[\u001b[0m\u001b[0mi\u001b[0m\u001b[0;34m]\u001b[0m\u001b[0;34m)\u001b[0m\u001b[0;34m\u001b[0m\u001b[0m\n\u001b[0m",
      "\u001b[0;31mKeyError\u001b[0m: 0"
     ]
    }
   ],
   "source": [
    "d = {'a':1, 'b':2, 'c':3}\n",
    "for i in range(len(d)):\n",
    "    print(d[i])"
   ]
  },
  {
   "cell_type": "markdown",
   "metadata": {
    "colab_type": "text",
    "id": "MNOOWKgzZ67q"
   },
   "source": [
    "**while**"
   ]
  },
  {
   "cell_type": "code",
   "execution_count": 46,
   "metadata": {
    "colab": {
     "base_uri": "https://localhost:8080/",
     "height": 85
    },
    "colab_type": "code",
    "executionInfo": {
     "elapsed": 399,
     "status": "ok",
     "timestamp": 1538701858147,
     "user": {
      "displayName": "Sebastian Rodriguez Colina",
      "photoUrl": "",
      "userId": "15883086893181703875"
     },
     "user_tz": 300
    },
    "id": "mq_H2cpmZ89E",
    "outputId": "47af9811-82e8-4e04-dead-fb384f912366"
   },
   "outputs": [
    {
     "name": "stdout",
     "output_type": "stream",
     "text": [
      "0\n",
      "1\n",
      "2\n",
      "3\n"
     ]
    }
   ],
   "source": [
    "a = 0\n",
    "while a <= 3:\n",
    "    print(a)\n",
    "    a += 1"
   ]
  },
  {
   "cell_type": "code",
   "execution_count": 47,
   "metadata": {
    "colab": {
     "base_uri": "https://localhost:8080/",
     "height": 85
    },
    "colab_type": "code",
    "executionInfo": {
     "elapsed": 468,
     "status": "ok",
     "timestamp": 1538701875767,
     "user": {
      "displayName": "Sebastian Rodriguez Colina",
      "photoUrl": "",
      "userId": "15883086893181703875"
     },
     "user_tz": 300
    },
    "id": "OO5tow5CxzjV",
    "outputId": "989fb226-800f-41f3-b4f6-184f3d430ec6"
   },
   "outputs": [
    {
     "name": "stdout",
     "output_type": "stream",
     "text": [
      "0\n",
      "1\n",
      "2\n",
      "3\n"
     ]
    }
   ],
   "source": [
    "a = 0\n",
    "while a <= 3:\n",
    "    print(a)\n",
    "    a = a + 1"
   ]
  },
  {
   "cell_type": "markdown",
   "metadata": {
    "colab_type": "text",
    "id": "Gk9hOfQ8gOsa"
   },
   "source": [
    "**funciones**\n",
    "\n",
    "Sin valores por defecto"
   ]
  },
  {
   "cell_type": "code",
   "execution_count": 54,
   "metadata": {
    "colab": {
     "base_uri": "https://localhost:8080/",
     "height": 120
    },
    "colab_type": "code",
    "executionInfo": {
     "elapsed": 526,
     "status": "ok",
     "timestamp": 1538702358938,
     "user": {
      "displayName": "Sebastian Rodriguez Colina",
      "photoUrl": "",
      "userId": "15883086893181703875"
     },
     "user_tz": 300
    },
    "id": "zOi0pIaWgONQ",
    "outputId": "7db2d9b2-c56e-4e22-c2e6-100b245f1bfe"
   },
   "outputs": [
    {
     "name": "stdout",
     "output_type": "stream",
     "text": [
      "el valor de a es 3:\n",
      "el valor de b es 4\n",
      "el valor de a es None:\n",
      "el valor de b es 50\n",
      "el valor de a es casa:\n",
      "el valor de b es 1\n"
     ]
    }
   ],
   "source": [
    "def una_funcion(a, b):\n",
    "    print(\"el valor de a es {}:\\nel valor de b es {}\".format(a,b))\n",
    "    \n",
    "una_funcion(3,4)\n",
    "una_funcion(None,50)\n",
    "una_funcion('casa', 1)"
   ]
  },
  {
   "cell_type": "markdown",
   "metadata": {
    "colab_type": "text",
    "id": "nf2eNk9qEDOd"
   },
   "source": [
    "Con valores por defecto"
   ]
  },
  {
   "cell_type": "code",
   "execution_count": 55,
   "metadata": {
    "colab": {
     "base_uri": "https://localhost:8080/",
     "height": 154
    },
    "colab_type": "code",
    "executionInfo": {
     "elapsed": 492,
     "status": "ok",
     "timestamp": 1538702399662,
     "user": {
      "displayName": "Sebastian Rodriguez Colina",
      "photoUrl": "",
      "userId": "15883086893181703875"
     },
     "user_tz": 300
    },
    "id": "wGIZOEgBhhiA",
    "outputId": "2202fc3d-fb89-4226-c9b9-3fb53a1390c7"
   },
   "outputs": [
    {
     "name": "stdout",
     "output_type": "stream",
     "text": [
      "el valor de a es 3:\n",
      "el valor de b es 4\n",
      "el valor de a es None:\n",
      "el valor de b es 50\n",
      "el valor de a es casa:\n",
      "el valor de b es 3\n",
      "el valor de a es amarillo:\n",
      "el valor de b es 3\n"
     ]
    }
   ],
   "source": [
    "def una_funcion(a, b=3):\n",
    "    print(\"el valor de a es {}:\\nel valor de b es {}\".format(a,b))\n",
    "    \n",
    "una_funcion(3,4)\n",
    "una_funcion(None,50)\n",
    "una_funcion('casa')\n",
    "una_funcion('amarillo')"
   ]
  },
  {
   "cell_type": "code",
   "execution_count": 64,
   "metadata": {
    "colab": {
     "base_uri": "https://localhost:8080/",
     "height": 34
    },
    "colab_type": "code",
    "executionInfo": {
     "elapsed": 390,
     "status": "ok",
     "timestamp": 1538702831097,
     "user": {
      "displayName": "Sebastian Rodriguez Colina",
      "photoUrl": "",
      "userId": "15883086893181703875"
     },
     "user_tz": 300
    },
    "id": "vi_rcs9kz-YV",
    "outputId": "aafa348a-6714-4182-8113-5ec02e8cc858"
   },
   "outputs": [
    {
     "name": "stdout",
     "output_type": "stream",
     "text": [
      "3 4 9\n"
     ]
    }
   ],
   "source": [
    "def fn(a,b,c):\n",
    "    print(a,b,c)\n",
    "    \n",
    "fn(3, 4, c=9)"
   ]
  },
  {
   "cell_type": "code",
   "execution_count": 68,
   "metadata": {
    "colab": {
     "base_uri": "https://localhost:8080/",
     "height": 34
    },
    "colab_type": "code",
    "executionInfo": {
     "elapsed": 456,
     "status": "ok",
     "timestamp": 1538703011672,
     "user": {
      "displayName": "Sebastian Rodriguez Colina",
      "photoUrl": "",
      "userId": "15883086893181703875"
     },
     "user_tz": 300
    },
    "id": "Ciqj66l8z-KC",
    "outputId": "cdd304cb-c468-4698-d94c-655eb4126455"
   },
   "outputs": [
    {
     "name": "stdout",
     "output_type": "stream",
     "text": [
      "3 ('casa', 45)\n"
     ]
    }
   ],
   "source": [
    "def fn(a, *args):\n",
    "    print(a, args)\n",
    "    \n",
    "fn(3, 'casa', 45)"
   ]
  }
 ],
 "metadata": {
  "colab": {
   "name": "intro_python.ipynb",
   "provenance": [],
   "version": "0.3.2"
  },
  "kernelspec": {
   "display_name": "Python 3",
   "language": "python",
   "name": "python3"
  },
  "language_info": {
   "codemirror_mode": {
    "name": "ipython",
    "version": 3
   },
   "file_extension": ".py",
   "mimetype": "text/x-python",
   "name": "python",
   "nbconvert_exporter": "python",
   "pygments_lexer": "ipython3",
   "version": "3.7.1"
  }
 },
 "nbformat": 4,
 "nbformat_minor": 1
}
