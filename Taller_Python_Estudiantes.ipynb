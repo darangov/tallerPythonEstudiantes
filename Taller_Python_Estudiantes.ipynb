{
 "cells": [
  {
   "cell_type": "markdown",
   "metadata": {
    "colab_type": "text",
    "id": "2PIMM-5tOkyJ"
   },
   "source": [
    "## Temario taller Python para Machine Learning\n",
    "\n",
    "* Manipulacion de listas, Lista de listas<br>\n",
    "* type, max, round, help, len, index<br>\n",
    "* numpy arrays: mean, median, corrcoef, std, sum, sort, logical_(and, or, not), vectores, matrices<br>\n",
    "* pandas DataFrame: shape, columns, head, tail, info, pd.read_XXX, read con NaN, dict to DataFrame, exportar desde pandas, iloc vs loc, apply<br>\n",
    "* Condicionales: if, else, elif<br>\n",
    "* Ciclos<br>\n",
    "* Funciones, lambda, map<br>\n",
    "* List comprehension<br>\n",
    "* Algebra lineal operaciones matriciales: suma, resta, producto punto, producto cruz, matriz identidad, matriz transpuesta.<br>\n"
   ]
  },
  {
   "cell_type": "markdown",
   "metadata": {
    "colab_type": "text",
    "id": "6lANRGoQOkyM"
   },
   "source": [
    "### Usando listas"
   ]
  },
  {
   "cell_type": "code",
   "execution_count": 1,
   "metadata": {
    "colab": {},
    "colab_type": "code",
    "id": "KMmjg9uKOkyP"
   },
   "outputs": [],
   "source": [
    "#1 importar numpy y pandas\n",
    "import pandas as pd\n",
    "import numpy as np"
   ]
  },
  {
   "cell_type": "code",
   "execution_count": 2,
   "metadata": {
    "colab": {},
    "colab_type": "code",
    "id": "6x0BMbMCOkyX"
   },
   "outputs": [],
   "source": [
    "#2 asignar la lista a una variable [1,5,7,0,0,2,5,0,8,3]\n",
    "\n",
    "milista = [1,5,7,0,0,2,5,0,8,3]"
   ]
  },
  {
   "cell_type": "code",
   "execution_count": 3,
   "metadata": {
    "colab": {
     "base_uri": "https://localhost:8080/",
     "height": 34
    },
    "colab_type": "code",
    "executionInfo": {
     "elapsed": 449,
     "status": "ok",
     "timestamp": 1561158832906,
     "user": {
      "displayName": "Diego Arango",
      "photoUrl": "https://lh5.googleusercontent.com/-VgvXy-6vot0/AAAAAAAAAAI/AAAAAAAABGM/0Rs8yslDHzs/s64/photo.jpg",
      "userId": "03008810153317219365"
     },
     "user_tz": 300
    },
    "id": "HheOl9vxOkyd",
    "outputId": "810449c5-f4f2-4dd5-c2b9-0335634c9f27"
   },
   "outputs": [
    {
     "name": "stdout",
     "output_type": "stream",
     "text": [
      "[0, 2, 5, 0]\n"
     ]
    }
   ],
   "source": [
    "#3 En la lista del punto 2 imprimir los valores entre el indice 4 al 7\n",
    "print (milista[4:8])"
   ]
  },
  {
   "cell_type": "code",
   "execution_count": 4,
   "metadata": {
    "colab": {
     "base_uri": "https://localhost:8080/",
     "height": 34
    },
    "colab_type": "code",
    "executionInfo": {
     "elapsed": 476,
     "status": "ok",
     "timestamp": 1561158834011,
     "user": {
      "displayName": "Diego Arango",
      "photoUrl": "https://lh5.googleusercontent.com/-VgvXy-6vot0/AAAAAAAAAAI/AAAAAAAABGM/0Rs8yslDHzs/s64/photo.jpg",
      "userId": "03008810153317219365"
     },
     "user_tz": 300
    },
    "id": "blIsfDPBOkyr",
    "outputId": "22aff4ad-6b7a-486f-c91e-d98ac1b52897"
   },
   "outputs": [
    {
     "name": "stdout",
     "output_type": "stream",
     "text": [
      "[0, 2, 5, 0, 8, 3]\n"
     ]
    }
   ],
   "source": [
    "#4 En la lista del punto 2 imprimir los valores desde el indice 4 hasta el final\n",
    "print (milista[4:])"
   ]
  },
  {
   "cell_type": "code",
   "execution_count": 5,
   "metadata": {
    "colab": {
     "base_uri": "https://localhost:8080/",
     "height": 51
    },
    "colab_type": "code",
    "executionInfo": {
     "elapsed": 532,
     "status": "ok",
     "timestamp": 1561158834954,
     "user": {
      "displayName": "Diego Arango",
      "photoUrl": "https://lh5.googleusercontent.com/-VgvXy-6vot0/AAAAAAAAAAI/AAAAAAAABGM/0Rs8yslDHzs/s64/photo.jpg",
      "userId": "03008810153317219365"
     },
     "user_tz": 300
    },
    "id": "MshLJ96pOky1",
    "outputId": "74391555-0bea-4269-a5f0-2ee7d9565a8a"
   },
   "outputs": [
    {
     "name": "stdout",
     "output_type": "stream",
     "text": [
      "[3, 8, 0, 5, 2, 0, 0, 7, 5, 1]\n",
      "0:00:00.001137\n"
     ]
    }
   ],
   "source": [
    "#5 Asignar los valores de la lista del punto 2 a una nueva variable en orden inverso \n",
    "# al presentado [3,8,0,5,2,0,0,7,5,1]\n",
    "\n",
    "from datetime import datetime\n",
    "startTime = datetime.now()\n",
    "\n",
    "milista2 = milista[: : -1]\n",
    "print(milista2)\n",
    "\n",
    "print(datetime.now() - startTime)"
   ]
  },
  {
   "cell_type": "code",
   "execution_count": 6,
   "metadata": {
    "colab": {
     "base_uri": "https://localhost:8080/",
     "height": 3298
    },
    "colab_type": "code",
    "executionInfo": {
     "elapsed": 458,
     "status": "ok",
     "timestamp": 1561158836523,
     "user": {
      "displayName": "Diego Arango",
      "photoUrl": "https://lh5.googleusercontent.com/-VgvXy-6vot0/AAAAAAAAAAI/AAAAAAAABGM/0Rs8yslDHzs/s64/photo.jpg",
      "userId": "03008810153317219365"
     },
     "user_tz": 300
    },
    "id": "Mar0PsIoOky_",
    "outputId": "49b51d22-a5e0-4dbe-9728-c3fd0fcd39f1"
   },
   "outputs": [
    {
     "name": "stdout",
     "output_type": "stream",
     "text": [
      "longitud de lista:  10\n",
      "valor inicial:  1\n",
      "Nueva posicion Inicial: 0 Nueva posicion actual: 1\n",
      "valor actual:  5\n",
      "valor1_inicial:  1\n",
      "valor2_actual:  5\n",
      "Nueva posicion Inicial: 0 Nueva posicion actual: 2\n",
      "valor actual:  7\n",
      "valor1_inicial:  5\n",
      "valor2_actual:  7\n",
      "Nueva posicion Inicial: 0 Nueva posicion actual: 3\n",
      "valor actual:  0\n",
      "Es Mayor\n",
      "Nueva posicion Inicial: 0 Nueva posicion actual: 3\n",
      "Nueva posicion Inicial: 0 Nueva posicion actual: 4\n",
      "valor actual:  0\n",
      "Es Mayor\n",
      "Nueva posicion Inicial: 0 Nueva posicion actual: 4\n",
      "Nueva posicion Inicial: 0 Nueva posicion actual: 5\n",
      "valor actual:  2\n",
      "Es Mayor\n",
      "Nueva posicion Inicial: 0 Nueva posicion actual: 5\n",
      "Nueva posicion Inicial: 0 Nueva posicion actual: 6\n",
      "valor actual:  5\n",
      "Es Mayor\n",
      "Nueva posicion Inicial: 0 Nueva posicion actual: 6\n",
      "Nueva posicion Inicial: 0 Nueva posicion actual: 7\n",
      "valor actual:  0\n",
      "Es Mayor\n",
      "Nueva posicion Inicial: 0 Nueva posicion actual: 7\n",
      "Nueva posicion Inicial: 0 Nueva posicion actual: 8\n",
      "valor actual:  8\n",
      "valor1_inicial:  7\n",
      "valor2_actual:  8\n",
      "Nueva posicion Inicial: 0 Nueva posicion actual: 9\n",
      "valor actual:  3\n",
      "Es Mayor\n",
      "Nueva posicion Inicial: 0 Nueva posicion actual: 9\n",
      "[8, 1, 5, 0, 0, 2, 5, 0, 7, 3]\n",
      "valor inicial:  1\n",
      "Nueva posicion Inicial: 1 Nueva posicion actual: 2\n",
      "valor actual:  5\n",
      "valor1_inicial:  1\n",
      "valor2_actual:  5\n",
      "Nueva posicion Inicial: 1 Nueva posicion actual: 3\n",
      "valor actual:  0\n",
      "Es Mayor\n",
      "Nueva posicion Inicial: 1 Nueva posicion actual: 3\n",
      "Nueva posicion Inicial: 1 Nueva posicion actual: 4\n",
      "valor actual:  0\n",
      "Es Mayor\n",
      "Nueva posicion Inicial: 1 Nueva posicion actual: 4\n",
      "Nueva posicion Inicial: 1 Nueva posicion actual: 5\n",
      "valor actual:  2\n",
      "Es Mayor\n",
      "Nueva posicion Inicial: 1 Nueva posicion actual: 5\n",
      "Nueva posicion Inicial: 1 Nueva posicion actual: 6\n",
      "valor actual:  5\n",
      "Es Mayor\n",
      "Nueva posicion Inicial: 1 Nueva posicion actual: 6\n",
      "Nueva posicion Inicial: 1 Nueva posicion actual: 7\n",
      "valor actual:  0\n",
      "Es Mayor\n",
      "Nueva posicion Inicial: 1 Nueva posicion actual: 7\n",
      "Nueva posicion Inicial: 1 Nueva posicion actual: 8\n",
      "valor actual:  7\n",
      "valor1_inicial:  5\n",
      "valor2_actual:  7\n",
      "Nueva posicion Inicial: 1 Nueva posicion actual: 9\n",
      "valor actual:  3\n",
      "Es Mayor\n",
      "Nueva posicion Inicial: 1 Nueva posicion actual: 9\n",
      "[8, 7, 1, 0, 0, 2, 5, 0, 5, 3]\n",
      "valor inicial:  1\n",
      "Nueva posicion Inicial: 2 Nueva posicion actual: 3\n",
      "valor actual:  0\n",
      "Es Mayor\n",
      "Nueva posicion Inicial: 2 Nueva posicion actual: 3\n",
      "Nueva posicion Inicial: 2 Nueva posicion actual: 4\n",
      "valor actual:  0\n",
      "Es Mayor\n",
      "Nueva posicion Inicial: 2 Nueva posicion actual: 4\n",
      "Nueva posicion Inicial: 2 Nueva posicion actual: 5\n",
      "valor actual:  2\n",
      "valor1_inicial:  1\n",
      "valor2_actual:  2\n",
      "Nueva posicion Inicial: 2 Nueva posicion actual: 6\n",
      "valor actual:  5\n",
      "valor1_inicial:  2\n",
      "valor2_actual:  5\n",
      "Nueva posicion Inicial: 2 Nueva posicion actual: 7\n",
      "valor actual:  0\n",
      "Es Mayor\n",
      "Nueva posicion Inicial: 2 Nueva posicion actual: 7\n",
      "Nueva posicion Inicial: 2 Nueva posicion actual: 8\n",
      "valor actual:  5\n",
      "Es Mayor\n",
      "Nueva posicion Inicial: 2 Nueva posicion actual: 8\n",
      "Nueva posicion Inicial: 2 Nueva posicion actual: 9\n",
      "valor actual:  3\n",
      "Es Mayor\n",
      "Nueva posicion Inicial: 2 Nueva posicion actual: 9\n",
      "[8, 7, 5, 0, 0, 1, 2, 0, 5, 3]\n",
      "valor inicial:  0\n",
      "Nueva posicion Inicial: 3 Nueva posicion actual: 4\n",
      "valor actual:  0\n",
      "Es Mayor\n",
      "Nueva posicion Inicial: 3 Nueva posicion actual: 4\n",
      "Nueva posicion Inicial: 3 Nueva posicion actual: 5\n",
      "valor actual:  1\n",
      "valor1_inicial:  0\n",
      "valor2_actual:  1\n",
      "Nueva posicion Inicial: 3 Nueva posicion actual: 6\n",
      "valor actual:  2\n",
      "valor1_inicial:  1\n",
      "valor2_actual:  2\n",
      "Nueva posicion Inicial: 3 Nueva posicion actual: 7\n",
      "valor actual:  0\n",
      "Es Mayor\n",
      "Nueva posicion Inicial: 3 Nueva posicion actual: 7\n",
      "Nueva posicion Inicial: 3 Nueva posicion actual: 8\n",
      "valor actual:  5\n",
      "valor1_inicial:  2\n",
      "valor2_actual:  5\n",
      "Nueva posicion Inicial: 3 Nueva posicion actual: 9\n",
      "valor actual:  3\n",
      "Es Mayor\n",
      "Nueva posicion Inicial: 3 Nueva posicion actual: 9\n",
      "[8, 7, 5, 5, 0, 0, 1, 0, 2, 3]\n",
      "valor inicial:  0\n",
      "Nueva posicion Inicial: 4 Nueva posicion actual: 5\n",
      "valor actual:  0\n",
      "Es Mayor\n",
      "Nueva posicion Inicial: 4 Nueva posicion actual: 5\n",
      "Nueva posicion Inicial: 4 Nueva posicion actual: 6\n",
      "valor actual:  1\n",
      "valor1_inicial:  0\n",
      "valor2_actual:  1\n",
      "Nueva posicion Inicial: 4 Nueva posicion actual: 7\n",
      "valor actual:  0\n",
      "Es Mayor\n",
      "Nueva posicion Inicial: 4 Nueva posicion actual: 7\n",
      "Nueva posicion Inicial: 4 Nueva posicion actual: 8\n",
      "valor actual:  2\n",
      "valor1_inicial:  1\n",
      "valor2_actual:  2\n",
      "Nueva posicion Inicial: 4 Nueva posicion actual: 9\n",
      "valor actual:  3\n",
      "valor1_inicial:  2\n",
      "valor2_actual:  3\n",
      "[8, 7, 5, 5, 3, 0, 0, 0, 1, 2]\n",
      "valor inicial:  0\n",
      "Nueva posicion Inicial: 5 Nueva posicion actual: 6\n",
      "valor actual:  0\n",
      "Es Mayor\n",
      "Nueva posicion Inicial: 5 Nueva posicion actual: 6\n",
      "Nueva posicion Inicial: 5 Nueva posicion actual: 7\n",
      "valor actual:  0\n",
      "Es Mayor\n",
      "Nueva posicion Inicial: 5 Nueva posicion actual: 7\n",
      "Nueva posicion Inicial: 5 Nueva posicion actual: 8\n",
      "valor actual:  1\n",
      "valor1_inicial:  0\n",
      "valor2_actual:  1\n",
      "Nueva posicion Inicial: 5 Nueva posicion actual: 9\n",
      "valor actual:  2\n",
      "valor1_inicial:  1\n",
      "valor2_actual:  2\n",
      "[8, 7, 5, 5, 3, 2, 0, 0, 0, 1]\n",
      "valor inicial:  0\n",
      "Nueva posicion Inicial: 6 Nueva posicion actual: 7\n",
      "valor actual:  0\n",
      "Es Mayor\n",
      "Nueva posicion Inicial: 6 Nueva posicion actual: 7\n",
      "Nueva posicion Inicial: 6 Nueva posicion actual: 8\n",
      "valor actual:  0\n",
      "Es Mayor\n",
      "Nueva posicion Inicial: 6 Nueva posicion actual: 8\n",
      "Nueva posicion Inicial: 6 Nueva posicion actual: 9\n",
      "valor actual:  1\n",
      "valor1_inicial:  0\n",
      "valor2_actual:  1\n",
      "[8, 7, 5, 5, 3, 2, 1, 0, 0, 0]\n",
      "valor inicial:  0\n",
      "Nueva posicion Inicial: 7 Nueva posicion actual: 8\n",
      "valor actual:  0\n",
      "Es Mayor\n",
      "Nueva posicion Inicial: 7 Nueva posicion actual: 8\n",
      "Nueva posicion Inicial: 7 Nueva posicion actual: 9\n",
      "valor actual:  0\n",
      "Es Mayor\n",
      "Nueva posicion Inicial: 7 Nueva posicion actual: 9\n",
      "[8, 7, 5, 5, 3, 2, 1, 0, 0, 0]\n"
     ]
    }
   ],
   "source": [
    "#6 Ordenar de mayor a menor la lista del punto 2 y asignarla a una nueva variable\n",
    "#[1,5,7,0,0,2,5,0,8,3]\n",
    " \n",
    "milista3 = [1,5,7,0,0,2,5,0,8,3]\n",
    " \n",
    "# posicion_inicial: Contador ciclo exterior de la celda que se va a comparar con demas del vector\n",
    "# posicion_actual: Contador ciclo interior, de cada una de las celdas que se van comparando con la exterior\n",
    "#autos = ['mercedez','BMW','Toyota']\n",
    "#for indice in range(len(autos)) #range define un rango que es el tamaño de la lista\n",
    " \n",
    "longitud = len(milista3)\n",
    "print(\"longitud de lista: \", longitud)\n",
    " \n",
    "#for posicion_inicial in range(len(milista)-1):\n",
    "# Ciclo de la celda que estoy validando respecto a las demas\n",
    "for posicion_inicial in range((longitud-2)):\n",
    "    #print(\"Matriz Inicia ciclo INICIAL: \", milista)\n",
    "    #posicion_actual = posicion_inicial + 1\n",
    "    #print(\"posicion inicial -----\", posicion_inicial)\n",
    "    #print(\"posicion actual -----\", posicion_actual)\n",
    "    print(\"valor inicial: \", milista3[posicion_inicial])\n",
    "    #print(\"valor actual: \", milista[posicion_actual])\n",
    " \n",
    "    #for posicion_actual in milista[1:]:\n",
    "    #for posicion_actual in range ((posicion_inicial+1),(longitud-1)):\n",
    "    for posicion_actual in range ((posicion_inicial+1),(longitud)): \n",
    "        print(\"Nueva posicion Inicial: {} Nueva posicion actual: {}\".format(posicion_inicial, posicion_actual))\n",
    "        #print(\"Matriz Inicia ciclo ACTUAL 1: \", milista)\n",
    "        #ubicacion = posicion_inicial + 1\n",
    "        #posicion_actual = posicion_actual + 1\n",
    "        #print(\"posicion actual -----\", posicion_actual)\n",
    "        print(\"valor actual: \", milista3[posicion_actual])\n",
    "        #print(\"Matriz Inicia ciclo ACTUAL 2: \", milista)\n",
    " \n",
    "        if milista3[posicion_inicial] >= milista3[posicion_actual]:\n",
    "            print(\"Es Mayor\")\n",
    "            #posicion_actual = posicion_actual + 1\n",
    "            print(\"Nueva posicion Inicial: {} Nueva posicion actual: {}\".format(posicion_inicial, posicion_actual))\n",
    " \n",
    "        else:\n",
    "            valor_1 = milista3[posicion_inicial]\n",
    "            valor_2 = milista3[posicion_actual]\n",
    "            print(\"valor1_inicial: \",valor_1)\n",
    "            print(\"valor2_actual: \", valor_2)\n",
    "            milista3[posicion_inicial] = valor_2\n",
    "            milista3[posicion_actual] = valor_1\n",
    "            posicion_actual = posicion_actual + 1\n",
    "            #print(\"Nueva posicion Inicial: {} Nueva posicion actual: {}\".format(posicion_inicial, posicion_actual))\n",
    "            #print(\"Nueva posicion actual: \", posicion_actual)\n",
    " \n",
    " \n",
    "        #print(\"Finaliza Ciclo ACTUAL: \", milista)\n",
    " \n",
    "            #print(\"el valor de a es {}:\\nel valor de b es {}\".format(a,b))\n",
    "    #posicion_actual = posicion_inicial + 1\n",
    "    print(milista3)"
   ]
  },
  {
   "cell_type": "code",
   "execution_count": 7,
   "metadata": {
    "colab": {
     "base_uri": "https://localhost:8080/",
     "height": 34
    },
    "colab_type": "code",
    "executionInfo": {
     "elapsed": 451,
     "status": "ok",
     "timestamp": 1561158843033,
     "user": {
      "displayName": "Diego Arango",
      "photoUrl": "https://lh5.googleusercontent.com/-VgvXy-6vot0/AAAAAAAAAAI/AAAAAAAABGM/0Rs8yslDHzs/s64/photo.jpg",
      "userId": "03008810153317219365"
     },
     "user_tz": 300
    },
    "id": "YvVMwFPlOkzI",
    "outputId": "2d90917b-e2fa-4ba7-e0ef-2563e7d758ab"
   },
   "outputs": [
    {
     "name": "stdout",
     "output_type": "stream",
     "text": [
      "10\n"
     ]
    }
   ],
   "source": [
    "#7 Calcular la longitud de la lista\n",
    "long = len(milista)\n",
    "print(long)\n",
    "\n",
    "#dir(milista)"
   ]
  },
  {
   "cell_type": "code",
   "execution_count": 8,
   "metadata": {
    "colab": {
     "base_uri": "https://localhost:8080/",
     "height": 34
    },
    "colab_type": "code",
    "executionInfo": {
     "elapsed": 331,
     "status": "ok",
     "timestamp": 1561158843782,
     "user": {
      "displayName": "Diego Arango",
      "photoUrl": "https://lh5.googleusercontent.com/-VgvXy-6vot0/AAAAAAAAAAI/AAAAAAAABGM/0Rs8yslDHzs/s64/photo.jpg",
      "userId": "03008810153317219365"
     },
     "user_tz": 300
    },
    "id": "dU6sCtqYOkzU",
    "outputId": "14f86e3d-d5d5-488a-98d6-8d10322298ea"
   },
   "outputs": [
    {
     "name": "stdout",
     "output_type": "stream",
     "text": [
      "[1, 7, 0, 5, 8]\n"
     ]
    }
   ],
   "source": [
    "#8 imprimir los siguientes numeros a partir de la lista del punto -[1,5,7,0,0,2,5,0,8,3]- 2 en una \n",
    "# sola linea [1, 7, 0, 5, 8]\n",
    "\n",
    "x = (milista[0::2])\n",
    "print(x)"
   ]
  },
  {
   "cell_type": "code",
   "execution_count": 9,
   "metadata": {
    "colab": {
     "base_uri": "https://localhost:8080/",
     "height": 85
    },
    "colab_type": "code",
    "executionInfo": {
     "elapsed": 421,
     "status": "ok",
     "timestamp": 1561158844833,
     "user": {
      "displayName": "Diego Arango",
      "photoUrl": "https://lh5.googleusercontent.com/-VgvXy-6vot0/AAAAAAAAAAI/AAAAAAAABGM/0Rs8yslDHzs/s64/photo.jpg",
      "userId": "03008810153317219365"
     },
     "user_tz": 300
    },
    "id": "745QrqZmOkzi",
    "outputId": "74679f8c-0979-4227-bf62-028548775b9c"
   },
   "outputs": [
    {
     "name": "stdout",
     "output_type": "stream",
     "text": [
      "Hola\n",
      "H-o-l-a\n",
      "123\n",
      "123\n"
     ]
    }
   ],
   "source": [
    "#9 convertir la lista ['H','o','l','a'] a un string 'Hola' y asignarlo a una nueva variable\n",
    "\n",
    "milista4 = ['H','o','l','a']\n",
    "\n",
    "strHola = ''.join(milista4)\n",
    "print (strHola)\n",
    "\n",
    "strHola = '-'.join(milista4)\n",
    "print (strHola)\n",
    "\n",
    "\n",
    "list1 = ['1', '2', '3']\n",
    "str1 = ''.join(list1)\n",
    "print(str1)\n",
    "\n",
    "list2 = [1, 2, 3]\n",
    "str2 = ''.join(str(e) for e in list2)\n",
    "print(str2)\n",
    "\n",
    "#list1 = ['1', '2', '3']\n",
    "#str1 = ''.join(list1)\n",
    "\n",
    "#list1 = [1, 2, 3]\n",
    "#str1 = ''.join(str(e) for e in list1)"
   ]
  },
  {
   "cell_type": "code",
   "execution_count": 10,
   "metadata": {
    "colab": {
     "base_uri": "https://localhost:8080/",
     "height": 34
    },
    "colab_type": "code",
    "executionInfo": {
     "elapsed": 438,
     "status": "ok",
     "timestamp": 1561158847580,
     "user": {
      "displayName": "Diego Arango",
      "photoUrl": "https://lh5.googleusercontent.com/-VgvXy-6vot0/AAAAAAAAAAI/AAAAAAAABGM/0Rs8yslDHzs/s64/photo.jpg",
      "userId": "03008810153317219365"
     },
     "user_tz": 300
    },
    "id": "-XnWap8oOkzs",
    "outputId": "5008d9cb-3c5d-4679-c9a6-8a0b9af1989a"
   },
   "outputs": [
    {
     "name": "stdout",
     "output_type": "stream",
     "text": [
      "['H', 'O', 'L', 'A']\n"
     ]
    }
   ],
   "source": [
    "#10 convertir el string 'Hola' en la lista ['H','o','l','a'] y asignarlo a una nueva variable\n",
    "\n",
    "milista5 = list('HOLA')\n",
    "print(milista5)\n"
   ]
  },
  {
   "cell_type": "code",
   "execution_count": 11,
   "metadata": {
    "colab": {
     "base_uri": "https://localhost:8080/",
     "height": 102
    },
    "colab_type": "code",
    "executionInfo": {
     "elapsed": 453,
     "status": "ok",
     "timestamp": 1561158850703,
     "user": {
      "displayName": "Diego Arango",
      "photoUrl": "https://lh5.googleusercontent.com/-VgvXy-6vot0/AAAAAAAAAAI/AAAAAAAABGM/0Rs8yslDHzs/s64/photo.jpg",
      "userId": "03008810153317219365"
     },
     "user_tz": 300
    },
    "id": "xuL3dkZQOkz1",
    "outputId": "780c5590-33af-4821-879b-3b108c20a5ad"
   },
   "outputs": [
    {
     "name": "stdout",
     "output_type": "stream",
     "text": [
      "[1, 5, 7, 0, 0, 2, 5, 0, 8, 3, 7.5, 8.1, 9.6]\n",
      "[1, 5, 7, 0, 0, 2, 5, 0, 8, 3, [7.5, 8.1]]\n",
      "[1, 5, 7, 0, 0, 2, 5, 0, 8, 3, [7.5]]\n",
      "[1, 5, 7, 0, 0, 2, 5, 0, 8, 3, 7.5]\n",
      "[1, 5, 7, 0, 0, 2, 5, 0, 8, 3, 7.5, 8.1, 9.6]\n"
     ]
    }
   ],
   "source": [
    "#11 a la lista del punto 2 agregarle los valores 7.5,8.1 y 9.6 al final.\n",
    "# usa el metodo extend y el metodo append para obtener la siguiente lista:\n",
    "# [1,5,7,0,0,2,5,0,8,3,7.5,8.1,9.6]\n",
    "\n",
    "milista = [1,5,7,0,0,2,5,0,8,3]\n",
    "milista.extend([7.5, 8.1, 9.6])\n",
    "print(milista)\n",
    "\n",
    "milista = [1,5,7,0,0,2,5,0,8,3]\n",
    "milista.append([7.5,8.1])\n",
    "print(milista)\n",
    "\n",
    "milista = [1,5,7,0,0,2,5,0,8,3]\n",
    "milista.append([7.5])\n",
    "print(milista)\n",
    "\n",
    "milista = [1,5,7,0,0,2,5,0,8,3]\n",
    "milista.append(7.5)\n",
    "print(milista)\n",
    "\n",
    "milista = [1,5,7,0,0,2,5,0,8,3]\n",
    "milista.append(7.5)\n",
    "milista.append(8.1)\n",
    "milista.append(9.6)\n",
    "print(milista)\n",
    "\n",
    "#append adds its argument as a single element to the end of a list. The length of the list itself \n",
    "#will increase by one. extend iterates over its argument adding each element to the list, extending the list. \n",
    "#The length of the list will increase by however many elements were in the iterable argument."
   ]
  },
  {
   "cell_type": "code",
   "execution_count": 12,
   "metadata": {
    "colab": {
     "base_uri": "https://localhost:8080/",
     "height": 34
    },
    "colab_type": "code",
    "executionInfo": {
     "elapsed": 478,
     "status": "ok",
     "timestamp": 1561158853703,
     "user": {
      "displayName": "Diego Arango",
      "photoUrl": "https://lh5.googleusercontent.com/-VgvXy-6vot0/AAAAAAAAAAI/AAAAAAAABGM/0Rs8yslDHzs/s64/photo.jpg",
      "userId": "03008810153317219365"
     },
     "user_tz": 300
    },
    "id": "ZEsCEqr4Okz-",
    "outputId": "10d6d4d7-ad0d-4ad3-cbf9-cc54d2895789"
   },
   "outputs": [
    {
     "name": "stdout",
     "output_type": "stream",
     "text": [
      "[1, 5, 7, 0, 0, 2, 5, 0, 8, 3, 7.5, 8.1, 9.6]\n"
     ]
    }
   ],
   "source": [
    "#12 has los mismo del paso anterior usando conlcatenacion de listas (operador +)\n",
    "# asigna esta lista a una nueva variable\n",
    "milista = [1,5,7,0,0,2,5,0,8,3]\n",
    "milista6 = [7.5,8.1,9.6]\n",
    "\n",
    "milista7 = milista + milista6\n",
    "print (milista7)"
   ]
  },
  {
   "cell_type": "code",
   "execution_count": 13,
   "metadata": {
    "colab": {
     "base_uri": "https://localhost:8080/",
     "height": 34
    },
    "colab_type": "code",
    "executionInfo": {
     "elapsed": 677,
     "status": "ok",
     "timestamp": 1561158855133,
     "user": {
      "displayName": "Diego Arango",
      "photoUrl": "https://lh5.googleusercontent.com/-VgvXy-6vot0/AAAAAAAAAAI/AAAAAAAABGM/0Rs8yslDHzs/s64/photo.jpg",
      "userId": "03008810153317219365"
     },
     "user_tz": 300
    },
    "id": "ZU3SUpnbOk0G",
    "outputId": "e72802e9-00bd-49ba-dd88-5c30615cfb6c"
   },
   "outputs": [
    {
     "name": "stdout",
     "output_type": "stream",
     "text": [
      "[1, 25, 49, 0, 0, 4, 25, 0, 64, 9, 56.25, 65.61, 92.16]\n"
     ]
    }
   ],
   "source": [
    "#13 con la lista del punto 12 crea una nueva lista con el cuadrado de cada uno de los valores\n",
    "# [1,25,49,...,92.16]\n",
    "\n",
    "#def square(list):\n",
    "    #return [i ** 2 for i in list]\n",
    "  \n",
    "milista7 = [1, 5, 7, 0, 0, 2, 5, 0, 8, 3, 7.5, 8.1, 9.6]\n",
    "\n",
    "def square(lista):\n",
    "    return [i ** 2 for i in lista]\n",
    "\n",
    "\n",
    "milista8 = square(milista7)\n",
    "print (milista8)"
   ]
  },
  {
   "cell_type": "code",
   "execution_count": 14,
   "metadata": {
    "colab": {
     "base_uri": "https://localhost:8080/",
     "height": 34
    },
    "colab_type": "code",
    "executionInfo": {
     "elapsed": 443,
     "status": "ok",
     "timestamp": 1561158857246,
     "user": {
      "displayName": "Diego Arango",
      "photoUrl": "https://lh5.googleusercontent.com/-VgvXy-6vot0/AAAAAAAAAAI/AAAAAAAABGM/0Rs8yslDHzs/s64/photo.jpg",
      "userId": "03008810153317219365"
     },
     "user_tz": 300
    },
    "id": "lot_CiNyOk0N",
    "outputId": "04a897aa-f101-4005-ff18-35ed97150c17"
   },
   "outputs": [
    {
     "name": "stdout",
     "output_type": "stream",
     "text": [
      "Object `index` not found.\n"
     ]
    }
   ],
   "source": [
    "#14 la ayuda (help o documentacion oficial de python) para cada uno de los \n",
    "# siguiente metodos type, max, round, len, index\n",
    "\n",
    "\n",
    "#?type\n",
    "#type(milista8)\n",
    "#?max\n",
    "#max(milista8)\n",
    "#? round\n",
    "#round(milista8[10],1)\n",
    "?index\n"
   ]
  },
  {
   "cell_type": "markdown",
   "metadata": {
    "colab_type": "text",
    "id": "drOpuqbeOk0U"
   },
   "source": [
    "### numpy"
   ]
  },
  {
   "cell_type": "code",
   "execution_count": 15,
   "metadata": {
    "colab": {},
    "colab_type": "code",
    "id": "f1iyrtTOOk0V"
   },
   "outputs": [],
   "source": [
    "#1 importar numpy con el alias np\n",
    "import numpy as np\n",
    "\n"
   ]
  },
  {
   "cell_type": "code",
   "execution_count": 16,
   "metadata": {
    "colab": {
     "base_uri": "https://localhost:8080/",
     "height": 136
    },
    "colab_type": "code",
    "executionInfo": {
     "elapsed": 480,
     "status": "ok",
     "timestamp": 1561158860645,
     "user": {
      "displayName": "Diego Arango",
      "photoUrl": "https://lh5.googleusercontent.com/-VgvXy-6vot0/AAAAAAAAAAI/AAAAAAAABGM/0Rs8yslDHzs/s64/photo.jpg",
      "userId": "03008810153317219365"
     },
     "user_tz": 300
    },
    "id": "goOYRIa9Ok0a",
    "outputId": "4bb383fd-15fb-4a81-ccbf-60494e50d664"
   },
   "outputs": [
    {
     "name": "stdout",
     "output_type": "stream",
     "text": [
      "[0. 0. 0. 0. 0. 0. 0. 0. 0. 0. 0. 0. 0. 0. 0. 0. 0. 0. 0. 0. 0. 0. 0. 0.\n",
      " 0. 0. 0. 0. 0. 0. 0. 0. 0. 0. 0. 0. 0. 0. 0. 0. 0. 0. 0. 0. 0. 0. 0. 0.\n",
      " 0. 0. 0. 0. 0. 0. 0. 0. 0. 0. 0. 0. 0. 0. 0. 0. 0. 0. 0. 0. 0. 0. 0. 0.\n",
      " 0. 0. 0. 0. 0. 0. 0. 0. 0. 0. 0. 0. 0. 0. 0. 0. 0. 0. 0. 0. 0. 0. 0. 0.\n",
      " 0. 0. 0. 0.]\n",
      "0:00:00.002975\n"
     ]
    },
    {
     "data": {
      "text/plain": [
       "numpy.ndarray"
      ]
     },
     "execution_count": 16,
     "metadata": {},
     "output_type": "execute_result"
    }
   ],
   "source": [
    "#2 Crear un vector de 100 ceros (zeros)\n",
    "from datetime import datetime\n",
    "startTime = datetime.now()\n",
    "\n",
    "vectorCeros = np.zeros(100)\n",
    "print(vectorCeros)\n",
    "\n",
    "#np.zeros(100)\n",
    "print (datetime.now()-startTime)\n",
    "\n",
    "type(vectorCeros)\n",
    "\n",
    "#dir(vectorCeros)\n",
    "\n",
    "# Create a vector as a row\n",
    "#vector_row = np.array([1, 2, 3])\n",
    "\n",
    "# Create a vector as a column\n",
    "#vector_column = np.array([[1],\n",
    "#                          [2],\n",
    "#                          [3]])\n",
    "                       "
   ]
  },
  {
   "cell_type": "code",
   "execution_count": 17,
   "metadata": {
    "colab": {
     "base_uri": "https://localhost:8080/",
     "height": 136
    },
    "colab_type": "code",
    "executionInfo": {
     "elapsed": 444,
     "status": "ok",
     "timestamp": 1561158862890,
     "user": {
      "displayName": "Diego Arango",
      "photoUrl": "https://lh5.googleusercontent.com/-VgvXy-6vot0/AAAAAAAAAAI/AAAAAAAABGM/0Rs8yslDHzs/s64/photo.jpg",
      "userId": "03008810153317219365"
     },
     "user_tz": 300
    },
    "id": "69_m9rWfOk0f",
    "outputId": "d71e737d-ef02-49b3-dc7d-3a687d6d1029"
   },
   "outputs": [
    {
     "name": "stdout",
     "output_type": "stream",
     "text": [
      "[1. 1. 1. 1. 1. 1. 1. 1. 1. 1. 1. 1. 1. 1. 1. 1. 1. 1. 1. 1. 1. 1. 1. 1.\n",
      " 1. 1. 1. 1. 1. 1. 1. 1. 1. 1. 1. 1. 1. 1. 1. 1. 1. 1. 1. 1. 1. 1. 1. 1.\n",
      " 1. 1. 1. 1. 1. 1. 1. 1. 1. 1. 1. 1. 1. 1. 1. 1. 1. 1. 1. 1. 1. 1. 1. 1.\n",
      " 1. 1. 1. 1. 1. 1. 1. 1. 1. 1. 1. 1. 1. 1. 1. 1. 1. 1. 1. 1. 1. 1. 1. 1.\n",
      " 1. 1. 1. 1.]\n",
      "0:00:00.001732\n"
     ]
    },
    {
     "data": {
      "text/plain": [
       "numpy.ndarray"
      ]
     },
     "execution_count": 17,
     "metadata": {},
     "output_type": "execute_result"
    }
   ],
   "source": [
    "#3 Crear un vector de 100 unos\n",
    "from datetime import datetime\n",
    "startTime = datetime.now()\n",
    "\n",
    "vectorUnos = np.ones(100)\n",
    "print(vectorUnos)\n",
    "#?type\n",
    "\n",
    "print (datetime.now()-startTime)\n",
    "\n",
    "type(vectorUnos)"
   ]
  },
  {
   "cell_type": "code",
   "execution_count": 18,
   "metadata": {
    "colab": {
     "base_uri": "https://localhost:8080/",
     "height": 34
    },
    "colab_type": "code",
    "executionInfo": {
     "elapsed": 546,
     "status": "ok",
     "timestamp": 1561158864162,
     "user": {
      "displayName": "Diego Arango",
      "photoUrl": "https://lh5.googleusercontent.com/-VgvXy-6vot0/AAAAAAAAAAI/AAAAAAAABGM/0Rs8yslDHzs/s64/photo.jpg",
      "userId": "03008810153317219365"
     },
     "user_tz": 300
    },
    "id": "gTbr2XY4Ok0l",
    "outputId": "afa91aeb-ee2a-4608-921a-523618ad4684"
   },
   "outputs": [
    {
     "name": "stdout",
     "output_type": "stream",
     "text": [
      "El punto 3, el de los Ones.\n"
     ]
    }
   ],
   "source": [
    "#4 entre el punto 2 y 3 cual se demora mas?\n",
    "#El punto 3\n",
    "print(\"El punto 3, el de los Ones.\")"
   ]
  },
  {
   "cell_type": "code",
   "execution_count": 19,
   "metadata": {
    "colab": {
     "base_uri": "https://localhost:8080/",
     "height": 187
    },
    "colab_type": "code",
    "executionInfo": {
     "elapsed": 471,
     "status": "ok",
     "timestamp": 1561158865201,
     "user": {
      "displayName": "Diego Arango",
      "photoUrl": "https://lh5.googleusercontent.com/-VgvXy-6vot0/AAAAAAAAAAI/AAAAAAAABGM/0Rs8yslDHzs/s64/photo.jpg",
      "userId": "03008810153317219365"
     },
     "user_tz": 300
    },
    "id": "AP0ZinSGOk0r",
    "outputId": "b16351d5-b127-4945-90c4-dcaf7dcadab2"
   },
   "outputs": [
    {
     "name": "stdout",
     "output_type": "stream",
     "text": [
      "lista12 [10, 11, 12, 13, 14, 15, 16, 17, 18, 19, 20, 21, 22, 23, 24, 25, 26, 27, 28, 29, 30, 31, 32, 33, 34, 35, 36, 37, 38, 39, 40, 41, 42, 43, 44, 45, 46, 47, 48, 49]\n",
      "<class 'list'>\n",
      "tiempo lista 12:  733\n",
      "lista13 [10, 11, 12, 13, 14, 15, 16, 17, 18, 19, 20, 21, 22, 23, 24, 25, 26, 27, 28, 29, 30, 31, 32, 33, 34, 35, 36, 37, 38, 39, 40, 41, 42, 43, 44, 45, 46, 47, 48, 49]\n",
      "<class 'list'>\n",
      "tiempo lista 13:  553\n",
      "lista14 [10 11 12 13 14 15 16 17 18 19 20 21 22 23 24 25 26 27 28 29 30 31 32 33\n",
      " 34 35 36 37 38 39 40 41 42 43 44 45 46 47 48 49]\n",
      "tiempo lista 14:  729\n",
      "<class 'numpy.ndarray'>\n"
     ]
    }
   ],
   "source": [
    "#5 crear un vector entre 10 y 49\n",
    "\n",
    "\n",
    "from datetime import datetime\n",
    "time1 = datetime.now()\n",
    "lista12 = []\n",
    "#print(dir(lista12))\n",
    "for x in range(10,50,1):\n",
    "    lista12.append(x)\n",
    "print(\"lista12\",lista12)\n",
    "print(type(lista12))\n",
    "print(\"tiempo lista 12: \", (datetime.now() - time1).microseconds)\n",
    "\n",
    "\n",
    "time2= datetime.now()\n",
    "lista13 = [x for x in range(10,50,1)]\n",
    "print(\"lista13\", lista13)\n",
    "print(type(lista13))\n",
    "print(\"tiempo lista 13: \", (datetime.now() - time2).microseconds)\n",
    "\n",
    "#Esta seria un vector o array/arreglo\n",
    "time3= datetime.now()\n",
    "lista14 = np.arange(10,50,1)\n",
    "print (\"lista14\", lista14)\n",
    "print(\"tiempo lista 14: \", (datetime.now() - time3).microseconds)\n",
    "print(type(lista14))\n",
    "#print(dir(lista14))\n"
   ]
  },
  {
   "cell_type": "code",
   "execution_count": 20,
   "metadata": {
    "colab": {
     "base_uri": "https://localhost:8080/",
     "height": 51
    },
    "colab_type": "code",
    "executionInfo": {
     "elapsed": 465,
     "status": "ok",
     "timestamp": 1561158870556,
     "user": {
      "displayName": "Diego Arango",
      "photoUrl": "https://lh5.googleusercontent.com/-VgvXy-6vot0/AAAAAAAAAAI/AAAAAAAABGM/0Rs8yslDHzs/s64/photo.jpg",
      "userId": "03008810153317219365"
     },
     "user_tz": 300
    },
    "id": "TKc8tk0HOk0y",
    "outputId": "b030e7e3-527a-432e-809a-1352bdda3e68"
   },
   "outputs": [
    {
     "name": "stdout",
     "output_type": "stream",
     "text": [
      "{'4': 4, '10': 10, '2': 2, '13': 13, '1': 1, '14': 14, '12': 12, '16': 16, '19': 19, '7': 7, '17': 17, '18': 18, '15': 15, '0': 0, '8': 8, '6': 6, '3': 3, '9': 9, '5': 5, '11': 11}\n",
      "<class 'dict'>\n"
     ]
    }
   ],
   "source": [
    "# Comprehension para diccionario\n",
    "d = {str(i): i for i in range(20)}\n",
    "print(d)\n",
    "#print(dir(d))\n",
    "print(type(d))"
   ]
  },
  {
   "cell_type": "code",
   "execution_count": 21,
   "metadata": {
    "colab": {
     "base_uri": "https://localhost:8080/",
     "height": 51
    },
    "colab_type": "code",
    "executionInfo": {
     "elapsed": 549,
     "status": "ok",
     "timestamp": 1561158871470,
     "user": {
      "displayName": "Diego Arango",
      "photoUrl": "https://lh5.googleusercontent.com/-VgvXy-6vot0/AAAAAAAAAAI/AAAAAAAABGM/0Rs8yslDHzs/s64/photo.jpg",
      "userId": "03008810153317219365"
     },
     "user_tz": 300
    },
    "id": "TDi0JHikOk02",
    "outputId": "f5df7d70-ba43-4a2f-fae9-89f2050bbae4"
   },
   "outputs": [
    {
     "name": "stdout",
     "output_type": "stream",
     "text": [
      "[49, 48, 47, 46, 45, 44, 43, 42, 41, 40, 39, 38, 37, 36, 35, 34, 33, 32, 31, 30, 29, 28, 27, 26, 25, 24, 23, 22, 21, 20, 19, 18, 17, 16, 15, 14, 13, 12, 11, 10]\n"
     ]
    },
    {
     "data": {
      "text/plain": [
       "list"
      ]
     },
     "execution_count": 21,
     "metadata": {},
     "output_type": "execute_result"
    }
   ],
   "source": [
    "#6 dale vuelta al vector anterior (los ultimos seran los primeros) - punto #5\n",
    "lista15 = lista12[::-1]\n",
    "print(lista15)\n",
    "type(lista15)"
   ]
  },
  {
   "cell_type": "code",
   "execution_count": 22,
   "metadata": {
    "colab": {
     "base_uri": "https://localhost:8080/",
     "height": 85
    },
    "colab_type": "code",
    "executionInfo": {
     "elapsed": 321,
     "status": "ok",
     "timestamp": 1561158872306,
     "user": {
      "displayName": "Diego Arango",
      "photoUrl": "https://lh5.googleusercontent.com/-VgvXy-6vot0/AAAAAAAAAAI/AAAAAAAABGM/0Rs8yslDHzs/s64/photo.jpg",
      "userId": "03008810153317219365"
     },
     "user_tz": 300
    },
    "id": "JXVWjYGEOk08",
    "outputId": "551d262c-bca1-4fb1-df4e-5577dd73549e"
   },
   "outputs": [
    {
     "data": {
      "text/plain": [
       "array([[10, 11, 12, 13, 14, 15, 16, 17, 18, 19],\n",
       "       [20, 21, 22, 23, 24, 25, 26, 27, 28, 29],\n",
       "       [30, 31, 32, 33, 34, 35, 36, 37, 38, 39],\n",
       "       [40, 41, 42, 43, 44, 45, 46, 47, 48, 49]])"
      ]
     },
     "execution_count": 22,
     "metadata": {},
     "output_type": "execute_result"
    }
   ],
   "source": [
    "#7 convierte el array anterior a un de (4x10) asi:\n",
    "#array([[10, 11, 12, 13, 14, 15, 16, 17, 18, 19],\n",
    "#       [20, 21, 22, 23, 24, 25, 26, 27, 28, 29],\n",
    "#       [30, 31, 32, 33, 34, 35, 36, 37, 38, 39],\n",
    "#       [40, 41, 42, 43, 44, 45, 46, 47, 48, 49]])\n",
    "\n",
    "#print(\"Tipo Lista12: \", type(lista12))\n",
    "#print(\"Tipo Lista14: \", type(lista14))\n",
    "#print(dir(lista12))\n",
    "#print(dir(lista14))\n",
    "#lista16 = lista12.reshape(4, 10) Este me genera error: AttributeError: 'list' object has no attribute 'reshape'\n",
    "lista16 = lista14.reshape(4, 10)\n",
    "#lista16 = np.hsplit(lista15, 10)\n",
    "#print(lista16)\n",
    "lista16\n",
    "#lista16.shape\n",
    "#print(\"Tipo Lista16: \", type(lista16))\n"
   ]
  },
  {
   "cell_type": "code",
   "execution_count": 23,
   "metadata": {
    "colab": {
     "base_uri": "https://localhost:8080/",
     "height": 68
    },
    "colab_type": "code",
    "executionInfo": {
     "elapsed": 519,
     "status": "ok",
     "timestamp": 1561158878527,
     "user": {
      "displayName": "Diego Arango",
      "photoUrl": "https://lh5.googleusercontent.com/-VgvXy-6vot0/AAAAAAAAAAI/AAAAAAAABGM/0Rs8yslDHzs/s64/photo.jpg",
      "userId": "03008810153317219365"
     },
     "user_tz": 300
    },
    "id": "KhEwIW9WOk1B",
    "outputId": "bc904224-1f9a-42a9-fc09-133f56791602"
   },
   "outputs": [
    {
     "name": "stdout",
     "output_type": "stream",
     "text": [
      "Posicion con valor diferente a cero:  0\n",
      "Posicion con valor diferente a cero:  1\n",
      "Posicion con valor diferente a cero:  4\n"
     ]
    }
   ],
   "source": [
    "#8 encuentra los indices las posiciones diferentes de cero en el siguiente lista\n",
    "#[1,2,0,0,4,0]\n",
    "\n",
    "lista17 = [1, 2, 0, 0, 4, 0]\n",
    "longitud = len(lista17)\n",
    "longitud\n",
    "\n",
    "#print(lista17)\n",
    "#posicion = [x for x in lista17]\n",
    "\n",
    " #>>> [(x, y) for x in [1,2,3] for y in [3,1,4] if x != y]\n",
    "    #[(1, 3), (1, 4), (2, 3), (2, 1), (2, 4), (3, 1), (3, 4)]\n",
    "#print(\"val x:\", x)\n",
    "#print(posicion)\n",
    "\n",
    "#ceros = []\n",
    "contador_externo = 0\n",
    "#contador_interno = 0\n",
    "\n",
    "for contador_externo in range (0,longitud):\n",
    "  if lista17[contador_externo] != 0:\n",
    "    #print(\"Posicion con valor diferente a cero: \",[contador_externo])\n",
    "    print(\"Posicion con valor diferente a cero: \", contador_externo)\n",
    "  \n",
    "\n",
    "  \n",
    "#valCero = [if listfor contador_externo in range (0,longitud)]\n",
    "    \n",
    "    #cuadrados = [x ** 2 for x in range(10)]\n",
    "    \n",
    "    #>>> [(x, y) for x in [1,2,3] for y in [3,1,4] if x != y]\n",
    "    #[(1, 3), (1, 4), (2, 3), (2, 1), (2, 4), (3, 1), (3, 4)]\n",
    "  "
   ]
  },
  {
   "cell_type": "code",
   "execution_count": 24,
   "metadata": {
    "colab": {
     "base_uri": "https://localhost:8080/",
     "height": 102
    },
    "colab_type": "code",
    "executionInfo": {
     "elapsed": 469,
     "status": "ok",
     "timestamp": 1561158884392,
     "user": {
      "displayName": "Diego Arango",
      "photoUrl": "https://lh5.googleusercontent.com/-VgvXy-6vot0/AAAAAAAAAAI/AAAAAAAABGM/0Rs8yslDHzs/s64/photo.jpg",
      "userId": "03008810153317219365"
     },
     "user_tz": 300
    },
    "id": "NBcmcTneOk1F",
    "outputId": "0ff8cb16-2521-4991-d868-b42a91b8e723"
   },
   "outputs": [
    {
     "name": "stdout",
     "output_type": "stream",
     "text": [
      "10\n",
      "[5.08297205 0.86502016 6.08637346 9.79995482 8.95557837 3.48654338\n",
      " 3.60248693 7.06450724 2.48706235 1.04727718]\n",
      "9.79995481797417\n",
      "[5, 0, 6, 9, 8, 3, 3, 7, 2, 1]\n"
     ]
    }
   ],
   "source": [
    "#9 extraer parte entera del array Z = np.random.uniform(0,10,10) - Proponer 3 formas\n",
    "# diferentes de hacerlo\n",
    "Z = np.random.uniform(0,10,10)\n",
    "longitud = len(Z)\n",
    "print(longitud)\n",
    "print(Z)\n",
    "print(Z[3])\n",
    "\n",
    "#?np.random.uniform\n",
    "#uniform(low=0.0, high=1.0, size=None)\n",
    "#Draw samples from a uniform distribution.\n",
    "#Samples are uniformly distributed over the half-open interval\n",
    "#``[low, high)`` (includes low, but excludes high).  In other words,\n",
    "#any value within the given interval is equally likely to be drawn\n",
    "#by `uniform`.\n",
    "\n",
    "\n",
    "enteros = []\n",
    "for contador_rand in range (0, longitud):\n",
    "  enteros.append(int(Z[contador_rand]))\n",
    "print(enteros)\n",
    "\n",
    "\n",
    "#a = int(x) Parte entera con o sin signo\n",
    "#b = abs(x) - abs(int(x)) #Parte decimal"
   ]
  },
  {
   "cell_type": "code",
   "execution_count": 25,
   "metadata": {
    "colab": {
     "base_uri": "https://localhost:8080/",
     "height": 119
    },
    "colab_type": "code",
    "executionInfo": {
     "elapsed": 485,
     "status": "ok",
     "timestamp": 1561159369304,
     "user": {
      "displayName": "Diego Arango",
      "photoUrl": "https://lh5.googleusercontent.com/-VgvXy-6vot0/AAAAAAAAAAI/AAAAAAAABGM/0Rs8yslDHzs/s64/photo.jpg",
      "userId": "03008810153317219365"
     },
     "user_tz": 300
    },
    "id": "LwTRnEUBOk1L",
    "outputId": "beb3660a-6e5f-4e30-8ebe-16b0aded09a3"
   },
   "outputs": [
    {
     "name": "stdout",
     "output_type": "stream",
     "text": [
      "10\n",
      "[0.63368926 0.49675661 0.62962057 0.30269954 0.03772319 0.10365655\n",
      " 0.37257059 0.35846883 0.26657139 0.05324874]\n",
      "0.30269953683497564\n",
      "[0.03772319 0.05324874 0.10365655 0.26657139 0.30269954 0.35846883\n",
      " 0.37257059 0.49675661 0.62962057 0.63368926]\n"
     ]
    }
   ],
   "source": [
    "#10 ordenar el siguiente array aleatorio Z = np.random.random(10), sin usar un metodo especial para ello \n",
    "#y usandolo\n",
    "\n",
    "Z = np.random.random(10)\n",
    "longitud = len(Z)\n",
    "print(longitud)\n",
    "print(Z)\n",
    "print(Z[3])\n",
    "\n",
    "#?np.random.random()\n",
    "#random_sample(size=None)\n",
    "#Return random floats in the half-open interval [0.0, 1.0).\n",
    "#Results are from the \"continuous uniform\" distribution over the\n",
    "#stated interval.  To sample :math:`Unif[a, b), b > a` multiply\n",
    "#the output of `random_sample` by `(b-a)` and add `a`::\n",
    "#(b - a) * random_sample() + a\n",
    "\n",
    "#?np.sort()\n",
    "\n",
    "orden = np.sort(Z , axis = 0)\n",
    "print(orden)"
   ]
  },
  {
   "cell_type": "code",
   "execution_count": 26,
   "metadata": {
    "colab": {
     "base_uri": "https://localhost:8080/",
     "height": 884
    },
    "colab_type": "code",
    "executionInfo": {
     "elapsed": 478,
     "status": "ok",
     "timestamp": 1561162066673,
     "user": {
      "displayName": "Diego Arango",
      "photoUrl": "https://lh5.googleusercontent.com/-VgvXy-6vot0/AAAAAAAAAAI/AAAAAAAABGM/0Rs8yslDHzs/s64/photo.jpg",
      "userId": "03008810153317219365"
     },
     "user_tz": 300
    },
    "id": "3mFcDuY_XE01",
    "outputId": "79c55d28-92c9-43fe-e674-0efe1dba8c56"
   },
   "outputs": [
    {
     "name": "stdout",
     "output_type": "stream",
     "text": [
      "0.6605481971987628 0.26209584188751067\n",
      "[[0.01511872 0.87326124]\n",
      " [0.6605482  0.26209584]\n",
      " [0.72812367 0.30397135]\n",
      " [0.30333199 0.25160327]\n",
      " [0.36825053 0.37730382]\n",
      " [0.9434029  0.30301919]\n",
      " [0.63093426 0.8870003 ]\n",
      " [0.24566089 0.9781912 ]\n",
      " [0.04229889 0.45308164]\n",
      " [0.09432532 0.85614948]\n",
      " [0.05437972 0.60623766]\n",
      " [0.29088427 0.63790964]\n",
      " [0.55296505 0.34316435]\n",
      " [0.62644544 0.33296065]\n",
      " [0.82039636 0.51370808]\n",
      " [0.49334479 0.81672627]\n",
      " [0.52890516 0.79715432]\n",
      " [0.9320121  0.21093524]\n",
      " [0.7487499  0.13421703]\n",
      " [0.68156293 0.78983486]\n",
      " [0.76633174 0.16419954]\n",
      " [0.84885624 0.109159  ]\n",
      " [0.30130364 0.57887216]\n",
      " [0.76102956 0.69041716]\n",
      " [0.36320657 0.2786353 ]\n",
      " [0.97735164 0.95012086]\n",
      " [0.18102529 0.58718276]\n",
      " [0.77502259 0.52378658]\n",
      " [0.46026113 0.35541261]\n",
      " [0.23932135 0.59251828]\n",
      " [0.06015389 0.37669892]\n",
      " [0.5069992  0.08360901]\n",
      " [0.89222369 0.91394825]\n",
      " [0.97998667 0.91617821]\n",
      " [0.8507872  0.43174344]\n",
      " [0.12545291 0.11652876]\n",
      " [0.15914634 0.78829956]\n",
      " [0.66079737 0.38397532]\n",
      " [0.90288579 0.16114439]\n",
      " [0.09161343 0.55597766]\n",
      " [0.49187345 0.96174985]\n",
      " [0.63191278 0.73785398]\n",
      " [0.35911461 0.38620776]\n",
      " [0.368933   0.04604582]\n",
      " [0.02933595 0.80700428]\n",
      " [0.49479913 0.22720413]\n",
      " [0.54327311 0.88730034]\n",
      " [0.61370847 0.78926669]\n",
      " [0.27172801 0.82443177]\n",
      " [0.56181786 0.77911621]]\n"
     ]
    }
   ],
   "source": [
    "#?np.random.random()\n",
    "Z = np.random.random((50,2))\n",
    "print((Z[1][0]), Z[1][1])\n",
    "print(Z)\n",
    "\n",
    "#print(Z)\n",
    "#print(type(Z))"
   ]
  },
  {
   "cell_type": "code",
   "execution_count": null,
   "metadata": {
    "colab": {
     "base_uri": "https://localhost:8080/",
     "height": 170
    },
    "colab_type": "code",
    "executionInfo": {
     "elapsed": 472,
     "status": "ok",
     "timestamp": 1561161503592,
     "user": {
      "displayName": "Diego Arango",
      "photoUrl": "https://lh5.googleusercontent.com/-VgvXy-6vot0/AAAAAAAAAAI/AAAAAAAABGM/0Rs8yslDHzs/s64/photo.jpg",
      "userId": "03008810153317219365"
     },
     "user_tz": 300
    },
    "id": "GHjYdofldePs",
    "outputId": "c97d1e55-5b16-48b9-a678-7ba7804cf85f"
   },
   "outputs": [],
   "source": [
    "c = np.array([[(1.5,2,3), (4,5,6)], [(3,2,1), (4,5,6)]], dtype = float)\n",
    "print(c)\n",
    "print()\n",
    "\n",
    "np.vsplit(c, 2)"
   ]
  },
  {
   "cell_type": "code",
   "execution_count": 38,
   "metadata": {
    "colab": {
     "base_uri": "https://localhost:8080/",
     "height": 4284
    },
    "colab_type": "code",
    "executionInfo": {
     "elapsed": 495,
     "status": "ok",
     "timestamp": 1561165525709,
     "user": {
      "displayName": "Diego Arango",
      "photoUrl": "https://lh5.googleusercontent.com/-VgvXy-6vot0/AAAAAAAAAAI/AAAAAAAABGM/0Rs8yslDHzs/s64/photo.jpg",
      "userId": "03008810153317219365"
     },
     "user_tz": 300
    },
    "id": "nqzt65plOk1O",
    "outputId": "19a898eb-262e-4eda-8d99-16ba5696ffff"
   },
   "outputs": [
    {
     "name": "stdout",
     "output_type": "stream",
     "text": [
      "x: 0.875512 y: 0.487328\n",
      "R: 1.002002 T: 0.507912\n",
      "x: 0.578966 y: 0.295358\n",
      "R: 0.649952 T: 0.471732\n",
      "x: 0.813839 y: 0.156916\n",
      "R: 0.828829 T: 0.190472\n",
      "x: 0.508185 y: 0.485351\n",
      "R: 0.702722 T: 0.762420\n",
      "x: 0.399568 y: 0.324202\n",
      "R: 0.514550 T: 0.681642\n",
      "x: 0.080543 y: 0.103698\n",
      "R: 0.131303 T: 0.910420\n",
      "x: 0.387546 y: 0.484007\n",
      "R: 0.620044 T: 0.895627\n",
      "x: 0.821817 y: 0.712565\n",
      "R: 1.087719 T: 0.714315\n",
      "x: 0.589944 y: 0.790053\n",
      "R: 0.986011 T: 0.929401\n",
      "x: 0.694480 y: 0.520536\n",
      "R: 0.867906 T: 0.643202\n",
      "x: 0.658846 y: 0.449539\n",
      "R: 0.797599 T: 0.598757\n",
      "x: 0.698503 y: 0.578296\n",
      "R: 0.906825 T: 0.691528\n",
      "x: 0.177365 y: 0.774439\n",
      "R: 0.794490 T: 1.345655\n",
      "x: 0.511151 y: 0.385802\n",
      "R: 0.640405 T: 0.646548\n",
      "x: 0.289751 y: 0.739875\n",
      "R: 0.794588 T: 1.197533\n",
      "x: 0.603968 y: 0.135669\n",
      "R: 0.619018 T: 0.220961\n",
      "x: 0.848413 y: 0.466178\n",
      "R: 0.968053 T: 0.502437\n",
      "x: 0.647423 y: 0.655361\n",
      "R: 0.921224 T: 0.791491\n",
      "x: 0.712695 y: 0.889247\n",
      "R: 1.139603 T: 0.895167\n",
      "x: 0.257870 y: 0.698598\n",
      "R: 0.744672 T: 1.217186\n",
      "x: 0.393034 y: 0.354138\n",
      "R: 0.529046 T: 0.733387\n",
      "x: 0.933559 y: 0.872541\n",
      "R: 1.277834 T: 0.751627\n",
      "x: 0.012981 y: 0.052803\n",
      "R: 0.054375 T: 1.329734\n",
      "x: 0.906190 y: 0.476396\n",
      "R: 1.023784 T: 0.484006\n",
      "x: 0.424694 y: 0.573545\n",
      "R: 0.713666 T: 0.933422\n",
      "x: 0.440661 y: 0.278436\n",
      "R: 0.521257 T: 0.563517\n",
      "x: 0.410044 y: 0.009546\n",
      "R: 0.410155 T: 0.023276\n",
      "x: 0.193767 y: 0.104340\n",
      "R: 0.220074 T: 0.493957\n",
      "x: 0.772792 y: 0.559389\n",
      "R: 0.954003 T: 0.626557\n",
      "x: 0.209675 y: 0.482859\n",
      "R: 0.526419 T: 1.161129\n",
      "x: 0.286606 y: 0.822482\n",
      "R: 0.870988 T: 1.235490\n",
      "x: 0.720777 y: 0.348546\n",
      "R: 0.800627 T: 0.450417\n",
      "x: 0.370805 y: 0.700611\n",
      "R: 0.792687 T: 1.084016\n",
      "x: 0.005658 y: 0.247224\n",
      "R: 0.247289 T: 1.547913\n",
      "x: 0.869638 y: 0.732934\n",
      "R: 1.137305 T: 0.700301\n",
      "x: 0.125734 y: 0.688884\n",
      "R: 0.700264 T: 1.390266\n",
      "x: 0.933479 y: 0.782858\n",
      "R: 1.218298 T: 0.697865\n",
      "x: 0.328485 y: 0.190120\n",
      "R: 0.379537 T: 0.524669\n",
      "x: 0.707439 y: 0.268884\n",
      "R: 0.756815 T: 0.363217\n",
      "x: 0.607565 y: 0.067952\n",
      "R: 0.611353 T: 0.111380\n",
      "x: 0.297328 y: 0.703670\n",
      "R: 0.763908 T: 1.171012\n",
      "x: 0.627331 y: 0.276859\n",
      "R: 0.685707 T: 0.415619\n",
      "x: 0.314895 y: 0.748280\n",
      "R: 0.811838 T: 1.172467\n",
      "x: 0.870773 y: 0.802402\n",
      "R: 1.184101 T: 0.744558\n",
      "x: 0.252470 y: 0.419454\n",
      "R: 0.489574 T: 1.028980\n",
      "x: 0.562401 y: 0.436414\n",
      "R: 0.711865 T: 0.659924\n",
      "x: 0.232214 y: 0.755132\n",
      "R: 0.790030 T: 1.272460\n",
      "x: 0.537243 y: 0.847909\n",
      "R: 1.003783 T: 1.006030\n",
      "x: 0.585582 y: 0.842667\n",
      "R: 1.026155 T: 0.963491\n",
      "x: 0.129056 y: 0.289557\n",
      "R: 0.317015 T: 1.151524\n"
     ]
    },
    {
     "data": {
      "text/plain": [
       "'\\nR = np.sqrt(X**2+Y**2)\\nT = np.arctan2(Y,X)\\nprint(R)\\nprint(T)\\n'"
      ]
     },
     "execution_count": 38,
     "metadata": {},
     "output_type": "execute_result"
    }
   ],
   "source": [
    "#11 crear un array de 50x2, cada fila representa una coordenada en el plano cartesiano (coordenadas rectangulares), \n",
    "# convertirlas a cordenadas polares https://es.wikipedia.org/wiki/Coordenadas_polares\n",
    "\n",
    "filas = 50\n",
    "columnas = 2\n",
    "\n",
    "coord_rect = np.random.random((filas, columnas))\n",
    "#print(coord_rect)\n",
    "\n",
    "for ciclo_filas in range (0, filas):\n",
    "    x = coord_rect[ciclo_filas][0]\n",
    "    y = coord_rect[ciclo_filas][1]\n",
    "    print(\"x: %f y: %f\" %(x,y))\n",
    "    r = np.sqrt(x**2 + y**2)\n",
    "    t = np.arctan2(y,x)\n",
    "    print(\"R: %f T: %f\" %(r, t))\n"
   ]
  },
  {
   "cell_type": "code",
   "execution_count": 41,
   "metadata": {
    "colab": {},
    "colab_type": "code",
    "id": "dUdOjXJ7Ok1R"
   },
   "outputs": [
    {
     "name": "stdout",
     "output_type": "stream",
     "text": [
      "10\n",
      "[0.94257243 6.85037754 0.88424185 1.14112349 6.84943551 5.16162408\n",
      " 7.56100271 2.25358017 0.73213808 0.65741999]\n",
      "7.561002707299727\n"
     ]
    },
    {
     "data": {
      "text/plain": [
       "'\\n#Esta seria un vector o array/arreglo\\ntime3= datetime.now()\\nlista14 = np.arange(10,50,1)\\nprint (\"lista14\", lista14)\\nprint(\"tiempo lista 14: \", (datetime.now() - time3).microseconds)\\nprint(type(lista14))\\n#print(dir(lista14))\\n'"
      ]
     },
     "execution_count": 41,
     "metadata": {},
     "output_type": "execute_result"
    }
   ],
   "source": [
    "#12 Crea un vector aleatorio y reemplaza el maximo valor por 0\n",
    "\n",
    "vectAleat = np.random.uniform(0,10,10)\n",
    "longitud = len(vectAleat)\n",
    "print(longitud)\n",
    "print(vectAleat)\n",
    "maxValor = vectAleat.max()\n",
    "print(\"Maximo Valor: \", maxValor)\n",
    " \n",
    "print (\"ACA VOY\")    \n",
    "reemplazo = np.where(vectAleat[] = maxValor, vectAleat[] = )\n",
    "\n",
    "then \n",
    "replace()\n",
    "\n",
    "\"\"\"\n",
    "#Esta seria un vector o array/arreglo\n",
    "time3= datetime.now()\n",
    "lista14 = np.arange(10,50,1)\n",
    "print (\"lista14\", lista14)\n",
    "print(\"tiempo lista 14: \", (datetime.now() - time3).microseconds)\n",
    "print(type(lista14))\n",
    "#print(dir(lista14))\n",
    "\"\"\""
   ]
  },
  {
   "cell_type": "code",
   "execution_count": null,
   "metadata": {
    "colab": {},
    "colab_type": "code",
    "hideOutput": true,
    "id": "aqZ1z8PlOk1V"
   },
   "outputs": [],
   "source": [
    "#13 Crear dos arrays de dimension 10 cada uno y construir la matriz de Cauchy \n",
    "#a partir de ellos https://en.wikipedia.org/wiki/Cauchy_matrix\n",
    "#usar el metodo subtract.outer"
   ]
  },
  {
   "cell_type": "code",
   "execution_count": null,
   "metadata": {
    "colab": {},
    "colab_type": "code",
    "id": "ykY9YbNAOk1a"
   },
   "outputs": [],
   "source": [
    "#14 dado un numero entero, encontrar el valor mas cercano al entero en un array"
   ]
  },
  {
   "cell_type": "code",
   "execution_count": null,
   "metadata": {
    "colab": {},
    "colab_type": "code",
    "id": "UYUmb2oIOk1d"
   },
   "outputs": [],
   "source": [
    "#15 crea un vector de numero aleatorios de 50x2, cada fila representa una coordenada.\n",
    "# calcular la distancia Euclidiana entre los puntos"
   ]
  },
  {
   "cell_type": "code",
   "execution_count": null,
   "metadata": {
    "colab": {},
    "colab_type": "code",
    "id": "3_cynf5mOk1i"
   },
   "outputs": [],
   "source": []
  },
  {
   "cell_type": "markdown",
   "metadata": {
    "colab_type": "text",
    "id": "KUkIdT2MOk1l"
   },
   "source": [
    "### Pandas"
   ]
  },
  {
   "cell_type": "code",
   "execution_count": null,
   "metadata": {
    "colab": {},
    "colab_type": "code",
    "id": "LFn_Ux1bOk1m"
   },
   "outputs": [],
   "source": [
    "#1 importar pandas"
   ]
  },
  {
   "cell_type": "code",
   "execution_count": null,
   "metadata": {
    "colab": {},
    "colab_type": "code",
    "id": "vc0hTq1MOk1q"
   },
   "outputs": [],
   "source": [
    "#2 importar csv (airquality.csv)"
   ]
  },
  {
   "cell_type": "code",
   "execution_count": null,
   "metadata": {
    "colab": {},
    "colab_type": "code",
    "id": "CgZhj-tgOk1u"
   },
   "outputs": [],
   "source": [
    "#3 importar xlsx (Iris.xls) hay informacion en todas las hojas, al final la info debe\n",
    "# quedar en una sola DataFrame. Explorar concat"
   ]
  },
  {
   "cell_type": "code",
   "execution_count": null,
   "metadata": {
    "colab": {},
    "colab_type": "code",
    "id": "qAYLbXyCOk1x"
   },
   "outputs": [],
   "source": [
    "#4 con la df del punto 2, asignar la columna 'Wind' a una serie y a un dataframe, \n",
    "# validar el tipo de dato con el metodo type"
   ]
  },
  {
   "cell_type": "code",
   "execution_count": null,
   "metadata": {
    "colab": {},
    "colab_type": "code",
    "id": "U1FBkn9AOk12"
   },
   "outputs": [],
   "source": [
    "#5 En la df del punto 2, filtrar los datos con que en Solar.R sean menores a 100 y en\n",
    "# el campo Temp sean mayores 10"
   ]
  },
  {
   "cell_type": "code",
   "execution_count": null,
   "metadata": {
    "colab": {},
    "colab_type": "code",
    "id": "GHtmLlGGOk18"
   },
   "outputs": [],
   "source": [
    "#6 En la df del punto 2, filtrar los datos con que en Solar.R sean menores a 100 o en\n",
    "# el campo Temp sean mayores 10"
   ]
  },
  {
   "cell_type": "code",
   "execution_count": null,
   "metadata": {
    "colab": {},
    "colab_type": "code",
    "id": "QppP_YBGOk2A"
   },
   "outputs": [],
   "source": [
    "#7 En la df del punto 2, imputar los datos usando la media"
   ]
  },
  {
   "cell_type": "code",
   "execution_count": null,
   "metadata": {
    "colab": {},
    "colab_type": "code",
    "id": "tIdQhKqJOk2E"
   },
   "outputs": [],
   "source": [
    "#8 En la df del punto 3 usar los siguientes metodos y atributos: shape, columns, head,\n",
    "#tail, info. Dar una definicion de cada uno de ellos y decir cuales son metodos y cuales\n",
    "#atributos"
   ]
  },
  {
   "cell_type": "code",
   "execution_count": null,
   "metadata": {
    "colab": {},
    "colab_type": "code",
    "id": "TMpZu6n2Ok2H"
   },
   "outputs": [],
   "source": [
    "#9 En la df del punto 3, normalizar sin usar un metodo especifico para ello"
   ]
  },
  {
   "cell_type": "code",
   "execution_count": null,
   "metadata": {
    "colab": {},
    "colab_type": "code",
    "id": "iGUks09rOk2M"
   },
   "outputs": [],
   "source": [
    "#10 En la df del punto 3, estandarizar sin usar un metodo especifico para ello"
   ]
  },
  {
   "cell_type": "code",
   "execution_count": null,
   "metadata": {
    "colab": {},
    "colab_type": "code",
    "id": "MIXfD7f8Ok2U"
   },
   "outputs": [],
   "source": [
    "#11 calcular un nuevo descriptor con las variables originales en la df del punto 3"
   ]
  },
  {
   "cell_type": "code",
   "execution_count": null,
   "metadata": {
    "colab": {},
    "colab_type": "code",
    "id": "slHMNvUGOk2X"
   },
   "outputs": [],
   "source": [
    "#12 en la df del punto 3 usar el metodo apply y convertir la columna de las clases a\n",
    "#strings con mayusculas"
   ]
  },
  {
   "cell_type": "code",
   "execution_count": null,
   "metadata": {
    "colab": {},
    "colab_type": "code",
    "id": "5Pr6i5tqOk2b"
   },
   "outputs": [],
   "source": [
    "#13 exportar la df del punto 3 a Excel"
   ]
  },
  {
   "cell_type": "markdown",
   "metadata": {
    "colab_type": "text",
    "id": "JYIimWT0Ok2d"
   },
   "source": [
    "### Condicionales y ciclos"
   ]
  },
  {
   "cell_type": "code",
   "execution_count": null,
   "metadata": {
    "colab": {},
    "colab_type": "code",
    "id": "ElSwtcK8Ok2e"
   },
   "outputs": [],
   "source": [
    "#1 imprimir los numeros impares del 1 al 1000"
   ]
  },
  {
   "cell_type": "code",
   "execution_count": null,
   "metadata": {
    "colab": {},
    "colab_type": "code",
    "id": "h2U3w9H2Ok2h"
   },
   "outputs": [],
   "source": [
    "#2 imprimir los numeros pares del 1 al 1000"
   ]
  },
  {
   "cell_type": "code",
   "execution_count": null,
   "metadata": {
    "colab": {},
    "colab_type": "code",
    "id": "Y7OGdc8JOk2j"
   },
   "outputs": [],
   "source": [
    "#3 imprimir los numero pares, impares y divisibles por 3, del 1 al 1000, indicando a que \n",
    "#categoria pertenencen.\n",
    "#3.1 contar cuantos hay de cada uno"
   ]
  },
  {
   "cell_type": "code",
   "execution_count": null,
   "metadata": {
    "colab": {},
    "colab_type": "code",
    "id": "9jQlKscNOk2p"
   },
   "outputs": [],
   "source": [
    "#4 imprimir los numeros divisibles por 7 del 1 al 1000"
   ]
  },
  {
   "cell_type": "code",
   "execution_count": null,
   "metadata": {
    "colab": {},
    "colab_type": "code",
    "hideOutput": true,
    "id": "j-AEfoWCOk2t"
   },
   "outputs": [],
   "source": [
    "#5 usando ciclos for crear la siguiente figura"
   ]
  },
  {
   "cell_type": "code",
   "execution_count": null,
   "metadata": {
    "colab": {},
    "colab_type": "code",
    "id": "a8U34TLcOk2w"
   },
   "outputs": [],
   "source": [
    "#6 imprimir los numeros divisibles por 7 y por 3 entre 5000 y 15000"
   ]
  },
  {
   "cell_type": "code",
   "execution_count": null,
   "metadata": {
    "colab": {},
    "colab_type": "code",
    "id": "IjhE5poMOk2z"
   },
   "outputs": [],
   "source": [
    "#7 Encontrar las palabras palindromas en el siguiente listado\n",
    "#https://github.com/javierarce/palabras/blob/master/listado-general.txt\n",
    "#https://es.wikipedia.org/wiki/Pal%C3%ADndromo"
   ]
  },
  {
   "cell_type": "code",
   "execution_count": null,
   "metadata": {
    "colab": {},
    "colab_type": "code",
    "id": "DqAPMUvZOk21"
   },
   "outputs": [],
   "source": [
    "#8 imprimir los primero 1000 numeros de la serie Fibonacci\n",
    "#https://es.wikipedia.org/wiki/Sucesi%C3%B3n_de_Fibonacci"
   ]
  },
  {
   "cell_type": "code",
   "execution_count": null,
   "metadata": {
    "colab": {},
    "colab_type": "code",
    "id": "F8GjKNLZOk23"
   },
   "outputs": [],
   "source": [
    "#9 usar un ciclo for para construir la siguiente figura\n",
    "#for i in range(10):\n",
    "#    print(str(i) * i)\n",
    "    \n",
    "1\n",
    "22\n",
    "333\n",
    "4444\n",
    "55555\n",
    "666666\n",
    "7777777\n",
    "88888888\n",
    "999999999"
   ]
  },
  {
   "cell_type": "code",
   "execution_count": null,
   "metadata": {
    "colab": {},
    "colab_type": "code",
    "id": "UNeFd_LYOk25"
   },
   "outputs": [],
   "source": [
    "#10 n! (n factorial) significa n × (n − 1) × ... × 3 × 2 × 1\n",
    "# factoria de 5 (5!) es 120, la suma de sus digitos es 1+2+0=3\n",
    "# Calcular la suma de los digitos de 100!"
   ]
  },
  {
   "cell_type": "code",
   "execution_count": null,
   "metadata": {
    "colab": {},
    "colab_type": "code",
    "id": "OiIZcAfoOk29"
   },
   "outputs": [],
   "source": [
    "#11 la serie 1**1 + 2**2 + 3**3 + ... + 10**10 es 10405071317\n",
    "\n",
    "# Encuentra el valor de esta 1**1 + 2**2 + 3**3 + ... + 1000**1000."
   ]
  },
  {
   "cell_type": "code",
   "execution_count": null,
   "metadata": {
    "colab": {},
    "colab_type": "code",
    "id": "yjIihw9pOk3A"
   },
   "outputs": [],
   "source": [
    "#12 2520 es el numero más pequeño que puede ser dividido por todos los numeros del 1 al 10\n",
    "# cual es el numero más pequeño que puede ser dividido por todos los numeros del 1 al 20."
   ]
  },
  {
   "cell_type": "markdown",
   "metadata": {
    "colab_type": "text",
    "id": "2k9gCTm2Ok3C"
   },
   "source": [
    "### Productos matriciales"
   ]
  },
  {
   "cell_type": "code",
   "execution_count": null,
   "metadata": {
    "colab": {},
    "colab_type": "code",
    "id": "wpOYKXtTOk3C"
   },
   "outputs": [],
   "source": [
    "#producto punto\n",
    "#implementar una función que dadas dos matrices calcule el \n",
    "\n",
    "#https://es.wikipedia.org/wiki/Producto_escalar\n",
    "#Premio para el que implemente la solución más rápida"
   ]
  },
  {
   "cell_type": "code",
   "execution_count": null,
   "metadata": {
    "colab": {},
    "colab_type": "code",
    "id": "5JJveRz9Ok3G"
   },
   "outputs": [],
   "source": [
    "#Producto cruz\n",
    "#Implementar un función que dadas dos matrices de 3X3 calcule el producto cruz\n",
    "\n",
    "#https://es.wikipedia.org/wiki/Producto_vectorial\n",
    "#https://docs.scipy.org/doc/numpy/reference/generated/numpy.linalg.det.html"
   ]
  }
 ],
 "metadata": {
  "colab": {
   "collapsed_sections": [
    "KUkIdT2MOk1l",
    "JYIimWT0Ok2d",
    "2k9gCTm2Ok3C"
   ],
   "name": "Taller_Python_Estudiantes.ipynb",
   "provenance": [],
   "version": "0.3.2"
  },
  "kernelspec": {
   "display_name": "Python 3",
   "language": "python",
   "name": "python3"
  },
  "language_info": {
   "codemirror_mode": {
    "name": "ipython",
    "version": 3
   },
   "file_extension": ".py",
   "mimetype": "text/x-python",
   "name": "python",
   "nbconvert_exporter": "python",
   "pygments_lexer": "ipython3",
   "version": "3.4.3"
  }
 },
 "nbformat": 4,
 "nbformat_minor": 1
}
