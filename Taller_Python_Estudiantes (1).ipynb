{
 "cells": [
  {
   "cell_type": "markdown",
   "metadata": {},
   "source": [
    "## Temario taller Python para Machine Learning\n",
    "\n",
    "* Manipulacion de listas, Lista de listas<br>\n",
    "* type, max, round, help, len, index<br>\n",
    "* numpy arrays: mean, median, corrcoef, std, sum, sort, logical_(and, or, not), vectores, matrices<br>\n",
    "* pandas DataFrame: shape, columns, head, tail, info, pd.read_XXX, read con NaN, dict to DataFrame, exportar desde pandas, iloc vs loc, apply<br>\n",
    "* Condicionales: if, else, elif<br>\n",
    "* Ciclos<br>\n",
    "* Funciones, lambda, map<br>\n",
    "* List comprehension<br>\n",
    "* Algebra lineal operaciones matriciales: suma, resta, producto punto, producto cruz, matriz identidad, matriz transpuesta.<br>\n"
   ]
  },
  {
   "cell_type": "markdown",
   "metadata": {},
   "source": [
    "### Usando listas"
   ]
  },
  {
   "cell_type": "code",
   "execution_count": 1,
   "metadata": {},
   "outputs": [],
   "source": [
    "#1 importar numpy y pandas\n",
    "import pandas as pd\n",
    "import numpy as np"
   ]
  },
  {
   "cell_type": "code",
   "execution_count": 2,
   "metadata": {},
   "outputs": [],
   "source": [
    "#2 asignar la lista a una variable [1,5,7,0,0,2,5,0,8,3]\n",
    "\n",
    "milista = [1,5,7,0,0,2,5,0,8,3]"
   ]
  },
  {
   "cell_type": "code",
   "execution_count": 3,
   "metadata": {},
   "outputs": [
    {
     "name": "stdout",
     "output_type": "stream",
     "text": [
      "[0, 2, 5, 0]\n"
     ]
    }
   ],
   "source": [
    "#3 En la lista del punto 2 imprimir los valores entre el indice 4 al 7\n",
    "print (milista[4:8])"
   ]
  },
  {
   "cell_type": "code",
   "execution_count": 4,
   "metadata": {},
   "outputs": [
    {
     "name": "stdout",
     "output_type": "stream",
     "text": [
      "[0, 2, 5, 0, 8, 3]\n"
     ]
    }
   ],
   "source": [
    "#4 En la lista del punto 2 imprimir los valores desde el indice 4 hasta el final\n",
    "print (milista[4:])"
   ]
  },
  {
   "cell_type": "code",
   "execution_count": 5,
   "metadata": {},
   "outputs": [
    {
     "name": "stdout",
     "output_type": "stream",
     "text": [
      "[3, 8, 0, 5, 2, 0, 0, 7, 5, 1]\n",
      "0:00:00.000440\n"
     ]
    }
   ],
   "source": [
    "#5 Asignar los valores de la lista del punto 2 a una nueva variable en orden inverso \n",
    "# al presentado [3,8,0,5,2,0,0,7,5,1]\n",
    "\n",
    "from datetime import datetime\n",
    "startTime = datetime.now()\n",
    "\n",
    "milista2 = milista[: : -1]\n",
    "print(milista2)\n",
    "\n",
    "print(datetime.now() - startTime)"
   ]
  },
  {
   "cell_type": "code",
   "execution_count": 6,
   "metadata": {},
   "outputs": [
    {
     "name": "stdout",
     "output_type": "stream",
     "text": [
      "longitud de lista:  10\n",
      "valor inicial:  1\n",
      "Nueva posicion Inicial: 0 Nueva posicion actual: 1\n",
      "valor actual:  5\n",
      "valor1_inicial:  1\n",
      "valor2_actual:  5\n",
      "Nueva posicion Inicial: 0 Nueva posicion actual: 2\n",
      "valor actual:  7\n",
      "valor1_inicial:  5\n",
      "valor2_actual:  7\n",
      "Nueva posicion Inicial: 0 Nueva posicion actual: 3\n",
      "valor actual:  0\n",
      "Es Mayor\n",
      "Nueva posicion Inicial: 0 Nueva posicion actual: 3\n",
      "Nueva posicion Inicial: 0 Nueva posicion actual: 4\n",
      "valor actual:  0\n",
      "Es Mayor\n",
      "Nueva posicion Inicial: 0 Nueva posicion actual: 4\n",
      "Nueva posicion Inicial: 0 Nueva posicion actual: 5\n",
      "valor actual:  2\n",
      "Es Mayor\n",
      "Nueva posicion Inicial: 0 Nueva posicion actual: 5\n",
      "Nueva posicion Inicial: 0 Nueva posicion actual: 6\n",
      "valor actual:  5\n",
      "Es Mayor\n",
      "Nueva posicion Inicial: 0 Nueva posicion actual: 6\n",
      "Nueva posicion Inicial: 0 Nueva posicion actual: 7\n",
      "valor actual:  0\n",
      "Es Mayor\n",
      "Nueva posicion Inicial: 0 Nueva posicion actual: 7\n",
      "Nueva posicion Inicial: 0 Nueva posicion actual: 8\n",
      "valor actual:  8\n",
      "valor1_inicial:  7\n",
      "valor2_actual:  8\n",
      "Nueva posicion Inicial: 0 Nueva posicion actual: 9\n",
      "valor actual:  3\n",
      "Es Mayor\n",
      "Nueva posicion Inicial: 0 Nueva posicion actual: 9\n",
      "[8, 1, 5, 0, 0, 2, 5, 0, 7, 3]\n",
      "valor inicial:  1\n",
      "Nueva posicion Inicial: 1 Nueva posicion actual: 2\n",
      "valor actual:  5\n",
      "valor1_inicial:  1\n",
      "valor2_actual:  5\n",
      "Nueva posicion Inicial: 1 Nueva posicion actual: 3\n",
      "valor actual:  0\n",
      "Es Mayor\n",
      "Nueva posicion Inicial: 1 Nueva posicion actual: 3\n",
      "Nueva posicion Inicial: 1 Nueva posicion actual: 4\n",
      "valor actual:  0\n",
      "Es Mayor\n",
      "Nueva posicion Inicial: 1 Nueva posicion actual: 4\n",
      "Nueva posicion Inicial: 1 Nueva posicion actual: 5\n",
      "valor actual:  2\n",
      "Es Mayor\n",
      "Nueva posicion Inicial: 1 Nueva posicion actual: 5\n",
      "Nueva posicion Inicial: 1 Nueva posicion actual: 6\n",
      "valor actual:  5\n",
      "Es Mayor\n",
      "Nueva posicion Inicial: 1 Nueva posicion actual: 6\n",
      "Nueva posicion Inicial: 1 Nueva posicion actual: 7\n",
      "valor actual:  0\n",
      "Es Mayor\n",
      "Nueva posicion Inicial: 1 Nueva posicion actual: 7\n",
      "Nueva posicion Inicial: 1 Nueva posicion actual: 8\n",
      "valor actual:  7\n",
      "valor1_inicial:  5\n",
      "valor2_actual:  7\n",
      "Nueva posicion Inicial: 1 Nueva posicion actual: 9\n",
      "valor actual:  3\n",
      "Es Mayor\n",
      "Nueva posicion Inicial: 1 Nueva posicion actual: 9\n",
      "[8, 7, 1, 0, 0, 2, 5, 0, 5, 3]\n",
      "valor inicial:  1\n",
      "Nueva posicion Inicial: 2 Nueva posicion actual: 3\n",
      "valor actual:  0\n",
      "Es Mayor\n",
      "Nueva posicion Inicial: 2 Nueva posicion actual: 3\n",
      "Nueva posicion Inicial: 2 Nueva posicion actual: 4\n",
      "valor actual:  0\n",
      "Es Mayor\n",
      "Nueva posicion Inicial: 2 Nueva posicion actual: 4\n",
      "Nueva posicion Inicial: 2 Nueva posicion actual: 5\n",
      "valor actual:  2\n",
      "valor1_inicial:  1\n",
      "valor2_actual:  2\n",
      "Nueva posicion Inicial: 2 Nueva posicion actual: 6\n",
      "valor actual:  5\n",
      "valor1_inicial:  2\n",
      "valor2_actual:  5\n",
      "Nueva posicion Inicial: 2 Nueva posicion actual: 7\n",
      "valor actual:  0\n",
      "Es Mayor\n",
      "Nueva posicion Inicial: 2 Nueva posicion actual: 7\n",
      "Nueva posicion Inicial: 2 Nueva posicion actual: 8\n",
      "valor actual:  5\n",
      "Es Mayor\n",
      "Nueva posicion Inicial: 2 Nueva posicion actual: 8\n",
      "Nueva posicion Inicial: 2 Nueva posicion actual: 9\n",
      "valor actual:  3\n",
      "Es Mayor\n",
      "Nueva posicion Inicial: 2 Nueva posicion actual: 9\n",
      "[8, 7, 5, 0, 0, 1, 2, 0, 5, 3]\n",
      "valor inicial:  0\n",
      "Nueva posicion Inicial: 3 Nueva posicion actual: 4\n",
      "valor actual:  0\n",
      "Es Mayor\n",
      "Nueva posicion Inicial: 3 Nueva posicion actual: 4\n",
      "Nueva posicion Inicial: 3 Nueva posicion actual: 5\n",
      "valor actual:  1\n",
      "valor1_inicial:  0\n",
      "valor2_actual:  1\n",
      "Nueva posicion Inicial: 3 Nueva posicion actual: 6\n",
      "valor actual:  2\n",
      "valor1_inicial:  1\n",
      "valor2_actual:  2\n",
      "Nueva posicion Inicial: 3 Nueva posicion actual: 7\n",
      "valor actual:  0\n",
      "Es Mayor\n",
      "Nueva posicion Inicial: 3 Nueva posicion actual: 7\n",
      "Nueva posicion Inicial: 3 Nueva posicion actual: 8\n",
      "valor actual:  5\n",
      "valor1_inicial:  2\n",
      "valor2_actual:  5\n",
      "Nueva posicion Inicial: 3 Nueva posicion actual: 9\n",
      "valor actual:  3\n",
      "Es Mayor\n",
      "Nueva posicion Inicial: 3 Nueva posicion actual: 9\n",
      "[8, 7, 5, 5, 0, 0, 1, 0, 2, 3]\n",
      "valor inicial:  0\n",
      "Nueva posicion Inicial: 4 Nueva posicion actual: 5\n",
      "valor actual:  0\n",
      "Es Mayor\n",
      "Nueva posicion Inicial: 4 Nueva posicion actual: 5\n",
      "Nueva posicion Inicial: 4 Nueva posicion actual: 6\n",
      "valor actual:  1\n",
      "valor1_inicial:  0\n",
      "valor2_actual:  1\n",
      "Nueva posicion Inicial: 4 Nueva posicion actual: 7\n",
      "valor actual:  0\n",
      "Es Mayor\n",
      "Nueva posicion Inicial: 4 Nueva posicion actual: 7\n",
      "Nueva posicion Inicial: 4 Nueva posicion actual: 8\n",
      "valor actual:  2\n",
      "valor1_inicial:  1\n",
      "valor2_actual:  2\n",
      "Nueva posicion Inicial: 4 Nueva posicion actual: 9\n",
      "valor actual:  3\n",
      "valor1_inicial:  2\n",
      "valor2_actual:  3\n",
      "[8, 7, 5, 5, 3, 0, 0, 0, 1, 2]\n",
      "valor inicial:  0\n",
      "Nueva posicion Inicial: 5 Nueva posicion actual: 6\n",
      "valor actual:  0\n",
      "Es Mayor\n",
      "Nueva posicion Inicial: 5 Nueva posicion actual: 6\n",
      "Nueva posicion Inicial: 5 Nueva posicion actual: 7\n",
      "valor actual:  0\n",
      "Es Mayor\n",
      "Nueva posicion Inicial: 5 Nueva posicion actual: 7\n",
      "Nueva posicion Inicial: 5 Nueva posicion actual: 8\n",
      "valor actual:  1\n",
      "valor1_inicial:  0\n",
      "valor2_actual:  1\n",
      "Nueva posicion Inicial: 5 Nueva posicion actual: 9\n",
      "valor actual:  2\n",
      "valor1_inicial:  1\n",
      "valor2_actual:  2\n",
      "[8, 7, 5, 5, 3, 2, 0, 0, 0, 1]\n",
      "valor inicial:  0\n",
      "Nueva posicion Inicial: 6 Nueva posicion actual: 7\n",
      "valor actual:  0\n",
      "Es Mayor\n",
      "Nueva posicion Inicial: 6 Nueva posicion actual: 7\n",
      "Nueva posicion Inicial: 6 Nueva posicion actual: 8\n",
      "valor actual:  0\n",
      "Es Mayor\n",
      "Nueva posicion Inicial: 6 Nueva posicion actual: 8\n",
      "Nueva posicion Inicial: 6 Nueva posicion actual: 9\n",
      "valor actual:  1\n",
      "valor1_inicial:  0\n",
      "valor2_actual:  1\n",
      "[8, 7, 5, 5, 3, 2, 1, 0, 0, 0]\n",
      "valor inicial:  0\n",
      "Nueva posicion Inicial: 7 Nueva posicion actual: 8\n",
      "valor actual:  0\n",
      "Es Mayor\n",
      "Nueva posicion Inicial: 7 Nueva posicion actual: 8\n",
      "Nueva posicion Inicial: 7 Nueva posicion actual: 9\n",
      "valor actual:  0\n",
      "Es Mayor\n",
      "Nueva posicion Inicial: 7 Nueva posicion actual: 9\n",
      "[8, 7, 5, 5, 3, 2, 1, 0, 0, 0]\n"
     ]
    }
   ],
   "source": [
    "#6 Ordenar de mayor a menor la lista del punto 2 y asignarla a una nueva variable\n",
    "#[1,5,7,0,0,2,5,0,8,3]\n",
    " \n",
    "milista3 = [1,5,7,0,0,2,5,0,8,3]\n",
    " \n",
    "# posicion_inicial: Contador ciclo exterior de la celda que se va a comparar con demas del vector\n",
    "# posicion_actual: Contador ciclo interior, de cada una de las celdas que se van comparando con la exterior\n",
    "#autos = ['mercedez','BMW','Toyota']\n",
    "#for indice in range(len(autos)) #range define un rango que es el tamaño de la lista\n",
    " \n",
    "longitud = len(milista3)\n",
    "print(\"longitud de lista: \", longitud)\n",
    " \n",
    "#for posicion_inicial in range(len(milista)-1):\n",
    "# Ciclo de la celda que estoy validando respecto a las demas\n",
    "for posicion_inicial in range((longitud-2)):\n",
    "    #print(\"Matriz Inicia ciclo INICIAL: \", milista)\n",
    "    #posicion_actual = posicion_inicial + 1\n",
    "    #print(\"posicion inicial -----\", posicion_inicial)\n",
    "    #print(\"posicion actual -----\", posicion_actual)\n",
    "    print(\"valor inicial: \", milista3[posicion_inicial])\n",
    "    #print(\"valor actual: \", milista[posicion_actual])\n",
    " \n",
    "    #for posicion_actual in milista[1:]:\n",
    "    #for posicion_actual in range ((posicion_inicial+1),(longitud-1)):\n",
    "    for posicion_actual in range ((posicion_inicial+1),(longitud)): \n",
    "        print(\"Nueva posicion Inicial: {} Nueva posicion actual: {}\".format(posicion_inicial, posicion_actual))\n",
    "        #print(\"Matriz Inicia ciclo ACTUAL 1: \", milista)\n",
    "        #ubicacion = posicion_inicial + 1\n",
    "        #posicion_actual = posicion_actual + 1\n",
    "        #print(\"posicion actual -----\", posicion_actual)\n",
    "        print(\"valor actual: \", milista3[posicion_actual])\n",
    "        #print(\"Matriz Inicia ciclo ACTUAL 2: \", milista)\n",
    " \n",
    "        if milista3[posicion_inicial] >= milista3[posicion_actual]:\n",
    "            print(\"Es Mayor\")\n",
    "            #posicion_actual = posicion_actual + 1\n",
    "            print(\"Nueva posicion Inicial: {} Nueva posicion actual: {}\".format(posicion_inicial, posicion_actual))\n",
    " \n",
    "        else:\n",
    "            valor_1 = milista3[posicion_inicial]\n",
    "            valor_2 = milista3[posicion_actual]\n",
    "            print(\"valor1_inicial: \",valor_1)\n",
    "            print(\"valor2_actual: \", valor_2)\n",
    "            milista3[posicion_inicial] = valor_2\n",
    "            milista3[posicion_actual] = valor_1\n",
    "            posicion_actual = posicion_actual + 1\n",
    "            #print(\"Nueva posicion Inicial: {} Nueva posicion actual: {}\".format(posicion_inicial, posicion_actual))\n",
    "            #print(\"Nueva posicion actual: \", posicion_actual)\n",
    " \n",
    " \n",
    "        #print(\"Finaliza Ciclo ACTUAL: \", milista)\n",
    " \n",
    "            #print(\"el valor de a es {}:\\nel valor de b es {}\".format(a,b))\n",
    "    #posicion_actual = posicion_inicial + 1\n",
    "    print(milista3)"
   ]
  },
  {
   "cell_type": "code",
   "execution_count": 7,
   "metadata": {},
   "outputs": [
    {
     "name": "stdout",
     "output_type": "stream",
     "text": [
      "10\n"
     ]
    }
   ],
   "source": [
    "#7 Calcular la longitud de la lista\n",
    "long = len(milista)\n",
    "print(long)"
   ]
  },
  {
   "cell_type": "code",
   "execution_count": 8,
   "metadata": {},
   "outputs": [
    {
     "name": "stdout",
     "output_type": "stream",
     "text": [
      "[1, 7, 0, 5, 8]\n"
     ]
    }
   ],
   "source": [
    "#8 imprimir los siguientes numeros a partir de la lista del punto -[1,5,7,0,0,2,5,0,8,3]- 2 en una \n",
    "# sola linea [1, 7, 0, 5, 8]\n",
    "\n",
    "x = (milista[0::2])\n",
    "print(x)"
   ]
  },
  {
   "cell_type": "code",
   "execution_count": 9,
   "metadata": {},
   "outputs": [
    {
     "name": "stdout",
     "output_type": "stream",
     "text": [
      "Hola\n",
      "H-o-l-a\n",
      "123\n",
      "123\n"
     ]
    }
   ],
   "source": [
    "#9 convertir la lista ['H','o','l','a'] a un string 'Hola' y asignarlo a una nueva variable\n",
    "\n",
    "milista4 = ['H','o','l','a']\n",
    "\n",
    "strHola = ''.join(milista4)\n",
    "print (strHola)\n",
    "\n",
    "strHola = '-'.join(milista4)\n",
    "print (strHola)\n",
    "\n",
    "\n",
    "list1 = ['1', '2', '3']\n",
    "str1 = ''.join(list1)\n",
    "print(str1)\n",
    "\n",
    "list2 = [1, 2, 3]\n",
    "str2 = ''.join(str(e) for e in list2)\n",
    "print(str2)\n",
    "\n",
    "#list1 = ['1', '2', '3']\n",
    "#str1 = ''.join(list1)\n",
    "\n",
    "#list1 = [1, 2, 3]\n",
    "#str1 = ''.join(str(e) for e in list1)"
   ]
  },
  {
   "cell_type": "code",
   "execution_count": 10,
   "metadata": {},
   "outputs": [
    {
     "name": "stdout",
     "output_type": "stream",
     "text": [
      "['H', 'O', 'L', 'A']\n"
     ]
    }
   ],
   "source": [
    "#10 convertir el string 'Hola' en la lista ['H','o','l','a'] y asignarlo a una nueva variable\n",
    "\n",
    "milista5 = list('HOLA')\n",
    "print(milista5)\n"
   ]
  },
  {
   "cell_type": "code",
   "execution_count": 13,
   "metadata": {},
   "outputs": [
    {
     "name": "stdout",
     "output_type": "stream",
     "text": [
      "[1, 5, 7, 0, 0, 2, 5, 0, 8, 3, 7.5, 8.1, 9.6]\n",
      "[1, 5, 7, 0, 0, 2, 5, 0, 8, 3, [7.5, 8.1]]\n",
      "[1, 5, 7, 0, 0, 2, 5, 0, 8, 3, [7.5]]\n",
      "[1, 5, 7, 0, 0, 2, 5, 0, 8, 3, 7.5]\n",
      "[1, 5, 7, 0, 0, 2, 5, 0, 8, 3, 7.5, 8.1, 9.6]\n"
     ]
    }
   ],
   "source": [
    "#11 a la lista del punto 2 agregarle los valores 7.5,8.1 y 9.6 al final.\n",
    "# usa el metodo extend y el metodo append para obtener la siguiente lista:\n",
    "# [1,5,7,0,0,2,5,0,8,3,7.5,8.1,9.6]\n",
    "\n",
    "milista = [1,5,7,0,0,2,5,0,8,3]\n",
    "milista.extend([7.5, 8.1, 9.6])\n",
    "print(milista)\n",
    "\n",
    "milista = [1,5,7,0,0,2,5,0,8,3]\n",
    "milista.append([7.5,8.1])\n",
    "print(milista)\n",
    "\n",
    "milista = [1,5,7,0,0,2,5,0,8,3]\n",
    "milista.append([7.5])\n",
    "print(milista)\n",
    "\n",
    "milista = [1,5,7,0,0,2,5,0,8,3]\n",
    "milista.append(7.5)\n",
    "print(milista)\n",
    "\n",
    "milista = [1,5,7,0,0,2,5,0,8,3]\n",
    "milista.append(7.5)\n",
    "milista.append(8.1)\n",
    "milista.append(9.6)\n",
    "print(milista)\n",
    "\n",
    "#append adds its argument as a single element to the end of a list. The length of the list itself \n",
    "#will increase by one. extend iterates over its argument adding each element to the list, extending the list. \n",
    "#The length of the list will increase by however many elements were in the iterable argument."
   ]
  },
  {
   "cell_type": "code",
   "execution_count": 14,
   "metadata": {},
   "outputs": [
    {
     "name": "stdout",
     "output_type": "stream",
     "text": [
      "[1, 5, 7, 0, 0, 2, 5, 0, 8, 3, 7.5, 8.1, 9.6]\n"
     ]
    }
   ],
   "source": [
    "#12 has los mismo del paso anterior usando conlcatenacion de listas (operador +)\n",
    "# asigna esta lista a una nueva variable\n",
    "milista = [1,5,7,0,0,2,5,0,8,3]\n",
    "milista6 = [7.5,8.1,9.6]\n",
    "\n",
    "milista7 = milista + milista6\n",
    "print (milista7)"
   ]
  },
  {
   "cell_type": "code",
   "execution_count": 15,
   "metadata": {},
   "outputs": [
    {
     "name": "stdout",
     "output_type": "stream",
     "text": [
      "[1, 25, 49, 0, 0, 4, 25, 0, 64, 9, 56.25, 65.61, 92.16]\n"
     ]
    }
   ],
   "source": [
    "#13 con la lista del punto 12 crea una nueva lista con el cuadrado de cada uno de los valores\n",
    "# [1,25,49,...,92.16]\n",
    "\n",
    "#def square(list):\n",
    "    #return [i ** 2 for i in list]\n",
    "  \n",
    "milista7 = [1, 5, 7, 0, 0, 2, 5, 0, 8, 3, 7.5, 8.1, 9.6]\n",
    "\n",
    "def square(lista):\n",
    "    return [i ** 2 for i in lista]\n",
    "\n",
    "\n",
    "milista8 = square(milista7)\n",
    "print (milista8)"
   ]
  },
  {
   "cell_type": "code",
   "execution_count": 16,
   "metadata": {},
   "outputs": [
    {
     "name": "stdout",
     "output_type": "stream",
     "text": [
      "Object `index` not found.\n"
     ]
    }
   ],
   "source": [
    "#14 la ayuda (help o documentacion oficial de python) para cada uno de los \n",
    "# siguiente metodos type, max, round, len, index\n",
    "\n",
    "\n",
    "#?type\n",
    "#type(milista8)\n",
    "#?max\n",
    "#max(milista8)\n",
    "#? round\n",
    "#round(milista8[10],1)\n",
    "?index\n"
   ]
  },
  {
   "cell_type": "markdown",
   "metadata": {},
   "source": [
    "### numpy"
   ]
  },
  {
   "cell_type": "code",
   "execution_count": 17,
   "metadata": {},
   "outputs": [],
   "source": [
    "#1 importar numpy con el alias np\n",
    "import numpy as np\n",
    "\n"
   ]
  },
  {
   "cell_type": "code",
   "execution_count": 18,
   "metadata": {},
   "outputs": [
    {
     "name": "stdout",
     "output_type": "stream",
     "text": [
      "[0. 0. 0. 0. 0. 0. 0. 0. 0. 0. 0. 0. 0. 0. 0. 0. 0. 0. 0. 0. 0. 0. 0. 0.\n",
      " 0. 0. 0. 0. 0. 0. 0. 0. 0. 0. 0. 0. 0. 0. 0. 0. 0. 0. 0. 0. 0. 0. 0. 0.\n",
      " 0. 0. 0. 0. 0. 0. 0. 0. 0. 0. 0. 0. 0. 0. 0. 0. 0. 0. 0. 0. 0. 0. 0. 0.\n",
      " 0. 0. 0. 0. 0. 0. 0. 0. 0. 0. 0. 0. 0. 0. 0. 0. 0. 0. 0. 0. 0. 0. 0. 0.\n",
      " 0. 0. 0. 0.]\n",
      "0:00:00.003256\n"
     ]
    },
    {
     "data": {
      "text/plain": [
       "numpy.ndarray"
      ]
     },
     "execution_count": 18,
     "metadata": {},
     "output_type": "execute_result"
    }
   ],
   "source": [
    "#2 Crear un vector de 100 ceros (zeros)\n",
    "from datetime import datetime\n",
    "startTime = datetime.now()\n",
    "\n",
    "vectorCeros = np.zeros(100)\n",
    "print(vectorCeros)\n",
    "\n",
    "#np.zeros(100)\n",
    "print (datetime.now()-startTime)\n",
    "\n",
    "type(vectorCeros)\n",
    "\n",
    "# Create a vector as a row\n",
    "#vector_row = np.array([1, 2, 3])\n",
    "\n",
    "# Create a vector as a column\n",
    "#vector_column = np.array([[1],\n",
    "#                          [2],\n",
    "#                          [3]])\n",
    "                       "
   ]
  },
  {
   "cell_type": "code",
   "execution_count": 19,
   "metadata": {},
   "outputs": [
    {
     "name": "stdout",
     "output_type": "stream",
     "text": [
      "[1. 1. 1. 1. 1. 1. 1. 1. 1. 1. 1. 1. 1. 1. 1. 1. 1. 1. 1. 1. 1. 1. 1. 1.\n",
      " 1. 1. 1. 1. 1. 1. 1. 1. 1. 1. 1. 1. 1. 1. 1. 1. 1. 1. 1. 1. 1. 1. 1. 1.\n",
      " 1. 1. 1. 1. 1. 1. 1. 1. 1. 1. 1. 1. 1. 1. 1. 1. 1. 1. 1. 1. 1. 1. 1. 1.\n",
      " 1. 1. 1. 1. 1. 1. 1. 1. 1. 1. 1. 1. 1. 1. 1. 1. 1. 1. 1. 1. 1. 1. 1. 1.\n",
      " 1. 1. 1. 1.]\n",
      "0:00:00.003339\n"
     ]
    },
    {
     "data": {
      "text/plain": [
       "numpy.ndarray"
      ]
     },
     "execution_count": 19,
     "metadata": {},
     "output_type": "execute_result"
    }
   ],
   "source": [
    "#3 Crear un vector de 100 unos\n",
    "from datetime import datetime\n",
    "startTime = datetime.now()\n",
    "\n",
    "vectorUnos = np.ones(100)\n",
    "print(vectorUnos)\n",
    "#?type\n",
    "\n",
    "print (datetime.now()-startTime)\n",
    "\n",
    "type(vectorUnos)"
   ]
  },
  {
   "cell_type": "code",
   "execution_count": 20,
   "metadata": {},
   "outputs": [
    {
     "name": "stdout",
     "output_type": "stream",
     "text": [
      "El punto 3, el de los Ones.\n"
     ]
    }
   ],
   "source": [
    "#4 entre el punto 2 y 3 cual se demora mas?\n",
    "#El punto 3\n",
    "print(\"El punto 3, el de los Ones.\")"
   ]
  },
  {
   "cell_type": "code",
   "execution_count": 91,
   "metadata": {},
   "outputs": [
    {
     "name": "stdout",
     "output_type": "stream",
     "text": [
      "lista12 [10, 11, 12, 13, 14, 15, 16, 17, 18, 19, 20, 21, 22, 23, 24, 25, 26, 27, 28, 29, 30, 31, 32, 33, 34, 35, 36, 37, 38, 39, 40, 41, 42, 43, 44, 45, 46, 47, 48, 49]\n",
      "tiempo lista 12:  546\n",
      "lista13 [10, 11, 12, 13, 14, 15, 16, 17, 18, 19, 20, 21, 22, 23, 24, 25, 26, 27, 28, 29, 30, 31, 32, 33, 34, 35, 36, 37, 38, 39, 40, 41, 42, 43, 44, 45, 46, 47, 48, 49]\n",
      "tiempo lista 13:  4244\n",
      "lista14 [10 11 12 13 14 15 16 17 18 19 20 21 22 23 24 25 26 27 28 29 30 31 32 33\n",
      " 34 35 36 37 38 39 40 41 42 43 44 45 46 47 48 49]\n",
      "tiempo lista 14:  54884\n"
     ]
    },
    {
     "data": {
      "text/plain": [
       "'\\nfrom datetime import datetime\\nstartTime = datetime.now()\\n\\nmilista9 = \"10 11 12 13 14 15 16 17 18 19 20 21 22 23 24 25 26 27 28 29 30 31 32 33 34 35 36 37 38 39 40 41 42 43 44 45 46 47 48 49\"\\nmilista10 = milista9.split(\" \")\\nvector_1 = np.array(milista10)\\nprint(vector_1)\\n\\nprint (datetime.now()-startTime)\\n\\n\\nprint(\"Posicion 3: \",vector_1[3])\\nprint(\"Posicion 3 -- OJO: \",milista9[3])\\nprint(\"Posicion 3: \",milista10[3])\\n\\n\\ntype(vector_1)\\n#--\\n\\n#for i in range (0,39):\\n#  for contador in range (0,49):\\n    #vect =vect[i]\\n  #vect = np.array(vect[i])\\n  #print(vect)\\n\\n\\nprint(\"---- OPTIMIZADO ---\")\\n\\nfrom datetime import datetime\\nstartTime = datetime.now()\\n\\nmilista11 = np.arange(10,50,1)\\nprint(milista11)\\nprint (datetime.now()-startTime)\\n\\ntype(milista11)\\n'"
      ]
     },
     "execution_count": 91,
     "metadata": {},
     "output_type": "execute_result"
    }
   ],
   "source": [
    "#5 crear un vector entre 10 y 49\n",
    "\n",
    "#a = np.array([1,2,3])\n",
    "#>>> b = np.array([(1.5,2,3),\n",
    "\n",
    "#milista8 = \"10 11 12 13 14 15 16 17 18 19 20 21 22 23 24 25 26 27 28 29 30 31 32 33 34 35 36 37 38 39 40 41 42 43 44 45 46 47 48 49\"\n",
    "#milista9 = milista8.split(\" \")\n",
    "#vector1 = np.array(milista9)\n",
    "#print(vector1)\n",
    "\n",
    "#a = np.array([1,2,3])\n",
    "#>>> b = np.array([(1.5,2,3),\n",
    "\n",
    "#milista9 = \"10 11 12 13 14 15 16 17 18 19 20 21 22 23 24 25 26 27 28 29 30 31 32 33 34 35 36 37 38 39 40 41 42 43 44 45 46 47 48 49\"\n",
    "#milista10 = milista9.split(\" \")\n",
    "#vector_1 = np.array(milista10)\n",
    "#print(vector_1)\n",
    "\n",
    "#print(\"Posicion 3: \",vector_1[3])\n",
    "\n",
    "#type(vector_1)\n",
    "\n",
    "#for i in range (0,39):\n",
    "#  for contador in range (0,49):\n",
    "    #vect =vect[i]\n",
    "  #vect = np.array(vect[i])\n",
    "  #print(vect)\n",
    "\n",
    "from datetime import datetime\n",
    "\n",
    "time1 = datetime.now()\n",
    "lista12 = []\n",
    "for x in range(10,50,1):\n",
    "    lista12.append(x)\n",
    "print(\"lista12\",lista12)\n",
    "type(lista12)\n",
    "print(\"tiempo lista 12: \", (datetime.now() - time1).microseconds)\n",
    "\n",
    "\n",
    "\n",
    "time2= datetime.now()\n",
    "lista13 = [x for x in range(10,50,1)]\n",
    "print(\"lista13\", lista13)\n",
    "type(lista13)\n",
    "print(\"tiempo lista 13: \", (datetime.now() - time2).microseconds)\n",
    "\n",
    "#Esta seria la forma idonea de acuerdo con Numpy\n",
    "time3= datetime.now()\n",
    "lista14 = np.arange(10,50,1)\n",
    "print (\"lista14\", lista14)\n",
    "print(\"tiempo lista 14: \", (datetime.now() - time3).microseconds)\n",
    "type(lista14)\n",
    "\n",
    "\"\"\"\n",
    "from datetime import datetime\n",
    "startTime = datetime.now()\n",
    "\n",
    "milista9 = \"10 11 12 13 14 15 16 17 18 19 20 21 22 23 24 25 26 27 28 29 30 31 32 33 34 35 36 37 38 39 40 41 42 43 44 45 46 47 48 49\"\n",
    "milista10 = milista9.split(\" \")\n",
    "vector_1 = np.array(milista10)\n",
    "print(vector_1)\n",
    "\n",
    "print (datetime.now()-startTime)\n",
    "\n",
    "\n",
    "print(\"Posicion 3: \",vector_1[3])\n",
    "print(\"Posicion 3 -- OJO: \",milista9[3])\n",
    "print(\"Posicion 3: \",milista10[3])\n",
    "\n",
    "\n",
    "type(vector_1)\n",
    "#--\n",
    "\n",
    "#for i in range (0,39):\n",
    "#  for contador in range (0,49):\n",
    "    #vect =vect[i]\n",
    "  #vect = np.array(vect[i])\n",
    "  #print(vect)\n",
    "\n",
    "\n",
    "print(\"---- OPTIMIZADO ---\")\n",
    "\n",
    "from datetime import datetime\n",
    "startTime = datetime.now()\n",
    "\n",
    "milista11 = np.arange(10,50,1)\n",
    "print(milista11)\n",
    "print (datetime.now()-startTime)\n",
    "\n",
    "type(milista11)\n",
    "\"\"\""
   ]
  },
  {
   "cell_type": "code",
   "execution_count": 92,
   "metadata": {},
   "outputs": [
    {
     "data": {
      "text/plain": [
       "{'0': 0,\n",
       " '1': 1,\n",
       " '10': 10,\n",
       " '11': 11,\n",
       " '12': 12,\n",
       " '13': 13,\n",
       " '14': 14,\n",
       " '15': 15,\n",
       " '16': 16,\n",
       " '17': 17,\n",
       " '18': 18,\n",
       " '19': 19,\n",
       " '2': 2,\n",
       " '3': 3,\n",
       " '4': 4,\n",
       " '5': 5,\n",
       " '6': 6,\n",
       " '7': 7,\n",
       " '8': 8,\n",
       " '9': 9}"
      ]
     },
     "execution_count": 92,
     "metadata": {},
     "output_type": "execute_result"
    }
   ],
   "source": [
    "# Comprehension para diccionario\n",
    "d = {str(i): i for i in range(20)}\n",
    "d"
   ]
  },
  {
   "cell_type": "code",
   "execution_count": 48,
   "metadata": {},
   "outputs": [
    {
     "data": {
      "text/plain": [
       "numpy.ndarray"
      ]
     },
     "execution_count": 48,
     "metadata": {},
     "output_type": "execute_result"
    }
   ],
   "source": [
    "#6 dale vuelta al vector anterior (los ultimos seran los primeros)\n",
    "lista15 = lista14[::-1]\n",
    "lista15\n",
    "type(lista15)"
   ]
  },
  {
   "cell_type": "code",
   "execution_count": 64,
   "metadata": {},
   "outputs": [
    {
     "data": {
      "text/plain": [
       "array([[10, 11, 12, 13, 14, 15, 16, 17, 18, 19],\n",
       "       [20, 21, 22, 23, 24, 25, 26, 27, 28, 29],\n",
       "       [30, 31, 32, 33, 34, 35, 36, 37, 38, 39],\n",
       "       [40, 41, 42, 43, 44, 45, 46, 47, 48, 49]])"
      ]
     },
     "execution_count": 64,
     "metadata": {},
     "output_type": "execute_result"
    }
   ],
   "source": [
    "#7 convierte el array anterior a un de (4x10) asi:\n",
    "#array([[10, 11, 12, 13, 14, 15, 16, 17, 18, 19],\n",
    "#       [20, 21, 22, 23, 24, 25, 26, 27, 28, 29],\n",
    "#       [30, 31, 32, 33, 34, 35, 36, 37, 38, 39],\n",
    "#       [40, 41, 42, 43, 44, 45, 46, 47, 48, 49]])\n",
    "\n",
    "lista16 = lista14.reshape(4, 10)\n",
    "#lista16 = np.hsplit(lista15, 10)\n",
    "lista16\n",
    "#lista16.shape\n"
   ]
  },
  {
   "cell_type": "code",
   "execution_count": 103,
   "metadata": {},
   "outputs": [
    {
     "name": "stdout",
     "output_type": "stream",
     "text": [
      "Posicion con valor diferente a cero:  [0]\n",
      "Posicion con valor diferente a cero:  [1]\n",
      "Posicion con valor diferente a cero:  [4]\n"
     ]
    }
   ],
   "source": [
    "#8 encuentra los indices las posiciones diferentes de cero en el siguiente lista\n",
    "#[1,2,0,0,4,0]\n",
    "\n",
    "lista17 = [1, 2, 0, 0, 4, 0]\n",
    "longitud = len(lista17)\n",
    "longitud\n",
    "\n",
    "#print(lista17)\n",
    "#posicion = [x for x in lista17]\n",
    "\n",
    " #>>> [(x, y) for x in [1,2,3] for y in [3,1,4] if x != y]\n",
    "    #[(1, 3), (1, 4), (2, 3), (2, 1), (2, 4), (3, 1), (3, 4)]\n",
    "#print(\"val x:\", x)\n",
    "#print(posicion)\n",
    "\n",
    "#ceros = []\n",
    "contador_externo = 0\n",
    "#contador_interno = 0\n",
    "\n",
    "for contador_externo in range (0,longitud):\n",
    "  if lista17[contador_externo] != 0:\n",
    "    print(\"Posicion con valor diferente a cero: \",[contador_externo])\n",
    "  \n",
    "        #cuadrados = [x ** 2 for x in range(10)]\n",
    "    \n",
    "    #>>> [(x, y) for x in [1,2,3] for y in [3,1,4] if x != y]\n",
    "    #[(1, 3), (1, 4), (2, 3), (2, 1), (2, 4), (3, 1), (3, 4)]\n",
    "  "
   ]
  },
  {
   "cell_type": "code",
   "execution_count": 117,
   "metadata": {},
   "outputs": [
    {
     "ename": "SyntaxError",
     "evalue": "invalid syntax (<ipython-input-117-82d13d5a2b32>, line 6)",
     "output_type": "error",
     "traceback": [
      "\u001b[0;36m  File \u001b[0;32m\"<ipython-input-117-82d13d5a2b32>\"\u001b[0;36m, line \u001b[0;32m6\u001b[0m\n\u001b[0;31m    enteros = [Z for np.random.uniform(0,10,10)]\u001b[0m\n\u001b[0m                                               ^\u001b[0m\n\u001b[0;31mSyntaxError\u001b[0m\u001b[0;31m:\u001b[0m invalid syntax\n"
     ]
    }
   ],
   "source": [
    "#9 extraer parte entera del array Z = np.random.uniform(0,10,10) - Proponer 3 formas\n",
    "# diferentes de hacerlo\n",
    "Z = np.random.uniform(0,10,10)\n",
    "print(Z)\n",
    "\n",
    "enteros = [Z for np.random.uniform(0,10,10)]\n",
    "\n",
    "#int(123) is: 123\n",
    "#int(123.23) is: 123\n",
    "#int('123') is: 123"
   ]
  },
  {
   "cell_type": "code",
   "execution_count": null,
   "metadata": {},
   "outputs": [],
   "source": [
    "#10 ordenar el siguiente array aleatorio Z = np.random.random(10), sin usar un metodo especial para ello y usandolo"
   ]
  },
  {
   "cell_type": "code",
   "execution_count": null,
   "metadata": {},
   "outputs": [],
   "source": [
    "#11 crear un array de 50x2, cada fila representa una coordenada en el plano cartesiano, \n",
    "# convertirlas a cordenadas polares https://es.wikipedia.org/wiki/Coordenadas_polares\n",
    "\n",
    "Z = np.random.random((50,2))\n",
    "R = np.sqrt(X**2+Y**2)\n",
    "T = np.arctan2(Y,X)\n",
    "print(R)\n",
    "print(T)"
   ]
  },
  {
   "cell_type": "code",
   "execution_count": null,
   "metadata": {},
   "outputs": [],
   "source": [
    "#12 Crea un vector aleatorio y reemplaza el maximo valor por 0"
   ]
  },
  {
   "cell_type": "code",
   "execution_count": null,
   "metadata": {
    "hideOutput": true
   },
   "outputs": [],
   "source": [
    "#13 Crear dos arrays de dimension 10 cada uno y construir la matriz de Cauchy \n",
    "#a partir de ellos https://en.wikipedia.org/wiki/Cauchy_matrix\n",
    "#usar el metodo subtract.outer"
   ]
  },
  {
   "cell_type": "code",
   "execution_count": null,
   "metadata": {},
   "outputs": [],
   "source": [
    "#14 dado un numero entero, encontrar el valor mas cercano al entero en un array"
   ]
  },
  {
   "cell_type": "code",
   "execution_count": null,
   "metadata": {},
   "outputs": [],
   "source": [
    "#15 crea un vector de numero aleatorios de 50x2, cada fila representa una coordenada.\n",
    "# calcular la distancia Euclidiana entre los puntos"
   ]
  },
  {
   "cell_type": "code",
   "execution_count": null,
   "metadata": {},
   "outputs": [],
   "source": []
  },
  {
   "cell_type": "markdown",
   "metadata": {},
   "source": [
    "### Pandas"
   ]
  },
  {
   "cell_type": "code",
   "execution_count": null,
   "metadata": {},
   "outputs": [],
   "source": [
    "#1 importar pandas"
   ]
  },
  {
   "cell_type": "code",
   "execution_count": null,
   "metadata": {},
   "outputs": [],
   "source": [
    "#2 importar csv (airquality.csv)"
   ]
  },
  {
   "cell_type": "code",
   "execution_count": null,
   "metadata": {},
   "outputs": [],
   "source": [
    "#3 importar xlsx (Iris.xls) hay informacion en todas las hojas, al final la info debe\n",
    "# quedar en una sola DataFrame. Explorar concat"
   ]
  },
  {
   "cell_type": "code",
   "execution_count": null,
   "metadata": {},
   "outputs": [],
   "source": [
    "#4 con la df del punto 2, asignar la columna 'Wind' a una serie y a un dataframe, \n",
    "# validar el tipo de dato con el metodo type"
   ]
  },
  {
   "cell_type": "code",
   "execution_count": null,
   "metadata": {},
   "outputs": [],
   "source": [
    "#5 En la df del punto 2, filtrar los datos con que en Solar.R sean menores a 100 y en\n",
    "# el campo Temp sean mayores 10"
   ]
  },
  {
   "cell_type": "code",
   "execution_count": null,
   "metadata": {},
   "outputs": [],
   "source": [
    "#6 En la df del punto 2, filtrar los datos con que en Solar.R sean menores a 100 o en\n",
    "# el campo Temp sean mayores 10"
   ]
  },
  {
   "cell_type": "code",
   "execution_count": null,
   "metadata": {},
   "outputs": [],
   "source": [
    "#7 En la df del punto 2, imputar los datos usando la media"
   ]
  },
  {
   "cell_type": "code",
   "execution_count": null,
   "metadata": {},
   "outputs": [],
   "source": [
    "#8 En la df del punto 3 usar los siguientes metodos y atributos: shape, columns, head,\n",
    "#tail, info. Dar una definicion de cada uno de ellos y decir cuales son metodos y cuales\n",
    "#atributos"
   ]
  },
  {
   "cell_type": "code",
   "execution_count": null,
   "metadata": {},
   "outputs": [],
   "source": [
    "#9 En la df del punto 3, normalizar sin usar un metodo especifico para ello"
   ]
  },
  {
   "cell_type": "code",
   "execution_count": null,
   "metadata": {},
   "outputs": [],
   "source": [
    "#10 En la df del punto 3, estandarizar sin usar un metodo especifico para ello"
   ]
  },
  {
   "cell_type": "code",
   "execution_count": null,
   "metadata": {},
   "outputs": [],
   "source": [
    "#11 calcular un nuevo descriptor con las variables originales en la df del punto 3"
   ]
  },
  {
   "cell_type": "code",
   "execution_count": null,
   "metadata": {},
   "outputs": [],
   "source": [
    "#12 en la df del punto 3 usar el metodo apply y convertir la columna de las clases a\n",
    "#strings con mayusculas"
   ]
  },
  {
   "cell_type": "code",
   "execution_count": null,
   "metadata": {},
   "outputs": [],
   "source": [
    "#13 exportar la df del punto 3 a Excel"
   ]
  },
  {
   "cell_type": "markdown",
   "metadata": {},
   "source": [
    "### Condicionales y ciclos"
   ]
  },
  {
   "cell_type": "code",
   "execution_count": null,
   "metadata": {},
   "outputs": [],
   "source": [
    "#1 imprimir los numeros impares del 1 al 1000"
   ]
  },
  {
   "cell_type": "code",
   "execution_count": null,
   "metadata": {},
   "outputs": [],
   "source": [
    "#2 imprimir los numeros pares del 1 al 1000"
   ]
  },
  {
   "cell_type": "code",
   "execution_count": null,
   "metadata": {},
   "outputs": [],
   "source": [
    "#3 imprimir los numero pares, impares y divisibles por 3, del 1 al 1000, indicando a que \n",
    "#categoria pertenencen.\n",
    "#3.1 contar cuantos hay de cada uno"
   ]
  },
  {
   "cell_type": "code",
   "execution_count": null,
   "metadata": {},
   "outputs": [],
   "source": [
    "#4 imprimir los numeros divisibles por 7 del 1 al 1000"
   ]
  },
  {
   "cell_type": "code",
   "execution_count": null,
   "metadata": {
    "hideOutput": true
   },
   "outputs": [],
   "source": [
    "#5 usando ciclos for crear la siguiente figura"
   ]
  },
  {
   "cell_type": "code",
   "execution_count": null,
   "metadata": {},
   "outputs": [],
   "source": [
    "#6 imprimir los numeros divisibles por 7 y por 3 entre 5000 y 15000"
   ]
  },
  {
   "cell_type": "code",
   "execution_count": null,
   "metadata": {},
   "outputs": [],
   "source": [
    "#7 Encontrar las palabras palindromas en el siguiente listado\n",
    "#https://github.com/javierarce/palabras/blob/master/listado-general.txt\n",
    "#https://es.wikipedia.org/wiki/Pal%C3%ADndromo"
   ]
  },
  {
   "cell_type": "code",
   "execution_count": null,
   "metadata": {},
   "outputs": [],
   "source": [
    "#8 imprimir los primero 1000 numeros de la serie Fibonacci\n",
    "#https://es.wikipedia.org/wiki/Sucesi%C3%B3n_de_Fibonacci"
   ]
  },
  {
   "cell_type": "code",
   "execution_count": null,
   "metadata": {},
   "outputs": [],
   "source": [
    "#9 usar un ciclo for para construir la siguiente figura\n",
    "#for i in range(10):\n",
    "#    print(str(i) * i)\n",
    "    \n",
    "1\n",
    "22\n",
    "333\n",
    "4444\n",
    "55555\n",
    "666666\n",
    "7777777\n",
    "88888888\n",
    "999999999"
   ]
  },
  {
   "cell_type": "code",
   "execution_count": null,
   "metadata": {},
   "outputs": [],
   "source": [
    "#10 n! (n factorial) significa n × (n − 1) × ... × 3 × 2 × 1\n",
    "# factoria de 5 (5!) es 120, la suma de sus digitos es 1+2+0=3\n",
    "# Calcular la suma de los digitos de 100!"
   ]
  },
  {
   "cell_type": "code",
   "execution_count": null,
   "metadata": {},
   "outputs": [],
   "source": [
    "#11 la serie 1**1 + 2**2 + 3**3 + ... + 10**10 es 10405071317\n",
    "\n",
    "# Encuentra el valor de esta 1**1 + 2**2 + 3**3 + ... + 1000**1000."
   ]
  },
  {
   "cell_type": "code",
   "execution_count": null,
   "metadata": {},
   "outputs": [],
   "source": [
    "#12 2520 es el numero más pequeño que puede ser dividido por todos los numeros del 1 al 10\n",
    "# cual es el numero más pequeño que puede ser dividido por todos los numeros del 1 al 20."
   ]
  },
  {
   "cell_type": "markdown",
   "metadata": {},
   "source": [
    "### Productos matriciales"
   ]
  },
  {
   "cell_type": "code",
   "execution_count": null,
   "metadata": {},
   "outputs": [],
   "source": [
    "#producto punto\n",
    "#implementar una función que dadas dos matrices calcule el \n",
    "\n",
    "#https://es.wikipedia.org/wiki/Producto_escalar\n",
    "#Premio para el que implemente la solución más rápida"
   ]
  },
  {
   "cell_type": "code",
   "execution_count": null,
   "metadata": {},
   "outputs": [],
   "source": [
    "#Producto cruz\n",
    "#Implementar un función que dadas dos matrices de 3X3 calcule el producto cruz\n",
    "\n",
    "#https://es.wikipedia.org/wiki/Producto_vectorial\n",
    "#https://docs.scipy.org/doc/numpy/reference/generated/numpy.linalg.det.html"
   ]
  }
 ],
 "metadata": {
  "kernelspec": {
   "display_name": "Python 3",
   "language": "python",
   "name": "python3"
  },
  "language_info": {
   "codemirror_mode": {
    "name": "ipython",
    "version": 3
   },
   "file_extension": ".py",
   "mimetype": "text/x-python",
   "name": "python",
   "nbconvert_exporter": "python",
   "pygments_lexer": "ipython3",
   "version": "3.4.3"
  }
 },
 "nbformat": 4,
 "nbformat_minor": 2
}
